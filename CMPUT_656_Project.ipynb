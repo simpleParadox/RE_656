{
  "cells": [
    {
      "cell_type": "markdown",
      "metadata": {
        "id": "view-in-github",
        "colab_type": "text"
      },
      "source": [
        "<a href=\"https://colab.research.google.com/github/simpleParadox/RE_656/blob/main/CMPUT_656_Project.ipynb\" target=\"_parent\"><img src=\"https://colab.research.google.com/assets/colab-badge.svg\" alt=\"Open In Colab\"/></a>"
      ]
    },
    {
      "cell_type": "code",
      "source": [
        "!pip install sentencepiece"
      ],
      "metadata": {
        "colab": {
          "base_uri": "https://localhost:8080/"
        },
        "id": "OcLYKVX89f9q",
        "outputId": "dbc5b727-2eeb-4f79-821f-9ce579ad00d3"
      },
      "id": "OcLYKVX89f9q",
      "execution_count": null,
      "outputs": [
        {
          "output_type": "stream",
          "name": "stdout",
          "text": [
            "Collecting sentencepiece\n",
            "  Downloading sentencepiece-0.1.96-cp37-cp37m-manylinux_2_17_x86_64.manylinux2014_x86_64.whl (1.2 MB)\n",
            "\u001b[K     |████████████████████████████████| 1.2 MB 4.0 MB/s \n",
            "\u001b[?25hInstalling collected packages: sentencepiece\n",
            "Successfully installed sentencepiece-0.1.96\n"
          ]
        }
      ]
    },
    {
      "cell_type": "code",
      "execution_count": null,
      "id": "271868ee",
      "metadata": {
        "id": "271868ee"
      },
      "outputs": [],
      "source": [
        "import pandas as pd\n",
        "import os\n",
        "import numpy as np\n",
        "import matplotlib.pyplot as plt\n",
        "import seaborn as sns\n",
        "# from keras.callbacks import Callback\n",
        "from sklearn.metrics import confusion_matrix, f1_score, precision_score, recall_score"
      ]
    },
    {
      "cell_type": "code",
      "execution_count": null,
      "id": "75d4aba2",
      "metadata": {
        "id": "75d4aba2"
      },
      "outputs": [],
      "source": [
        "import tokenization\n",
        "\n",
        "import tensorflow as tf\n",
        "import tensorflow_hub as hub\n",
        "from tensorflow.keras.utils import to_categorical\n",
        "from sklearn import preprocessing\n",
        "from sklearn.model_selection import train_test_split\n",
        "from sklearn.model_selection import KFold\n",
        "from sklearn.utils import shuffle\n",
        "from sklearn.metrics import f1_score"
      ]
    },
    {
      "cell_type": "code",
      "execution_count": null,
      "id": "2a30a98e",
      "metadata": {
        "id": "2a30a98e",
        "colab": {
          "base_uri": "https://localhost:8080/",
          "height": 35
        },
        "outputId": "82e51772-b607-44b1-fa3a-7efee02b2451"
      },
      "outputs": [
        {
          "output_type": "execute_result",
          "data": {
            "text/plain": [
              "'2.8.0'"
            ],
            "application/vnd.google.colaboratory.intrinsic+json": {
              "type": "string"
            }
          },
          "metadata": {},
          "execution_count": 8
        }
      ],
      "source": [
        "tf.__version__"
      ]
    },
    {
      "cell_type": "code",
      "execution_count": null,
      "id": "87a850d1",
      "metadata": {
        "id": "87a850d1",
        "colab": {
          "base_uri": "https://localhost:8080/"
        },
        "outputId": "51ff6c5f-0e46-4c4a-fe84-694ebb454bb0"
      },
      "outputs": [
        {
          "output_type": "stream",
          "name": "stdout",
          "text": [
            "/device:GPU:0\n",
            "Found GPU at: /device:GPU:0\n"
          ]
        }
      ],
      "source": [
        "device_name = tf.test.gpu_device_name()\n",
        "print(device_name)\n",
        "if device_name != '/device:GPU:0':\n",
        "  raise SystemError('GPU device not found')\n",
        "print('Found GPU at: {}'.format(device_name))"
      ]
    },
    {
      "cell_type": "code",
      "source": [
        "from google.colab import drive\n",
        "drive.mount('/content/drive')\n",
        "relations_path = '/content/drive/Shareddrives/CMPUT 656 Data and Results/Processed Data/Input_500_29_relation.tsv'"
      ],
      "metadata": {
        "id": "i1moM-Vq-Ig3",
        "colab": {
          "base_uri": "https://localhost:8080/"
        },
        "outputId": "e5a564c6-bd04-463a-ee24-2f851f535a4c"
      },
      "id": "i1moM-Vq-Ig3",
      "execution_count": null,
      "outputs": [
        {
          "output_type": "stream",
          "name": "stdout",
          "text": [
            "Mounted at /content/drive\n"
          ]
        }
      ]
    },
    {
      "cell_type": "code",
      "execution_count": null,
      "id": "a7644a8c",
      "metadata": {
        "id": "a7644a8c"
      },
      "outputs": [],
      "source": [
        "train_data = pd.read_csv(relations_path, encoding='utf-8', sep = '\\t')"
      ]
    },
    {
      "cell_type": "code",
      "execution_count": null,
      "id": "f2ea234a",
      "metadata": {
        "id": "f2ea234a"
      },
      "outputs": [],
      "source": [
        "train_data.fillna(\"\", inplace = True)"
      ]
    },
    {
      "cell_type": "code",
      "execution_count": null,
      "id": "88e6c222",
      "metadata": {
        "id": "88e6c222"
      },
      "outputs": [],
      "source": [
        "# Shuffle data so that there is a higher chance of the train and test data being from the same distribution.\n",
        "train_data = shuffle(train_data, random_state = 1)"
      ]
    },
    {
      "cell_type": "code",
      "execution_count": null,
      "id": "de315f0a",
      "metadata": {
        "id": "de315f0a",
        "colab": {
          "base_uri": "https://localhost:8080/"
        },
        "outputId": "12ba797f-bd38-4338-ed5a-6e1289d92bbf"
      },
      "outputs": [
        {
          "output_type": "stream",
          "name": "stdout",
          "text": [
            "(589617, 2)\n"
          ]
        }
      ],
      "source": [
        "# Now read the rows, convert them into strings and then only keep the unique ones.\n",
        "sentences_and_lables = np.array([[' '.join(map(str, row[:-1].tolist())).strip(), row[-1]] for row in train_data.iloc[:,:].values])\n",
        "print(sentences_and_lables.shape)\n",
        "sentences = sentences_and_lables[:, 0]\n",
        "#labels = sentences_and_lables[:, 1]"
      ]
    },
    {
      "cell_type": "code",
      "execution_count": null,
      "id": "a767941a",
      "metadata": {
        "id": "a767941a"
      },
      "outputs": [],
      "source": [
        "label = preprocessing.LabelEncoder()\n",
        "y = label.fit_transform(train_data['relation'])\n",
        "label_mappings = integer_mapping = {i: l for i, l in enumerate(label.classes_)}\n",
        "# y = to_categorical(y) # doing this later."
      ]
    },
    {
      "cell_type": "code",
      "source": [
        "label_mappings"
      ],
      "metadata": {
        "id": "aK1sMsF4wKn2",
        "colab": {
          "base_uri": "https://localhost:8080/"
        },
        "outputId": "7e0fe523-e740-409a-ba91-20a41e12dc6c"
      },
      "id": "aK1sMsF4wKn2",
      "execution_count": null,
      "outputs": [
        {
          "output_type": "execute_result",
          "data": {
            "text/plain": [
              "{0: 'None',\n",
              " 1: 'award.award_nominated_work.award_nominations..award.award_nomination.award_nominee',\n",
              " 2: 'book.author.works_written',\n",
              " 3: 'book.book.genre',\n",
              " 4: 'business.company.industry',\n",
              " 5: 'education.educational_institution.students_graduates..education.educational_institution.students_graduates',\n",
              " 6: 'film.actor.film..film.performance.character',\n",
              " 7: 'film.director.film',\n",
              " 8: 'film.film.country',\n",
              " 9: 'film.film.genre',\n",
              " 10: 'film.film.language',\n",
              " 11: 'film.film.music',\n",
              " 12: 'film.film.production_companies',\n",
              " 13: 'film.performance.actor..film.performance.film',\n",
              " 14: 'film.producer.film',\n",
              " 15: 'film.writer.film',\n",
              " 16: 'government.political_party.politicians_in_this_party',\n",
              " 17: 'location.location.contains',\n",
              " 18: 'music.artist.album',\n",
              " 19: 'music.artist.origin',\n",
              " 20: 'people.deceased_person.place_of_death',\n",
              " 21: 'people.person.nationality',\n",
              " 22: 'people.person.parents',\n",
              " 23: 'people.person.place_of_birth',\n",
              " 24: 'people.person.profession',\n",
              " 25: 'people.person.religion',\n",
              " 26: 'people.person.spouse_s..people.marriage.spouse',\n",
              " 27: 'soccer.football_position.players',\n",
              " 28: 'sports.sports_team.roster..sports.sports_team_roster.player'}"
            ]
          },
          "metadata": {},
          "execution_count": 10
        }
      ]
    },
    {
      "cell_type": "code",
      "execution_count": null,
      "id": "ba31cda9",
      "metadata": {
        "id": "ba31cda9",
        "colab": {
          "base_uri": "https://localhost:8080/"
        },
        "outputId": "ff335d98-4047-4be0-c603-2396fddf8b18"
      },
      "outputs": [
        {
          "output_type": "stream",
          "name": "stdout",
          "text": [
            "[27  9 21  8 12]\n"
          ]
        }
      ],
      "source": [
        "print(y[:5])"
      ]
    },
    {
      "cell_type": "code",
      "execution_count": null,
      "id": "0c51d433",
      "metadata": {
        "id": "0c51d433",
        "colab": {
          "base_uri": "https://localhost:8080/"
        },
        "outputId": "7faffa4a-7b73-41d4-dd87-68b27c520600"
      },
      "outputs": [
        {
          "output_type": "stream",
          "name": "stdout",
          "text": [
            "['Scorers and assistants Position Name DF  Marko Lomić Marko Lomić'\n",
            " 'Short films Title Genre  Bramadero Bramadero  Erotic'\n",
            " 'First Team Squad Name Nationality  Dídac Vilà Dídac Vilà  Spain'\n",
            " '2010s Film Country  Mother Mother 2009 film   South Korea South Korea'\n",
            " '2000s Film Studio(s)  Monster House Monster House film   Relativity Media Relativity Media ImageMovers ImageMovers and Amblin Entertainment Amblin Entertainment']\n"
          ]
        }
      ],
      "source": [
        "print(sentences[:5])"
      ]
    },
    {
      "cell_type": "code",
      "execution_count": null,
      "id": "38feb66c",
      "metadata": {
        "id": "38feb66c"
      },
      "outputs": [],
      "source": [
        "m_url = 'https://tfhub.dev/tensorflow/bert_en_uncased_L-12_H-768_A-12/2'\n",
        "bert_layer = hub.KerasLayer(m_url, trainable=False)"
      ]
    },
    {
      "cell_type": "code",
      "execution_count": null,
      "id": "f4c035ac",
      "metadata": {
        "id": "f4c035ac"
      },
      "outputs": [],
      "source": [
        "vocab_file = bert_layer.resolved_object.vocab_file.asset_path.numpy()\n",
        "do_lower_case = bert_layer.resolved_object.do_lower_case.numpy()\n",
        "tokenizer = tokenization.FullTokenizer(vocab_file, do_lower_case)\n",
        "\n",
        "def bert_encode(texts, tokenizer, max_len=512):\n",
        "    all_tokens = []\n",
        "    all_masks = []\n",
        "    all_segments = []\n",
        "    \n",
        "    for text in texts:\n",
        "        text = tokenizer.tokenize(text)\n",
        "        \n",
        "        text = text[:max_len-2]\n",
        "        input_sequence = [\"[CLS]\"] + text + [\"[SEP]\"]\n",
        "        pad_len = max_len-len(input_sequence)\n",
        "        \n",
        "        tokens = tokenizer.convert_tokens_to_ids(input_sequence) + [0] * pad_len\n",
        "        pad_masks = [1] * len(input_sequence) + [0] * pad_len\n",
        "        segment_ids = [0] * max_len\n",
        "        \n",
        "        all_tokens.append(tokens)\n",
        "        all_masks.append(pad_masks)\n",
        "        all_segments.append(segment_ids)\n",
        "        \n",
        "    return np.array(all_tokens), np.array(all_masks), np.array(all_segments)"
      ]
    },
    {
      "cell_type": "code",
      "execution_count": null,
      "id": "1f7e990c",
      "metadata": {
        "id": "1f7e990c"
      },
      "outputs": [],
      "source": [
        "def build_model(bert_layer, max_len=512):\n",
        "    input_word_ids = tf.keras.Input(shape=(max_len,), dtype=tf.int32, name=\"input_word_ids\")\n",
        "    input_mask = tf.keras.Input(shape=(max_len,), dtype=tf.int32, name=\"input_mask\")\n",
        "    segment_ids = tf.keras.Input(shape=(max_len,), dtype=tf.int32, name=\"segment_ids\")\n",
        "    \n",
        "    pooled_output, sequence_output = bert_layer([input_word_ids, input_mask, segment_ids])\n",
        "    \n",
        "    print(tf.shape(sequence_output))\n",
        "    clf_output = sequence_output[:, :, :]\n",
        "    print(tf.shape(clf_output))\n",
        "    \n",
        "    lay = tf.keras.layers.Conv1D(filters=8, kernel_size=5, strides=1, padding=\"same\", activation=\"relu\")(clf_output)\n",
        "    lay = tf.keras.layers.MaxPooling1D(2, 2)(lay)\n",
        "    #lay = tf.keras.layers.LSTM(2, return_sequences=True, dropout=0.2)(lay)\n",
        "    lay = tf.keras.layers.Bidirectional(tf.keras.layers.LSTM(8, return_sequences=True, dropout=0.2))(lay)\n",
        "    lay = tf.keras.layers.Flatten()(lay)\n",
        "    out = tf.keras.layers.Dense(29, activation='softmax')(lay)\n",
        "    \n",
        "    model = tf.keras.models.Model(inputs=[input_word_ids, input_mask, segment_ids], outputs=out)\n",
        "    #model.compile(tf.keras.optimizers.Adam(lr=2e-5), loss='categorical_crossentropy', metrics=['accuracy'])\n",
        "    model.compile(tf.keras.optimizers.Adam(lr=2e-5), loss='sparse_categorical_crossentropy', metrics=['accuracy'])\n",
        "    #model.compile(tf.keras.optimizers.RMSprop(lr=0.001), loss='sparse_categorical_crossentropy', metrics=['accuracy'])\n",
        "    \n",
        "    return model"
      ]
    },
    {
      "cell_type": "markdown",
      "id": "8978e352",
      "metadata": {
        "id": "8978e352"
      },
      "source": [
        "### Obtaining Train, test splits.\n",
        "###### In the train splits, we will have a separate validation split."
      ]
    },
    {
      "cell_type": "code",
      "execution_count": null,
      "id": "067426d5",
      "metadata": {
        "id": "067426d5"
      },
      "outputs": [],
      "source": [
        "checkpoint_path = \"training_relations/cp.ckpt\"\n",
        "checkpoint_dir = os.path.dirname(checkpoint_path)"
      ]
    },
    {
      "cell_type": "code",
      "execution_count": null,
      "id": "3b0c4d4e",
      "metadata": {
        "id": "3b0c4d4e"
      },
      "outputs": [],
      "source": [
        "def get_labels(y_pred):\n",
        "    y_pred_label = np.zeros((len(y_pred),1))\n",
        "    print(y_pred_label.shape)\n",
        "    for index in range(len(y_pred)):\n",
        "        y_pred_label[index] = np.argmax(y_pred[index])\n",
        "    return y_pred_label"
      ]
    },
    {
      "cell_type": "markdown",
      "source": [
        "# Do not run the following cell if using checkpointed files."
      ],
      "metadata": {
        "id": "supNxpCZ_xQv"
      },
      "id": "supNxpCZ_xQv"
    },
    {
      "cell_type": "code",
      "execution_count": null,
      "id": "1273f00a",
      "metadata": {
        "id": "1273f00a"
      },
      "outputs": [],
      "source": [
        "# with tf.device('/device:GPU:0'):\n",
        "#     splits = 5 # For five fold cross-validation.\n",
        "#     #seeds = [i for i in range(splits)]  # Fix the seed value for reproducibility.\n",
        "#     seeds = [0] \n",
        "    \n",
        "#     val_dict = {}\n",
        "#     test_dict = {}\n",
        "\n",
        "#     # First get random train-test splits. Doesn't include validation, which will be obtained from the train set.\n",
        "#     for seed in seeds:\n",
        "#         x_t, x_test, y_t, y_test = train_test_split(sentences, y, random_state=seed, test_size=0.2)   # Global training and test sets.\n",
        "\n",
        "#         # Now get validation sets from each training set.\n",
        "# #         kf = KFold(n_splits=5, shuffle=False) # Setting shuffle=False because shuffled dataset already before.\n",
        "# #         fold_count = 0\n",
        "\n",
        "# #         for train_index, val_index in kf.split(x_t):\n",
        "# #             #print(x_t.shape)\n",
        "# #             #print(y_t.shape)\n",
        "# #             x_train, x_val = x_t[train_index], x_t[val_index]   # Training and validation features.\n",
        "# #             y_train, y_val = y_t[train_index], y_t[val_index]   # Training and validation labels.\n",
        "\n",
        "# #             #encode train data\n",
        "# #             max_len = 80\n",
        "# #             train_input = bert_encode(x_train, tokenizer, max_len=max_len)\n",
        "# #             train_labels = y_train\n",
        "# #             x_val = bert_encode(x_val, tokenizer, max_len=max_len)\n",
        "\n",
        "\n",
        "# #             model = build_model(bert_layer, max_len=max_len)\n",
        "# #             model.summary()\n",
        "# #             #checkpoint = tf.keras.callbacks.ModelCheckpoint('model.h5', monitor='val_accuracy', save_best_only=True, verbose=1)\n",
        "# #             checkpoint = tf.keras.callbacks.ModelCheckpoint(filepath=checkpoint_path, save_weights_only=True, verbose=1)\n",
        "# #             earlystopping = tf.keras.callbacks.EarlyStopping(monitor='val_accuracy', patience=5, verbose=1)\n",
        "# #             train_sh = model.fit(\n",
        "# #             train_input, train_labels,\n",
        "# #             #validation_split=0.2,\n",
        "# #             validation_data=(x_val, y_val),\n",
        "# #             epochs=2,\n",
        "# #             callbacks=[checkpoint, earlystopping],\n",
        "# #             batch_size=16,\n",
        "# #             verbose=1)\n",
        "\n",
        "# #             # Validation sets can be used for hyperparamter tuning.  \n",
        "# #             val_dict[str(seed) + str(fold_count)] = train_sh.history\n",
        "# #             fold_count += 1\n",
        "\n",
        "#         #encode whole train data\n",
        "#         max_len = 80\n",
        "#         train_input = bert_encode(x_t, tokenizer, max_len=max_len)\n",
        "#         train_labels = y_t\n",
        "        \n",
        "#         #train model on whole train data\n",
        "#         model = build_model(bert_layer, max_len=max_len)\n",
        "#         model.summary()\n",
        "#         #checkpoint = tf.keras.callbacks.ModelCheckpoint('model.h5', monitor='val_accuracy', save_best_only=True, verbose=1)\n",
        "#         checkpoint = tf.keras.callbacks.ModelCheckpoint(filepath=checkpoint_path, save_weights_only=True, verbose=1)\n",
        "#         earlystopping = tf.keras.callbacks.EarlyStopping(monitor='val_accuracy', patience=5, verbose=1)\n",
        "#         train_sh = model.fit(\n",
        "#         train_input, train_labels,\n",
        "#         validation_split=0,\n",
        "#         epochs=6,\n",
        "#         callbacks=[checkpoint, earlystopping],\n",
        "#         batch_size=16,\n",
        "#         verbose=1)\n",
        "\n",
        "#         #encode test data \n",
        "#         test_input = bert_encode(x_test, tokenizer, max_len=max_len)\n",
        "\n",
        "#         # Evaluate the model on the test data using `evaluate`\n",
        "#         print(\"Evaluate on test data for \", seed)\n",
        "#         results = model.evaluate(test_input, y_test, batch_size=16)\n",
        "\n",
        "#         #calculate F1-score\n",
        "#         y_pred = model.predict(test_input, verbose=1)\n",
        "#         y_pred_label = get_labels(y_pred)\n",
        "#         f1_value = f1_score(y_test, y_pred_label, average='macro')\n",
        "#         results.append(f1_value)\n",
        "#         print(\"test loss, test acc, F1-score:\", results)\n",
        "\n",
        "#         test_dict[seed] = results"
      ]
    },
    {
      "cell_type": "code",
      "execution_count": null,
      "id": "fbcc0f85",
      "metadata": {
        "id": "fbcc0f85"
      },
      "outputs": [],
      "source": [
        "# with open('results seed=0 batch_size=16.txt','w') as data: \n",
        "#     data.write(str(val_dict))\n",
        "#     data.write('\\n')\n",
        "#     data.write(str(test_dict))"
      ]
    },
    {
      "cell_type": "markdown",
      "source": [
        "## The following section is for loading the checkpoint weights and then obtaining the confusion matrix."
      ],
      "metadata": {
        "id": "FeWlf9nu_Pcj"
      },
      "id": "FeWlf9nu_Pcj"
    },
    {
      "cell_type": "code",
      "source": [
        "cms = []"
      ],
      "metadata": {
        "id": "LaUsCtiz29X5"
      },
      "id": "LaUsCtiz29X5",
      "execution_count": null,
      "outputs": []
    },
    {
      "cell_type": "code",
      "execution_count": null,
      "id": "3d262a9e",
      "metadata": {
        "id": "3d262a9e",
        "colab": {
          "base_uri": "https://localhost:8080/"
        },
        "outputId": "eaa4ba2f-3ff4-44f7-f1ed-c94ba0705036"
      },
      "outputs": [
        {
          "output_type": "stream",
          "name": "stdout",
          "text": [
            "KerasTensor(type_spec=TensorSpec(shape=(3,), dtype=tf.int32, name=None), inferred_value=[None, 80, 768], name='tf.compat.v1.shape/Shape:0', description=\"created by layer 'tf.compat.v1.shape'\")\n",
            "KerasTensor(type_spec=TensorSpec(shape=(3,), dtype=tf.int32, name=None), inferred_value=[None, 80, 768], name='tf.compat.v1.shape_1/Shape:0', description=\"created by layer 'tf.compat.v1.shape_1'\")\n",
            "Model: \"model\"\n",
            "__________________________________________________________________________________________________\n",
            " Layer (type)                   Output Shape         Param #     Connected to                     \n",
            "==================================================================================================\n",
            " input_word_ids (InputLayer)    [(None, 80)]         0           []                               \n",
            "                                                                                                  \n",
            " input_mask (InputLayer)        [(None, 80)]         0           []                               \n",
            "                                                                                                  \n",
            " segment_ids (InputLayer)       [(None, 80)]         0           []                               \n",
            "                                                                                                  \n",
            " keras_layer (KerasLayer)       [(None, 768),        109482241   ['input_word_ids[0][0]',         \n",
            "                                 (None, 80, 768)]                 'input_mask[0][0]',             \n",
            "                                                                  'segment_ids[0][0]']            \n",
            "                                                                                                  \n",
            " tf.__operators__.getitem (Slic  (None, 80, 768)     0           ['keras_layer[0][1]']            \n",
            " ingOpLambda)                                                                                     \n",
            "                                                                                                  \n",
            " conv1d (Conv1D)                (None, 80, 8)        30728       ['tf.__operators__.getitem[0][0]'\n",
            "                                                                 ]                                \n",
            "                                                                                                  \n",
            " max_pooling1d (MaxPooling1D)   (None, 40, 8)        0           ['conv1d[0][0]']                 \n",
            "                                                                                                  \n",
            " bidirectional (Bidirectional)  (None, 40, 16)       1088        ['max_pooling1d[0][0]']          \n",
            "                                                                                                  \n",
            " flatten (Flatten)              (None, 640)          0           ['bidirectional[0][0]']          \n",
            "                                                                                                  \n",
            " dense (Dense)                  (None, 29)           18589       ['flatten[0][0]']                \n",
            "                                                                                                  \n",
            "==================================================================================================\n",
            "Total params: 109,532,646\n",
            "Trainable params: 50,405\n",
            "Non-trainable params: 109,482,241\n",
            "__________________________________________________________________________________________________\n"
          ]
        },
        {
          "output_type": "stream",
          "name": "stderr",
          "text": [
            "/usr/local/lib/python3.7/dist-packages/keras/optimizer_v2/adam.py:105: UserWarning: The `lr` argument is deprecated, use `learning_rate` instead.\n",
            "  super(Adam, self).__init__(name, **kwargs)\n"
          ]
        },
        {
          "output_type": "stream",
          "name": "stdout",
          "text": [
            "Evaluate on test data for  4\n",
            "7371/7371 [==============================] - 1525s 205ms/step\n",
            "(117924, 1)\n",
            "Test loss, Test acc, F1-score: [0.9598390948915099]\n"
          ]
        }
      ],
      "source": [
        "#code for loading weights from checkpoint\n",
        "with tf.device('/device:GPU:0'):\n",
        "    results = []\n",
        "    splits = 5 # For five fold cross-validation.\n",
        "    #seeds = [i for i in range(splits)]  # Fix the seed value for reproducibility.\n",
        "    seeds = [4]#0, 1, 2, 3, 4]\n",
        "    \n",
        "    val_dict = {}\n",
        "    test_dict = {}\n",
        "    \n",
        "    # First get random train-test splits. Doesn't include validation, which will be obtained from the train set.\n",
        "    for seed in seeds:\n",
        "        x_t, x_test, y_t, y_test = train_test_split(sentences, y, random_state=seed, test_size=0.2)   # Global training and test sets.\n",
        "\n",
        "        # Evaluate the new model\n",
        "        max_len = 80\n",
        "        new_model = build_model(bert_layer, max_len=max_len)\n",
        "        new_model.summary()\n",
        "        # Loads the weights for new model\n",
        "        checkpoint_path = f\"/content/drive/Shareddrives/CMPUT 656 Data and Results/Result 29 Relations/Seed {seed}/training_relations/cp.ckpt\"\n",
        "        training_relations_path = f\"/content/drive/Shareddrives/CMPUT 656 Data and Results/Result 29 Relations/Seed {seed}/training_relations/\"\n",
        "        # /content/drive/Shareddrives/CMPUT 656 Data and Results/Result 29 Relations/Seed 0/training_relations/cp.ckpt.data-00000-of-00001\n",
        "        \n",
        "\n",
        "        new_model.load_weights(checkpoint_path)\n",
        "\n",
        "        #encode test data\n",
        "        test_input = bert_encode(x_test, tokenizer, max_len=max_len)\n",
        "\n",
        "        # Evaluate the model on the test data using `evaluate`\n",
        "        print(\"Evaluate on test data for \", seed)\n",
        "        # results = new_model.evaluate(test_input, y_test, batch_size=16)\n",
        "\n",
        "        #calculate F1-score\n",
        "        y_pred = new_model.predict(test_input, batch_size=16, verbose=1)\n",
        "        y_pred_label = get_labels(y_pred)\n",
        "        f1_value = f1_score(y_test, y_pred_label, average='macro')\n",
        "        np.savez_compressed(training_relations_path +  \"predictions.npz\", y_pred_label)\n",
        "        cm = confusion_matrix(y_pred_label, y_test, labels=[i for i in label_mappings.keys()])\n",
        "        cms.append(cm)\n",
        "\n",
        "        results.append(f1_value)\n",
        "        print(\"Test loss, Test acc, F1-score:\", results)"
      ]
    },
    {
      "cell_type": "code",
      "source": [
        "for k, v in label_mappings.items():\n",
        "    print(k, v)"
      ],
      "metadata": {
        "colab": {
          "base_uri": "https://localhost:8080/"
        },
        "id": "I7_rkQXbPXb4",
        "outputId": "316b7a41-6fad-4325-da26-e5521f4d4a80"
      },
      "id": "I7_rkQXbPXb4",
      "execution_count": null,
      "outputs": [
        {
          "output_type": "stream",
          "name": "stdout",
          "text": [
            "0 None\n",
            "1 award.award_nominated_work.award_nominations..award.award_nomination.award_nominee\n",
            "2 book.author.works_written\n",
            "3 book.book.genre\n",
            "4 business.company.industry\n",
            "5 education.educational_institution.students_graduates..education.educational_institution.students_graduates\n",
            "6 film.actor.film..film.performance.character\n",
            "7 film.director.film\n",
            "8 film.film.country\n",
            "9 film.film.genre\n",
            "10 film.film.language\n",
            "11 film.film.music\n",
            "12 film.film.production_companies\n",
            "13 film.performance.actor..film.performance.film\n",
            "14 film.producer.film\n",
            "15 film.writer.film\n",
            "16 government.political_party.politicians_in_this_party\n",
            "17 location.location.contains\n",
            "18 music.artist.album\n",
            "19 music.artist.origin\n",
            "20 people.deceased_person.place_of_death\n",
            "21 people.person.nationality\n",
            "22 people.person.parents\n",
            "23 people.person.place_of_birth\n",
            "24 people.person.profession\n",
            "25 people.person.religion\n",
            "26 people.person.spouse_s..people.marriage.spouse\n",
            "27 soccer.football_position.players\n",
            "28 sports.sports_team.roster..sports.sports_team_roster.player\n"
          ]
        }
      ]
    },
    {
      "cell_type": "code",
      "source": [
        "reduced_label_mappings = {\n",
        "    0: 'None',\n",
        "    1: 'award=nominee',\n",
        "    2: 'author-works_written',\n",
        "    3: 'book-genre',\n",
        "    4: 'company-industry',\n",
        "    5: 'person-graduate',\n",
        "    6: 'actor-character',\n",
        "    7: 'director-film',\n",
        "    8: 'film-country',\n",
        "    9: 'film-genre',\n",
        "    10: 'film-language',\n",
        "    11: 'film-music',\n",
        "    12: 'film-production_company',\n",
        "    13: 'actor-film',\n",
        "    14: 'producer-film',\n",
        "    15: 'writer-film',\n",
        "    16: 'political_party-politician',\n",
        "    17: 'location-contains',\n",
        "    18: 'musician-album',\n",
        "    19: 'musician-origin',\n",
        "    20: 'person-place_of_death',\n",
        "    21: 'person-nationality',\n",
        "    22: 'person-parents',\n",
        "    23: 'person-place_of_birth',\n",
        "    24: 'person-profession',\n",
        "    25: 'person-religion',\n",
        "    26: 'person-spouse',\n",
        "    27: 'football_position-player',\n",
        "    28: 'sports_team-player'\n",
        "}"
      ],
      "metadata": {
        "id": "Qz-UVxN7O7lF"
      },
      "id": "Qz-UVxN7O7lF",
      "execution_count": null,
      "outputs": []
    },
    {
      "cell_type": "markdown",
      "source": [
        "# Read in all the predictions for different seeds and make a confusion matrix by averaging them together. \n",
        "\n",
        "NOTE: The confusion matrix is normalized."
      ],
      "metadata": {
        "id": "pMq1QPcfCwXD"
      },
      "id": "pMq1QPcfCwXD"
    },
    {
      "cell_type": "code",
      "source": [
        "cms = []\n",
        "seeds = [0, 1, 2, 3, 4]\n",
        "for seed in seeds:\n",
        "    training_relations_path = f\"/content/drive/Shareddrives/CMPUT 656 Data and Results/Result 29 Relations/Seed {seed}/training_relations/\"\n",
        "    x_t, x_test, y_t, y_test = train_test_split(sentences, y, random_state=seed, test_size=0.2)\n",
        "    del x_t\n",
        "    del x_test\n",
        "    del y_t\n",
        "    predictions = np.load(training_relations_path + \"predictions.npz\", allow_pickle=True)['arr_0'].tolist()\n",
        "    cms.append(confusion_matrix(predictions, y_test, labels=[i for i in label_mappings.keys()]))\n",
        "\n"
      ],
      "metadata": {
        "id": "W_mmEVHGCv0e"
      },
      "id": "W_mmEVHGCv0e",
      "execution_count": null,
      "outputs": []
    },
    {
      "cell_type": "code",
      "source": [
        "plt.clf()\n",
        "averaged_cms = np.mean(cms, axis=0)\n",
        "averaged_cms = averaged_cms.astype('float') / averaged_cms.sum(axis=1)[:, np.newaxis]\n",
        "cms_df = pd.DataFrame(averaged_cms, index = [value for value in reduced_label_mappings.values()],\n",
        "                      columns=[value for value in reduced_label_mappings.values()])\n",
        "fig, ax = plt.subplots(figsize=(15, 10))\n",
        "heat = sns.heatmap(cms_df, vmin=0.0, vmax=1.0, cbar_kws={'label': 'Normalized value'})\n",
        "heat.figure.axes[-1].yaxis.label.set_size(20)\n",
        "yticks = [i.upper() for i in cms_df.index]\n",
        "xticks = [i.upper() for i in cms_df.columns]\n",
        "plt.yticks(plt.yticks()[0], labels=yticks, rotation=0)\n",
        "plt.xticks(plt.xticks()[0], labels=xticks, rotation=270)\n",
        "plt.title(\"Confusion matrix for all 29 relations - CoMemNet-BiLSTM\", fontsize=20)\n",
        "\n",
        "plt.show()"
      ],
      "metadata": {
        "colab": {
          "base_uri": "https://localhost:8080/",
          "height": 767
        },
        "id": "7Sq9mBk5GU8z",
        "outputId": "0ab4735e-f65a-42c7-b53b-10339c430128"
      },
      "id": "7Sq9mBk5GU8z",
      "execution_count": null,
      "outputs": [
        {
          "output_type": "display_data",
          "data": {
            "text/plain": [
              "<Figure size 432x288 with 0 Axes>"
            ]
          },
          "metadata": {}
        },
        {
          "output_type": "display_data",
          "data": {
            "text/plain": [
              "<Figure size 1080x720 with 2 Axes>"
            ],
            "image/png": "[encoded data removed]"
          },
          "metadata": {
            "needs_background": "light"
          }
        }
      ]
    },
    {
      "cell_type": "code",
      "source": [
        "cm = confusion_matrix(y_pred_label, y_test, labels=[i for i in label_mappings.keys()])\n",
        "cms.append(cm)"
      ],
      "metadata": {
        "id": "2opTYdsrKEGc"
      },
      "id": "2opTYdsrKEGc",
      "execution_count": null,
      "outputs": []
    },
    {
      "cell_type": "code",
      "source": [
        "import matplotlib.pyplot as plt\n",
        "import seaborn as sns\n",
        "averaged_cms = np.mean(cms, axis=0)\n",
        "averaged_cms = averaged_cms.astype('float') / averaged_cms.sum(axis=1)[:, np.newaxis]\n",
        "cms_df = pd.DataFrame(averaged_cms, index = [value for value in reduced_label_mappings.values()],\n",
        "                      columns=[value for value in reduced_label_mappings.values()])\n",
        "fig, ax = plt.subplots(figsize=(15, 10))\n",
        "heat = sns.heatmap(cms_df, vmin=0.0, vmax=1.0, cbar_kws={'label': 'Normalized value'})\n",
        "heat.figure.axes[-1].yaxis.label.set_size(20)\n",
        "yticks = [i.upper() for i in cms_df.index]\n",
        "xticks = [i.upper() for i in cms_df.columns]\n",
        "plt.yticks(plt.yticks()[0], labels=yticks, rotation=0)\n",
        "plt.xticks(plt.xticks()[0], labels=xticks, rotation=270)\n",
        "plt.title(\"Confusion matrix for all 29 relations\", fontsize=20)\n",
        "\n",
        "plt.show()"
      ],
      "metadata": {
        "id": "jUlmE6gXzCnX",
        "colab": {
          "base_uri": "https://localhost:8080/"
        },
        "outputId": "f8c62772-e7dd-4baa-ce43-3cafb0aa0299"
      },
      "id": "jUlmE6gXzCnX",
      "execution_count": null,
      "outputs": [
        {
          "output_type": "display_data",
          "data": {
            "text/plain": [
              "<Figure size 1080x720 with 2 Axes>"
            ],
            "image/png": "[encoded data removed]"
          },
          "metadata": {
            "needs_background": "light"
          }
        }
      ]
    },
    {
      "cell_type": "code",
      "source": [
        "\n",
        "averaged_cms.shape"
      ],
      "metadata": {
        "colab": {
          "base_uri": "https://localhost:8080/"
        },
        "id": "IQa_Po-3KZhQ",
        "outputId": "00ca7713-4d9e-42e3-de44-be5b941a0640"
      },
      "id": "IQa_Po-3KZhQ",
      "execution_count": null,
      "outputs": [
        {
          "output_type": "execute_result",
          "data": {
            "text/plain": [
              "(29, 29)"
            ]
          },
          "metadata": {},
          "execution_count": 28
        }
      ]
    },
    {
      "cell_type": "markdown",
      "source": [
        "# Gradio app to demo the model."
      ],
      "metadata": {
        "id": "jtlbe1CJDnm9"
      },
      "id": "jtlbe1CJDnm9"
    },
    {
      "cell_type": "code",
      "source": [
        "!pip install -q gradio\n",
        "!pip install sentencepiece"
      ],
      "metadata": {
        "colab": {
          "base_uri": "https://localhost:8080/"
        },
        "id": "EwACbEqUD9Eh",
        "outputId": "9339a71e-8897-4401-e83c-447c2c3610e5"
      },
      "id": "EwACbEqUD9Eh",
      "execution_count": 8,
      "outputs": [
        {
          "output_type": "stream",
          "name": "stdout",
          "text": [
            "Collecting sentencepiece\n",
            "  Downloading sentencepiece-0.1.96-cp37-cp37m-manylinux_2_17_x86_64.manylinux2014_x86_64.whl (1.2 MB)\n",
            "\u001b[?25l\r\u001b[K     |▎                               | 10 kB 22.7 MB/s eta 0:00:01\r\u001b[K     |▌                               | 20 kB 27.7 MB/s eta 0:00:01\r\u001b[K     |▉                               | 30 kB 34.3 MB/s eta 0:00:01\r\u001b[K     |█                               | 40 kB 19.1 MB/s eta 0:00:01\r\u001b[K     |█▍                              | 51 kB 14.0 MB/s eta 0:00:01\r\u001b[K     |█▋                              | 61 kB 15.8 MB/s eta 0:00:01\r\u001b[K     |██                              | 71 kB 13.9 MB/s eta 0:00:01\r\u001b[K     |██▏                             | 81 kB 14.9 MB/s eta 0:00:01\r\u001b[K     |██▍                             | 92 kB 15.8 MB/s eta 0:00:01\r\u001b[K     |██▊                             | 102 kB 13.9 MB/s eta 0:00:01\r\u001b[K     |███                             | 112 kB 13.9 MB/s eta 0:00:01\r\u001b[K     |███▎                            | 122 kB 13.9 MB/s eta 0:00:01\r\u001b[K     |███▌                            | 133 kB 13.9 MB/s eta 0:00:01\r\u001b[K     |███▉                            | 143 kB 13.9 MB/s eta 0:00:01\r\u001b[K     |████                            | 153 kB 13.9 MB/s eta 0:00:01\r\u001b[K     |████▎                           | 163 kB 13.9 MB/s eta 0:00:01\r\u001b[K     |████▋                           | 174 kB 13.9 MB/s eta 0:00:01\r\u001b[K     |████▉                           | 184 kB 13.9 MB/s eta 0:00:01\r\u001b[K     |█████▏                          | 194 kB 13.9 MB/s eta 0:00:01\r\u001b[K     |█████▍                          | 204 kB 13.9 MB/s eta 0:00:01\r\u001b[K     |█████▊                          | 215 kB 13.9 MB/s eta 0:00:01\r\u001b[K     |██████                          | 225 kB 13.9 MB/s eta 0:00:01\r\u001b[K     |██████▏                         | 235 kB 13.9 MB/s eta 0:00:01\r\u001b[K     |██████▌                         | 245 kB 13.9 MB/s eta 0:00:01\r\u001b[K     |██████▊                         | 256 kB 13.9 MB/s eta 0:00:01\r\u001b[K     |███████                         | 266 kB 13.9 MB/s eta 0:00:01\r\u001b[K     |███████▎                        | 276 kB 13.9 MB/s eta 0:00:01\r\u001b[K     |███████▋                        | 286 kB 13.9 MB/s eta 0:00:01\r\u001b[K     |███████▉                        | 296 kB 13.9 MB/s eta 0:00:01\r\u001b[K     |████████                        | 307 kB 13.9 MB/s eta 0:00:01\r\u001b[K     |████████▍                       | 317 kB 13.9 MB/s eta 0:00:01\r\u001b[K     |████████▋                       | 327 kB 13.9 MB/s eta 0:00:01\r\u001b[K     |█████████                       | 337 kB 13.9 MB/s eta 0:00:01\r\u001b[K     |█████████▏                      | 348 kB 13.9 MB/s eta 0:00:01\r\u001b[K     |█████████▌                      | 358 kB 13.9 MB/s eta 0:00:01\r\u001b[K     |█████████▊                      | 368 kB 13.9 MB/s eta 0:00:01\r\u001b[K     |██████████                      | 378 kB 13.9 MB/s eta 0:00:01\r\u001b[K     |██████████▎                     | 389 kB 13.9 MB/s eta 0:00:01\r\u001b[K     |██████████▌                     | 399 kB 13.9 MB/s eta 0:00:01\r\u001b[K     |██████████▉                     | 409 kB 13.9 MB/s eta 0:00:01\r\u001b[K     |███████████                     | 419 kB 13.9 MB/s eta 0:00:01\r\u001b[K     |███████████▍                    | 430 kB 13.9 MB/s eta 0:00:01\r\u001b[K     |███████████▋                    | 440 kB 13.9 MB/s eta 0:00:01\r\u001b[K     |███████████▉                    | 450 kB 13.9 MB/s eta 0:00:01\r\u001b[K     |████████████▏                   | 460 kB 13.9 MB/s eta 0:00:01\r\u001b[K     |████████████▍                   | 471 kB 13.9 MB/s eta 0:00:01\r\u001b[K     |████████████▊                   | 481 kB 13.9 MB/s eta 0:00:01\r\u001b[K     |█████████████                   | 491 kB 13.9 MB/s eta 0:00:01\r\u001b[K     |█████████████▎                  | 501 kB 13.9 MB/s eta 0:00:01\r\u001b[K     |█████████████▌                  | 512 kB 13.9 MB/s eta 0:00:01\r\u001b[K     |█████████████▊                  | 522 kB 13.9 MB/s eta 0:00:01\r\u001b[K     |██████████████                  | 532 kB 13.9 MB/s eta 0:00:01\r\u001b[K     |██████████████▎                 | 542 kB 13.9 MB/s eta 0:00:01\r\u001b[K     |██████████████▋                 | 552 kB 13.9 MB/s eta 0:00:01\r\u001b[K     |██████████████▉                 | 563 kB 13.9 MB/s eta 0:00:01\r\u001b[K     |███████████████▏                | 573 kB 13.9 MB/s eta 0:00:01\r\u001b[K     |███████████████▍                | 583 kB 13.9 MB/s eta 0:00:01\r\u001b[K     |███████████████▋                | 593 kB 13.9 MB/s eta 0:00:01\r\u001b[K     |████████████████                | 604 kB 13.9 MB/s eta 0:00:01\r\u001b[K     |████████████████▏               | 614 kB 13.9 MB/s eta 0:00:01\r\u001b[K     |████████████████▌               | 624 kB 13.9 MB/s eta 0:00:01\r\u001b[K     |████████████████▊               | 634 kB 13.9 MB/s eta 0:00:01\r\u001b[K     |█████████████████               | 645 kB 13.9 MB/s eta 0:00:01\r\u001b[K     |█████████████████▎              | 655 kB 13.9 MB/s eta 0:00:01\r\u001b[K     |█████████████████▌              | 665 kB 13.9 MB/s eta 0:00:01\r\u001b[K     |█████████████████▉              | 675 kB 13.9 MB/s eta 0:00:01\r\u001b[K     |██████████████████              | 686 kB 13.9 MB/s eta 0:00:01\r\u001b[K     |██████████████████▍             | 696 kB 13.9 MB/s eta 0:00:01\r\u001b[K     |██████████████████▋             | 706 kB 13.9 MB/s eta 0:00:01\r\u001b[K     |███████████████████             | 716 kB 13.9 MB/s eta 0:00:01\r\u001b[K     |███████████████████▏            | 727 kB 13.9 MB/s eta 0:00:01\r\u001b[K     |███████████████████▍            | 737 kB 13.9 MB/s eta 0:00:01\r\u001b[K     |███████████████████▊            | 747 kB 13.9 MB/s eta 0:00:01\r\u001b[K     |████████████████████            | 757 kB 13.9 MB/s eta 0:00:01\r\u001b[K     |████████████████████▎           | 768 kB 13.9 MB/s eta 0:00:01\r\u001b[K     |████████████████████▌           | 778 kB 13.9 MB/s eta 0:00:01\r\u001b[K     |████████████████████▉           | 788 kB 13.9 MB/s eta 0:00:01\r\u001b[K     |█████████████████████           | 798 kB 13.9 MB/s eta 0:00:01\r\u001b[K     |█████████████████████▎          | 808 kB 13.9 MB/s eta 0:00:01\r\u001b[K     |█████████████████████▋          | 819 kB 13.9 MB/s eta 0:00:01\r\u001b[K     |█████████████████████▉          | 829 kB 13.9 MB/s eta 0:00:01\r\u001b[K     |██████████████████████▏         | 839 kB 13.9 MB/s eta 0:00:01\r\u001b[K     |██████████████████████▍         | 849 kB 13.9 MB/s eta 0:00:01\r\u001b[K     |██████████████████████▊         | 860 kB 13.9 MB/s eta 0:00:01\r\u001b[K     |███████████████████████         | 870 kB 13.9 MB/s eta 0:00:01\r\u001b[K     |███████████████████████▏        | 880 kB 13.9 MB/s eta 0:00:01\r\u001b[K     |███████████████████████▌        | 890 kB 13.9 MB/s eta 0:00:01\r\u001b[K     |███████████████████████▊        | 901 kB 13.9 MB/s eta 0:00:01\r\u001b[K     |████████████████████████        | 911 kB 13.9 MB/s eta 0:00:01\r\u001b[K     |████████████████████████▎       | 921 kB 13.9 MB/s eta 0:00:01\r\u001b[K     |████████████████████████▋       | 931 kB 13.9 MB/s eta 0:00:01\r\u001b[K     |████████████████████████▉       | 942 kB 13.9 MB/s eta 0:00:01\r\u001b[K     |█████████████████████████       | 952 kB 13.9 MB/s eta 0:00:01\r\u001b[K     |█████████████████████████▍      | 962 kB 13.9 MB/s eta 0:00:01\r\u001b[K     |█████████████████████████▋      | 972 kB 13.9 MB/s eta 0:00:01\r\u001b[K     |██████████████████████████      | 983 kB 13.9 MB/s eta 0:00:01\r\u001b[K     |██████████████████████████▏     | 993 kB 13.9 MB/s eta 0:00:01\r\u001b[K     |██████████████████████████▌     | 1.0 MB 13.9 MB/s eta 0:00:01\r\u001b[K     |██████████████████████████▊     | 1.0 MB 13.9 MB/s eta 0:00:01\r\u001b[K     |███████████████████████████     | 1.0 MB 13.9 MB/s eta 0:00:01\r\u001b[K     |███████████████████████████▎    | 1.0 MB 13.9 MB/s eta 0:00:01\r\u001b[K     |███████████████████████████▌    | 1.0 MB 13.9 MB/s eta 0:00:01\r\u001b[K     |███████████████████████████▉    | 1.1 MB 13.9 MB/s eta 0:00:01\r\u001b[K     |████████████████████████████    | 1.1 MB 13.9 MB/s eta 0:00:01\r\u001b[K     |████████████████████████████▍   | 1.1 MB 13.9 MB/s eta 0:00:01\r\u001b[K     |████████████████████████████▋   | 1.1 MB 13.9 MB/s eta 0:00:01\r\u001b[K     |████████████████████████████▉   | 1.1 MB 13.9 MB/s eta 0:00:01\r\u001b[K     |█████████████████████████████▏  | 1.1 MB 13.9 MB/s eta 0:00:01\r\u001b[K     |█████████████████████████████▍  | 1.1 MB 13.9 MB/s eta 0:00:01\r\u001b[K     |█████████████████████████████▊  | 1.1 MB 13.9 MB/s eta 0:00:01\r\u001b[K     |██████████████████████████████  | 1.1 MB 13.9 MB/s eta 0:00:01\r\u001b[K     |██████████████████████████████▎ | 1.1 MB 13.9 MB/s eta 0:00:01\r\u001b[K     |██████████████████████████████▌ | 1.2 MB 13.9 MB/s eta 0:00:01\r\u001b[K     |██████████████████████████████▊ | 1.2 MB 13.9 MB/s eta 0:00:01\r\u001b[K     |███████████████████████████████ | 1.2 MB 13.9 MB/s eta 0:00:01\r\u001b[K     |███████████████████████████████▎| 1.2 MB 13.9 MB/s eta 0:00:01\r\u001b[K     |███████████████████████████████▋| 1.2 MB 13.9 MB/s eta 0:00:01\r\u001b[K     |███████████████████████████████▉| 1.2 MB 13.9 MB/s eta 0:00:01\r\u001b[K     |████████████████████████████████| 1.2 MB 13.9 MB/s \n",
            "\u001b[?25hInstalling collected packages: sentencepiece\n",
            "Successfully installed sentencepiece-0.1.96\n"
          ]
        }
      ]
    },
    {
      "cell_type": "code",
      "source": [
        "import tokenization\n",
        "import pandas as pd\n",
        "import os\n",
        "import numpy as np\n",
        "import matplotlib.pyplot as plt\n",
        "import seaborn as sns\n",
        "# from keras.callbacks import Callback\n",
        "from sklearn.metrics import confusion_matrix, f1_score, precision_score, recall_score\n",
        "\n",
        "import tensorflow as tf\n",
        "import tensorflow_hub as hub\n",
        "from tensorflow.keras.utils import to_categorical\n",
        "from sklearn import preprocessing\n",
        "from sklearn.model_selection import train_test_split\n",
        "from sklearn.model_selection import KFold\n",
        "from sklearn.utils import shuffle\n",
        "from sklearn.metrics import f1_score\n",
        "import gradio as gr"
      ],
      "metadata": {
        "id": "X6AmNeboDnCP"
      },
      "id": "X6AmNeboDnCP",
      "execution_count": 9,
      "outputs": []
    },
    {
      "cell_type": "code",
      "source": [
        "m_url = 'https://tfhub.dev/tensorflow/bert_en_uncased_L-12_H-768_A-12/2'\n",
        "bert_layer = hub.KerasLayer(m_url, trainable=False)"
      ],
      "metadata": {
        "id": "77f7IcjyFQ5h"
      },
      "id": "77f7IcjyFQ5h",
      "execution_count": 10,
      "outputs": []
    },
    {
      "cell_type": "code",
      "source": [
        "from google.colab import drive\n",
        "drive.mount('/content/drive')"
      ],
      "metadata": {
        "colab": {
          "base_uri": "https://localhost:8080/"
        },
        "id": "H9bDfrKDIPzD",
        "outputId": "951eb5a7-cf0e-412d-bbdd-83aaaedec06c"
      },
      "id": "H9bDfrKDIPzD",
      "execution_count": 19,
      "outputs": [
        {
          "output_type": "stream",
          "name": "stdout",
          "text": [
            "Mounted at /content/drive\n"
          ]
        }
      ]
    },
    {
      "cell_type": "code",
      "source": [
        "def get_labels(y_pred):\n",
        "    y_pred_label = np.zeros((len(y_pred),1))\n",
        "    print(y_pred_label.shape)\n",
        "    for index in range(len(y_pred)):\n",
        "        y_pred_label[index] = np.argmax(y_pred[index])\n",
        "    return y_pred_label"
      ],
      "metadata": {
        "id": "aswYd2oTGUE6"
      },
      "id": "aswYd2oTGUE6",
      "execution_count": 11,
      "outputs": []
    },
    {
      "cell_type": "code",
      "source": [
        "vocab_file = bert_layer.resolved_object.vocab_file.asset_path.numpy()\n",
        "do_lower_case = bert_layer.resolved_object.do_lower_case.numpy()\n",
        "tokenizer = tokenization.FullTokenizer(vocab_file, do_lower_case)\n",
        "\n",
        "def bert_encode(texts, tokenizer, max_len=512):\n",
        "    all_tokens = []\n",
        "    all_masks = []\n",
        "    all_segments = []\n",
        "    \n",
        "    for text in texts:\n",
        "        text = tokenizer.tokenize(text)\n",
        "        \n",
        "        text = text[:max_len-2]\n",
        "        input_sequence = [\"[CLS]\"] + text + [\"[SEP]\"]\n",
        "        pad_len = max_len-len(input_sequence)\n",
        "        \n",
        "        tokens = tokenizer.convert_tokens_to_ids(input_sequence) + [0] * pad_len\n",
        "        pad_masks = [1] * len(input_sequence) + [0] * pad_len\n",
        "        segment_ids = [0] * max_len\n",
        "        \n",
        "        all_tokens.append(tokens)\n",
        "        all_masks.append(pad_masks)\n",
        "        all_segments.append(segment_ids)\n",
        "        \n",
        "    return np.array(all_tokens), np.array(all_masks), np.array(all_segments)"
      ],
      "metadata": {
        "id": "Zxhq_iIbFVc8"
      },
      "id": "Zxhq_iIbFVc8",
      "execution_count": 12,
      "outputs": []
    },
    {
      "cell_type": "code",
      "source": [
        "def build_model(bert_layer, max_len=512):\n",
        "    input_word_ids = tf.keras.Input(shape=(max_len,), dtype=tf.int32, name=\"input_word_ids\")\n",
        "    input_mask = tf.keras.Input(shape=(max_len,), dtype=tf.int32, name=\"input_mask\")\n",
        "    segment_ids = tf.keras.Input(shape=(max_len,), dtype=tf.int32, name=\"segment_ids\")\n",
        "    \n",
        "    pooled_output, sequence_output = bert_layer([input_word_ids, input_mask, segment_ids])\n",
        "    \n",
        "    print(tf.shape(sequence_output))\n",
        "    clf_output = sequence_output[:, :, :]\n",
        "    print(tf.shape(clf_output))\n",
        "    \n",
        "    lay = tf.keras.layers.Conv1D(filters=8, kernel_size=5, strides=1, padding=\"same\", activation=\"relu\")(clf_output)\n",
        "    lay = tf.keras.layers.MaxPooling1D(2, 2)(lay)\n",
        "    #lay = tf.keras.layers.LSTM(2, return_sequences=True, dropout=0.2)(lay)\n",
        "    lay = tf.keras.layers.Bidirectional(tf.keras.layers.LSTM(8, return_sequences=True, dropout=0.2))(lay)\n",
        "    lay = tf.keras.layers.Flatten()(lay)\n",
        "    out = tf.keras.layers.Dense(29, activation='softmax')(lay)\n",
        "    \n",
        "    model = tf.keras.models.Model(inputs=[input_word_ids, input_mask, segment_ids], outputs=out)\n",
        "    #model.compile(tf.keras.optimizers.Adam(lr=2e-5), loss='categorical_crossentropy', metrics=['accuracy'])\n",
        "    model.compile(tf.keras.optimizers.Adam(lr=2e-5), loss='sparse_categorical_crossentropy', metrics=['accuracy'])\n",
        "    #model.compile(tf.keras.optimizers.RMSprop(lr=0.001), loss='sparse_categorical_crossentropy', metrics=['accuracy'])\n",
        "    \n",
        "    return model"
      ],
      "metadata": {
        "id": "Smky04faFZZk"
      },
      "id": "Smky04faFZZk",
      "execution_count": 13,
      "outputs": []
    },
    {
      "cell_type": "code",
      "source": [
        "reduced_label_mappings = {\n",
        "    0: 'None',\n",
        "    1: 'award-nominee',\n",
        "    2: 'author-works_written',\n",
        "    3: 'book-genre',\n",
        "    4: 'company-industry',\n",
        "    5: 'person-graduate',\n",
        "    6: 'actor-character',\n",
        "    7: 'director-film',\n",
        "    8: 'film-country',\n",
        "    9: 'film-genre',\n",
        "    10: 'film-language',\n",
        "    11: 'film-music',\n",
        "    12: 'film-production_company',\n",
        "    13: 'actor-film',\n",
        "    14: 'producer-film',\n",
        "    15: 'writer-film',\n",
        "    16: 'political_party-politician',\n",
        "    17: 'location-contains',\n",
        "    18: 'musician-album',\n",
        "    19: 'musician-origin',\n",
        "    20: 'person-place_of_death',\n",
        "    21: 'person-nationality',\n",
        "    22: 'person-parents',\n",
        "    23: 'person-place_of_birth',\n",
        "    24: 'person-profession',\n",
        "    25: 'person-religion',\n",
        "    26: 'person-spouse',\n",
        "    27: 'football_position-player',\n",
        "    28: 'sports_team-player'\n",
        "}"
      ],
      "metadata": {
        "id": "OXrFadSsGwId"
      },
      "id": "OXrFadSsGwId",
      "execution_count": 41,
      "outputs": []
    },
    {
      "cell_type": "code",
      "source": [
        "# with tf.device('/device:GPU:0'):\n",
        "#     results = []\n",
        "#     splits = 5 # For five fold cross-validation.\n",
        "#     #seeds = [i for i in range(splits)]  # Fix the seed value for reproducibility.\n",
        "#     seeds = [4]#0, 1, 2, 3, 4]\n",
        "    \n",
        "#     val_dict = {}\n",
        "#     test_dict = {}\n",
        "    \n",
        "#     # First get random train-test splits. Doesn't include validation, which will be obtained from the train set.\n",
        "#     for seed in seeds:\n",
        "#         x_t, x_test, y_t, y_test = train_test_split(sentences, y, random_state=seed, test_size=0.2)   # Global training and test sets.\n",
        "\n",
        "#         # Evaluate the new model\n",
        "#         max_len = 80\n",
        "#         new_model = build_model(bert_layer, max_len=max_len)\n",
        "#         new_model.summary()\n",
        "#         # Loads the weights for new model\n",
        "#         checkpoint_path = f\"/content/drive/Shareddrives/CMPUT 656 Data and Results/Result 29 Relations/Seed {seed}/training_relations/cp.ckpt\"\n",
        "#         training_relations_path = f\"/content/drive/Shareddrives/CMPUT 656 Data and Results/Result 29 Relations/Seed {seed}/training_relations/\"\n",
        "#         # /content/drive/Shareddrives/CMPUT 656 Data and Results/Result 29 Relations/Seed 0/training_relations/cp.ckpt.data-00000-of-00001\n",
        "        \n",
        "\n",
        "#         new_model.load_weights(checkpoint_path)\n",
        "\n",
        "#         #encode test data\n",
        "#         test_input = bert_encode(x_test, tokenizer, max_len=max_len)\n",
        "\n",
        "#         # Evaluate the model on the test data using `evaluate`\n",
        "#         print(\"Evaluate on test data for \", seed)\n",
        "#         # results = new_model.evaluate(test_input, y_test, batch_size=16)\n",
        "\n",
        "#         #calculate F1-score\n",
        "#         y_pred = new_model.predict(test_input, batch_size=16, verbose=1)\n",
        "#         y_pred_label = get_labels(y_pred)\n",
        "#         f1_value = f1_score(y_test, y_pred_label, average='macro')\n",
        "#         np.savez_compressed(training_relations_path +  \"predictions.npz\", y_pred_label)\n",
        "#         cm = confusion_matrix(y_pred_label, y_test, labels=[i for i in label_mappings.keys()])\n",
        "#         cms.append(cm)\n",
        "\n",
        "#         results.append(f1_value)\n",
        "#         print(\"Test loss, Test acc, F1-score:\", results)"
      ],
      "metadata": {
        "id": "wem_JEGiEQI3"
      },
      "id": "wem_JEGiEQI3",
      "execution_count": 15,
      "outputs": []
    },
    {
      "cell_type": "code",
      "source": [
        "seed = 0\n",
        "checkpoint_path = f\"/content/drive/Shareddrives/CMPUT 656 Data and Results/Result 29 Relations/Seed {seed}/training_relations/cp.ckpt\"\n",
        "max_len = 80\n",
        "\n",
        "new_model = build_model(bert_layer, max_len=max_len)\n",
        "new_model.load_weights(checkpoint_path)"
      ],
      "metadata": {
        "colab": {
          "base_uri": "https://localhost:8080/"
        },
        "id": "-zPjGNMaI-GX",
        "outputId": "1bea85e7-b84d-47ae-8dfa-b7bf8f4420cc"
      },
      "id": "-zPjGNMaI-GX",
      "execution_count": 26,
      "outputs": [
        {
          "output_type": "stream",
          "name": "stdout",
          "text": [
            "KerasTensor(type_spec=TensorSpec(shape=(3,), dtype=tf.int32, name=None), inferred_value=[None, 80, 768], name='tf.compat.v1.shape_8/Shape:0', description=\"created by layer 'tf.compat.v1.shape_8'\")\n",
            "KerasTensor(type_spec=TensorSpec(shape=(3,), dtype=tf.int32, name=None), inferred_value=[None, 80, 768], name='tf.compat.v1.shape_9/Shape:0', description=\"created by layer 'tf.compat.v1.shape_9'\")\n",
            "WARNING:tensorflow:Detecting that an object or model or tf.train.Checkpoint is being deleted with unrestored values. See the following logs for the specific values in question. To silence these warnings, use `status.expect_partial()`. See https://www.tensorflow.org/api_docs/python/tf/train/Checkpoint#restorefor details about the status object returned by the restore function.\n"
          ]
        },
        {
          "output_type": "stream",
          "name": "stderr",
          "text": [
            "WARNING:tensorflow:Detecting that an object or model or tf.train.Checkpoint is being deleted with unrestored values. See the following logs for the specific values in question. To silence these warnings, use `status.expect_partial()`. See https://www.tensorflow.org/api_docs/python/tf/train/Checkpoint#restorefor details about the status object returned by the restore function.\n"
          ]
        },
        {
          "output_type": "stream",
          "name": "stdout",
          "text": [
            "WARNING:tensorflow:Value in checkpoint could not be found in the restored object: (root).optimizer.iter\n"
          ]
        },
        {
          "output_type": "stream",
          "name": "stderr",
          "text": [
            "WARNING:tensorflow:Value in checkpoint could not be found in the restored object: (root).optimizer.iter\n"
          ]
        },
        {
          "output_type": "stream",
          "name": "stdout",
          "text": [
            "WARNING:tensorflow:Value in checkpoint could not be found in the restored object: (root).optimizer.beta_1\n"
          ]
        },
        {
          "output_type": "stream",
          "name": "stderr",
          "text": [
            "WARNING:tensorflow:Value in checkpoint could not be found in the restored object: (root).optimizer.beta_1\n"
          ]
        },
        {
          "output_type": "stream",
          "name": "stdout",
          "text": [
            "WARNING:tensorflow:Value in checkpoint could not be found in the restored object: (root).optimizer.beta_2\n"
          ]
        },
        {
          "output_type": "stream",
          "name": "stderr",
          "text": [
            "WARNING:tensorflow:Value in checkpoint could not be found in the restored object: (root).optimizer.beta_2\n"
          ]
        },
        {
          "output_type": "stream",
          "name": "stdout",
          "text": [
            "WARNING:tensorflow:Value in checkpoint could not be found in the restored object: (root).optimizer.decay\n"
          ]
        },
        {
          "output_type": "stream",
          "name": "stderr",
          "text": [
            "WARNING:tensorflow:Value in checkpoint could not be found in the restored object: (root).optimizer.decay\n"
          ]
        },
        {
          "output_type": "stream",
          "name": "stdout",
          "text": [
            "WARNING:tensorflow:Value in checkpoint could not be found in the restored object: (root).optimizer.learning_rate\n"
          ]
        },
        {
          "output_type": "stream",
          "name": "stderr",
          "text": [
            "WARNING:tensorflow:Value in checkpoint could not be found in the restored object: (root).optimizer.learning_rate\n"
          ]
        },
        {
          "output_type": "stream",
          "name": "stdout",
          "text": [
            "WARNING:tensorflow:Detecting that an object or model or tf.train.Checkpoint is being deleted with unrestored values. See the following logs for the specific values in question. To silence these warnings, use `status.expect_partial()`. See https://www.tensorflow.org/api_docs/python/tf/train/Checkpoint#restorefor details about the status object returned by the restore function.\n"
          ]
        },
        {
          "output_type": "stream",
          "name": "stderr",
          "text": [
            "WARNING:tensorflow:Detecting that an object or model or tf.train.Checkpoint is being deleted with unrestored values. See the following logs for the specific values in question. To silence these warnings, use `status.expect_partial()`. See https://www.tensorflow.org/api_docs/python/tf/train/Checkpoint#restorefor details about the status object returned by the restore function.\n"
          ]
        },
        {
          "output_type": "stream",
          "name": "stdout",
          "text": [
            "WARNING:tensorflow:Value in checkpoint could not be found in the restored object: (root).optimizer.iter\n"
          ]
        },
        {
          "output_type": "stream",
          "name": "stderr",
          "text": [
            "WARNING:tensorflow:Value in checkpoint could not be found in the restored object: (root).optimizer.iter\n"
          ]
        },
        {
          "output_type": "stream",
          "name": "stdout",
          "text": [
            "WARNING:tensorflow:Value in checkpoint could not be found in the restored object: (root).optimizer.beta_1\n"
          ]
        },
        {
          "output_type": "stream",
          "name": "stderr",
          "text": [
            "WARNING:tensorflow:Value in checkpoint could not be found in the restored object: (root).optimizer.beta_1\n"
          ]
        },
        {
          "output_type": "stream",
          "name": "stdout",
          "text": [
            "WARNING:tensorflow:Value in checkpoint could not be found in the restored object: (root).optimizer.beta_2\n"
          ]
        },
        {
          "output_type": "stream",
          "name": "stderr",
          "text": [
            "WARNING:tensorflow:Value in checkpoint could not be found in the restored object: (root).optimizer.beta_2\n"
          ]
        },
        {
          "output_type": "stream",
          "name": "stdout",
          "text": [
            "WARNING:tensorflow:Value in checkpoint could not be found in the restored object: (root).optimizer.decay\n"
          ]
        },
        {
          "output_type": "stream",
          "name": "stderr",
          "text": [
            "WARNING:tensorflow:Value in checkpoint could not be found in the restored object: (root).optimizer.decay\n"
          ]
        },
        {
          "output_type": "stream",
          "name": "stdout",
          "text": [
            "WARNING:tensorflow:Value in checkpoint could not be found in the restored object: (root).optimizer.learning_rate\n"
          ]
        },
        {
          "output_type": "stream",
          "name": "stderr",
          "text": [
            "WARNING:tensorflow:Value in checkpoint could not be found in the restored object: (root).optimizer.learning_rate\n",
            "/usr/local/lib/python3.7/dist-packages/keras/optimizer_v2/adam.py:105: UserWarning: The `lr` argument is deprecated, use `learning_rate` instead.\n",
            "  super(Adam, self).__init__(name, **kwargs)\n"
          ]
        },
        {
          "output_type": "execute_result",
          "data": {
            "text/plain": [
              "<tensorflow.python.training.tracking.util.CheckpointLoadStatus at 0x7f1bb9553690>"
            ]
          },
          "metadata": {},
          "execution_count": 26
        }
      ]
    },
    {
      "cell_type": "code",
      "source": [
        "def predict_relation(sentence):\n",
        "    print(sentence)\n",
        "    # df = pd.DataFrame.from_dict(\n",
        "    #     {\n",
        "    #         \"Pclass\": [passenger_class + 1],\n",
        "    #         \"Sex\": [0 if is_male else 1],\n",
        "    #         \"Age\": [age],\n",
        "    #         \"Company\": [\n",
        "    #             (1 if \"Sibling\" in company else 0) + (2 if \"Child\" in company else 0)\n",
        "    #         ],\n",
        "    #         \"Fare\": [fare],\n",
        "    #         \"Embarked\": [embark_point + 1],\n",
        "    #     }\n",
        "    # )\n",
        "    \n",
        "    test_input = bert_encode(np.array([sentence]), tokenizer, max_len=max_len)\n",
        "    y_pred = new_model.predict(test_input, batch_size=16, verbose=1)\n",
        "    y_pred_label = get_labels(y_pred)\n",
        "    relations = [rel for rel in reduced_label_mappings.values()]\n",
        "    probabilities = y_pred.tolist()[0]\n",
        "    result_dict = {}\n",
        "    for k, v in zip(relations, probabilities):\n",
        "        result_dict[k] = v\n",
        "    return result_dict\n",
        "    # return y_pred_label, y_pred"
      ],
      "metadata": {
        "id": "ROPxudeADyi5"
      },
      "id": "ROPxudeADyi5",
      "execution_count": 50,
      "outputs": []
    },
    {
      "cell_type": "code",
      "source": [
        "# [rel for rel in reduced_label_mappings.values()]"
      ],
      "metadata": {
        "id": "V2SQyMTOKKtk"
      },
      "id": "V2SQyMTOKKtk",
      "execution_count": null,
      "outputs": []
    },
    {
      "cell_type": "code",
      "source": [
        "predict_relation(\"Avatar was directed by James\")"
      ],
      "metadata": {
        "colab": {
          "base_uri": "https://localhost:8080/"
        },
        "id": "Y2auaAfAIrCR",
        "outputId": "c1e6535b-fecf-4cbf-b11f-480bebbdab64"
      },
      "id": "Y2auaAfAIrCR",
      "execution_count": 51,
      "outputs": [
        {
          "output_type": "stream",
          "name": "stdout",
          "text": [
            "Avatar was directed by James\n",
            "1/1 [==============================] - 0s 379ms/step\n",
            "(1, 1)\n"
          ]
        },
        {
          "output_type": "execute_result",
          "data": {
            "text/plain": [
              "{'None': 0.026813292875885963,\n",
              " 'actor-character': 0.039414212107658386,\n",
              " 'actor-film': 0.0014545839512720704,\n",
              " 'author-works_written': 0.00037750325282104313,\n",
              " 'award-nominee': 2.0406776457093656e-05,\n",
              " 'book-genre': 6.763075816706987e-06,\n",
              " 'company-industry': 5.830914233229123e-06,\n",
              " 'director-film': 0.2887896001338959,\n",
              " 'film-country': 0.0017016256460919976,\n",
              " 'film-genre': 0.0005461295368149877,\n",
              " 'film-language': 0.06926463544368744,\n",
              " 'film-music': 0.15396985411643982,\n",
              " 'film-production_company': 0.011293824762105942,\n",
              " 'football_position-player': 5.903470992052462e-07,\n",
              " 'location-contains': 0.00040040144813247025,\n",
              " 'musician-album': 9.624188533052802e-05,\n",
              " 'musician-origin': 0.025806942954659462,\n",
              " 'person-graduate': 7.092034502420574e-05,\n",
              " 'person-nationality': 5.947429713160091e-07,\n",
              " 'person-parents': 5.087800332148618e-07,\n",
              " 'person-place_of_birth': 3.1900417525321245e-06,\n",
              " 'person-place_of_death': 0.0002447587321512401,\n",
              " 'person-profession': 0.01602892391383648,\n",
              " 'person-religion': 4.2753043771881494e-07,\n",
              " 'person-spouse': 6.641890649916604e-05,\n",
              " 'political_party-politician': 3.952042106902809e-07,\n",
              " 'producer-film': 0.04508485272526741,\n",
              " 'sports_team-player': 1.5555689969914965e-05,\n",
              " 'writer-film': 0.31852099299430847}"
            ]
          },
          "metadata": {},
          "execution_count": 51
        }
      ]
    },
    {
      "cell_type": "code",
      "source": [
        "iface = gr.Interface(\n",
        "    predict_relation,\n",
        "    inputs=\"text\",\n",
        "    outputs=\"label\",\n",
        "    interpretation=\"default\",\n",
        "    title=\"CoMemNet - Relation Extractor\", description=\"NOTE: Model is trained on Wikipedia table data and not continuous text.\"\n",
        ")\n",
        "\n",
        "iface.launch(debug=True)"
      ],
      "metadata": {
        "colab": {
          "base_uri": "https://localhost:8080/",
          "height": 660
        },
        "id": "kMzd3VA0EH-Z",
        "outputId": "5829741b-1963-4241-a8fc-e0e4e51f6ea4"
      },
      "id": "kMzd3VA0EH-Z",
      "execution_count": 53,
      "outputs": [
        {
          "output_type": "stream",
          "name": "stdout",
          "text": [
            "Colab notebook detected. This cell will run indefinitely so that you can see errors and logs. To turn off, set debug=False in launch().\n",
            "Running on public URL: https://30032.gradio.app\n",
            "\n",
            "This share link expires in 72 hours. For free permanent hosting, check out Spaces (https://huggingface.co/spaces)\n"
          ]
        },
        {
          "output_type": "display_data",
          "data": {
            "text/plain": [
              "<IPython.lib.display.IFrame at 0x7f1bbe812d90>"
            ],
            "text/html": [
              "\n",
              "        <iframe\n",
              "            width=\"900\"\n",
              "            height=\"500\"\n",
              "            src=\"https://30032.gradio.app\"\n",
              "            frameborder=\"0\"\n",
              "            allowfullscreen\n",
              "        ></iframe>\n",
              "        "
            ]
          },
          "metadata": {}
        },
        {
          "output_type": "stream",
          "name": "stdout",
          "text": [
            "Keyboard interruption in main thread... closing server.\n"
          ]
        },
        {
          "output_type": "execute_result",
          "data": {
            "text/plain": [
              "(<fastapi.applications.FastAPI at 0x7f1bc4e32850>,\n",
              " 'http://127.0.0.1:7861/',\n",
              " 'https://30032.gradio.app')"
            ]
          },
          "metadata": {},
          "execution_count": 53
        }
      ]
    },
    {
      "cell_type": "code",
      "source": [
        "!git clone https://huggingface.co/spaces/simpleParadox/RE_656"
      ],
      "metadata": {
        "colab": {
          "base_uri": "https://localhost:8080/"
        },
        "id": "Pb-uvrNGH8l0",
        "outputId": "90d9b389-9422-476e-b389-622cb91cf761"
      },
      "id": "Pb-uvrNGH8l0",
      "execution_count": 55,
      "outputs": [
        {
          "output_type": "stream",
          "name": "stdout",
          "text": [
            "Cloning into 'RE_656'...\n",
            "remote: Enumerating objects: 7, done.\u001b[K\n",
            "remote: Counting objects: 100% (7/7), done.\u001b[K\n",
            "remote: Compressing objects: 100% (7/7), done.\u001b[K\n",
            "remote: Total 7 (delta 1), reused 0 (delta 0)\u001b[K\n",
            "Unpacking objects: 100% (7/7), done.\n"
          ]
        }
      ]
    }
  ],
  "metadata": {
    "accelerator": "GPU",
    "colab": {
      "collapsed_sections": [],
      "name": "Copy of CMPUT 656 Project.ipynb",
      "provenance": [],
      "include_colab_link": true
    },
    "kernelspec": {
      "display_name": "Python 3 (ipykernel)",
      "language": "python",
      "name": "python3"
    },
    "language_info": {
      "codemirror_mode": {
        "name": "ipython",
        "version": 3
      },
      "file_extension": ".py",
      "mimetype": "text/x-python",
      "name": "python",
      "nbconvert_exporter": "python",
      "pygments_lexer": "ipython3",
      "version": "3.9.7"
    }
  },
  "nbformat": 4,
  "nbformat_minor": 5
}