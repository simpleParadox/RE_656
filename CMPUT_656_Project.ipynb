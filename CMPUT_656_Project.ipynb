{
  "cells": [
    {
      "cell_type": "markdown",
      "metadata": {
        "id": "view-in-github",
        "colab_type": "text"
      },
      "source": [
        "<a href=\"https://colab.research.google.com/github/simpleParadox/RE_656/blob/main/CMPUT_656_Project.ipynb\" target=\"_parent\"><img src=\"https://colab.research.google.com/assets/colab-badge.svg\" alt=\"Open In Colab\"/></a>"
      ]
    },
    {
      "cell_type": "code",
      "source": [
        "!pip install sentencepiece"
      ],
      "metadata": {
        "colab": {
          "base_uri": "https://localhost:8080/"
        },
        "id": "OcLYKVX89f9q",
        "outputId": "40edbf92-2388-465e-9e67-d9c067aa73a5"
      },
      "id": "OcLYKVX89f9q",
      "execution_count": null,
      "outputs": [
        {
          "output_type": "stream",
          "name": "stdout",
          "text": [
            "Requirement already satisfied: sentencepiece in /usr/local/lib/python3.7/dist-packages (0.1.96)\n"
          ]
        }
      ]
    },
    {
      "cell_type": "code",
      "execution_count": null,
      "id": "271868ee",
      "metadata": {
        "id": "271868ee"
      },
      "outputs": [],
      "source": [
        "import pandas as pd\n",
        "import os\n",
        "import numpy as np\n",
        "import matplotlib.pyplot as plt\n",
        "import seaborn as sns\n",
        "# from keras.callbacks import Callback\n",
        "from sklearn.metrics import confusion_matrix, f1_score, precision_score, recall_score"
      ]
    },
    {
      "cell_type": "code",
      "execution_count": null,
      "id": "75d4aba2",
      "metadata": {
        "id": "75d4aba2"
      },
      "outputs": [],
      "source": [
        "import tokenization\n",
        "\n",
        "import tensorflow as tf\n",
        "import tensorflow_hub as hub\n",
        "from tensorflow.keras.utils import to_categorical\n",
        "from sklearn import preprocessing\n",
        "from sklearn.model_selection import train_test_split\n",
        "from sklearn.model_selection import KFold\n",
        "from sklearn.utils import shuffle\n",
        "from sklearn.metrics import f1_score"
      ]
    },
    {
      "cell_type": "code",
      "execution_count": null,
      "id": "2a30a98e",
      "metadata": {
        "id": "2a30a98e",
        "colab": {
          "base_uri": "https://localhost:8080/",
          "height": 35
        },
        "outputId": "0dff8f4b-ce32-4edf-efa8-c5f49be19a2c"
      },
      "outputs": [
        {
          "output_type": "execute_result",
          "data": {
            "text/plain": [
              "'2.8.0'"
            ],
            "application/vnd.google.colaboratory.intrinsic+json": {
              "type": "string"
            }
          },
          "metadata": {},
          "execution_count": 4
        }
      ],
      "source": [
        "tf.__version__"
      ]
    },
    {
      "cell_type": "code",
      "execution_count": null,
      "id": "87a850d1",
      "metadata": {
        "id": "87a850d1",
        "colab": {
          "base_uri": "https://localhost:8080/"
        },
        "outputId": "3956974c-3f97-4746-885c-55f59e6e2f51"
      },
      "outputs": [
        {
          "output_type": "stream",
          "name": "stdout",
          "text": [
            "/device:GPU:0\n",
            "Found GPU at: /device:GPU:0\n"
          ]
        }
      ],
      "source": [
        "device_name = tf.test.gpu_device_name()\n",
        "print(device_name)\n",
        "if device_name != '/device:GPU:0':\n",
        "  raise SystemError('GPU device not found')\n",
        "print('Found GPU at: {}'.format(device_name))"
      ]
    },
    {
      "cell_type": "code",
      "source": [
        "from google.colab import drive\n",
        "drive.mount('/content/drive')\n",
        "relations_path = '/content/drive/Shareddrives/CMPUT 656 Data and Results/Processed Data/Input_500_29_relation.tsv'"
      ],
      "metadata": {
        "id": "i1moM-Vq-Ig3",
        "colab": {
          "base_uri": "https://localhost:8080/"
        },
        "outputId": "369a539a-cab2-4274-8b09-4273f3eec29c"
      },
      "id": "i1moM-Vq-Ig3",
      "execution_count": null,
      "outputs": [
        {
          "output_type": "stream",
          "name": "stdout",
          "text": [
            "Drive already mounted at /content/drive; to attempt to forcibly remount, call drive.mount(\"/content/drive\", force_remount=True).\n"
          ]
        }
      ]
    },
    {
      "cell_type": "code",
      "execution_count": null,
      "id": "a7644a8c",
      "metadata": {
        "id": "a7644a8c"
      },
      "outputs": [],
      "source": [
        "train_data = pd.read_csv(relations_path, encoding='utf-8', sep = '\\t')"
      ]
    },
    {
      "cell_type": "code",
      "execution_count": null,
      "id": "f2ea234a",
      "metadata": {
        "id": "f2ea234a"
      },
      "outputs": [],
      "source": [
        "train_data.fillna(\"\", inplace = True)"
      ]
    },
    {
      "cell_type": "code",
      "execution_count": null,
      "id": "88e6c222",
      "metadata": {
        "id": "88e6c222"
      },
      "outputs": [],
      "source": [
        "# Shuffle data so that there is a higher chance of the train and test data being from the same distribution.\n",
        "train_data = shuffle(train_data, random_state = 1)"
      ]
    },
    {
      "cell_type": "code",
      "source": [
        "train_data.head()"
      ],
      "metadata": {
        "colab": {
          "base_uri": "https://localhost:8080/",
          "height": 302
        },
        "id": "W6Am0e2dMtTh",
        "outputId": "b700ff8d-25e6-496e-b127-9d118017ad4c"
      },
      "id": "W6Am0e2dMtTh",
      "execution_count": null,
      "outputs": [
        {
          "output_type": "execute_result",
          "data": {
            "text/plain": [
              "       table_caption     table_section_title           headers  \\\n",
              "580310                Scorers and assistants     Position Name   \n",
              "128294                           Short films       Title Genre   \n",
              "430163                      First Team Squad  Name Nationality   \n",
              "80680                                  2010s      Film Country   \n",
              "242853                                 2000s    Film Studio(s)   \n",
              "\n",
              "                                              entity pair  \\\n",
              "580310                       DF  Marko Lomić Marko Lomić    \n",
              "128294                        Bramadero Bramadero  Erotic   \n",
              "430163                       Dídac Vilà Dídac Vilà  Spain   \n",
              "80680    Mother Mother 2009 film   South Korea South K...   \n",
              "242853   Monster House Monster House film   Relativity...   \n",
              "\n",
              "                                relation  \n",
              "580310  soccer.football_position.players  \n",
              "128294                   film.film.genre  \n",
              "430163         people.person.nationality  \n",
              "80680                  film.film.country  \n",
              "242853    film.film.production_companies  "
            ],
            "text/html": [
              "\n",
              "  <div id=\"df-395d248a-fe11-4c3f-8d45-0c03e5342968\">\n",
              "    <div class=\"colab-df-container\">\n",
              "      <div>\n",
              "<style scoped>\n",
              "    .dataframe tbody tr th:only-of-type {\n",
              "        vertical-align: middle;\n",
              "    }\n",
              "\n",
              "    .dataframe tbody tr th {\n",
              "        vertical-align: top;\n",
              "    }\n",
              "\n",
              "    .dataframe thead th {\n",
              "        text-align: right;\n",
              "    }\n",
              "</style>\n",
              "<table border=\"1\" class=\"dataframe\">\n",
              "  <thead>\n",
              "    <tr style=\"text-align: right;\">\n",
              "      <th></th>\n",
              "      <th>table_caption</th>\n",
              "      <th>table_section_title</th>\n",
              "      <th>headers</th>\n",
              "      <th>entity pair</th>\n",
              "      <th>relation</th>\n",
              "    </tr>\n",
              "  </thead>\n",
              "  <tbody>\n",
              "    <tr>\n",
              "      <th>580310</th>\n",
              "      <td></td>\n",
              "      <td>Scorers and assistants</td>\n",
              "      <td>Position Name</td>\n",
              "      <td>DF  Marko Lomić Marko Lomić</td>\n",
              "      <td>soccer.football_position.players</td>\n",
              "    </tr>\n",
              "    <tr>\n",
              "      <th>128294</th>\n",
              "      <td></td>\n",
              "      <td>Short films</td>\n",
              "      <td>Title Genre</td>\n",
              "      <td>Bramadero Bramadero  Erotic</td>\n",
              "      <td>film.film.genre</td>\n",
              "    </tr>\n",
              "    <tr>\n",
              "      <th>430163</th>\n",
              "      <td></td>\n",
              "      <td>First Team Squad</td>\n",
              "      <td>Name Nationality</td>\n",
              "      <td>Dídac Vilà Dídac Vilà  Spain</td>\n",
              "      <td>people.person.nationality</td>\n",
              "    </tr>\n",
              "    <tr>\n",
              "      <th>80680</th>\n",
              "      <td></td>\n",
              "      <td>2010s</td>\n",
              "      <td>Film Country</td>\n",
              "      <td>Mother Mother 2009 film   South Korea South K...</td>\n",
              "      <td>film.film.country</td>\n",
              "    </tr>\n",
              "    <tr>\n",
              "      <th>242853</th>\n",
              "      <td></td>\n",
              "      <td>2000s</td>\n",
              "      <td>Film Studio(s)</td>\n",
              "      <td>Monster House Monster House film   Relativity...</td>\n",
              "      <td>film.film.production_companies</td>\n",
              "    </tr>\n",
              "  </tbody>\n",
              "</table>\n",
              "</div>\n",
              "      <button class=\"colab-df-convert\" onclick=\"convertToInteractive('df-395d248a-fe11-4c3f-8d45-0c03e5342968')\"\n",
              "              title=\"Convert this dataframe to an interactive table.\"\n",
              "              style=\"display:none;\">\n",
              "        \n",
              "  <svg xmlns=\"http://www.w3.org/2000/svg\" height=\"24px\"viewBox=\"0 0 24 24\"\n",
              "       width=\"24px\">\n",
              "    <path d=\"M0 0h24v24H0V0z\" fill=\"none\"/>\n",
              "    <path d=\"M18.56 5.44l.94 2.06.94-2.06 2.06-.94-2.06-.94-.94-2.06-.94 2.06-2.06.94zm-11 1L8.5 8.5l.94-2.06 2.06-.94-2.06-.94L8.5 2.5l-.94 2.06-2.06.94zm10 10l.94 2.06.94-2.06 2.06-.94-2.06-.94-.94-2.06-.94 2.06-2.06.94z\"/><path d=\"M17.41 7.96l-1.37-1.37c-.4-.4-.92-.59-1.43-.59-.52 0-1.04.2-1.43.59L10.3 9.45l-7.72 7.72c-.78.78-.78 2.05 0 2.83L4 21.41c.39.39.9.59 1.41.59.51 0 1.02-.2 1.41-.59l7.78-7.78 2.81-2.81c.8-.78.8-2.07 0-2.86zM5.41 20L4 18.59l7.72-7.72 1.47 1.35L5.41 20z\"/>\n",
              "  </svg>\n",
              "      </button>\n",
              "      \n",
              "  <style>\n",
              "    .colab-df-container {\n",
              "      display:flex;\n",
              "      flex-wrap:wrap;\n",
              "      gap: 12px;\n",
              "    }\n",
              "\n",
              "    .colab-df-convert {\n",
              "      background-color: #E8F0FE;\n",
              "      border: none;\n",
              "      border-radius: 50%;\n",
              "      cursor: pointer;\n",
              "      display: none;\n",
              "      fill: #1967D2;\n",
              "      height: 32px;\n",
              "      padding: 0 0 0 0;\n",
              "      width: 32px;\n",
              "    }\n",
              "\n",
              "    .colab-df-convert:hover {\n",
              "      background-color: #E2EBFA;\n",
              "      box-shadow: 0px 1px 2px rgba(60, 64, 67, 0.3), 0px 1px 3px 1px rgba(60, 64, 67, 0.15);\n",
              "      fill: #174EA6;\n",
              "    }\n",
              "\n",
              "    [theme=dark] .colab-df-convert {\n",
              "      background-color: #3B4455;\n",
              "      fill: #D2E3FC;\n",
              "    }\n",
              "\n",
              "    [theme=dark] .colab-df-convert:hover {\n",
              "      background-color: #434B5C;\n",
              "      box-shadow: 0px 1px 3px 1px rgba(0, 0, 0, 0.15);\n",
              "      filter: drop-shadow(0px 1px 2px rgba(0, 0, 0, 0.3));\n",
              "      fill: #FFFFFF;\n",
              "    }\n",
              "  </style>\n",
              "\n",
              "      <script>\n",
              "        const buttonEl =\n",
              "          document.querySelector('#df-395d248a-fe11-4c3f-8d45-0c03e5342968 button.colab-df-convert');\n",
              "        buttonEl.style.display =\n",
              "          google.colab.kernel.accessAllowed ? 'block' : 'none';\n",
              "\n",
              "        async function convertToInteractive(key) {\n",
              "          const element = document.querySelector('#df-395d248a-fe11-4c3f-8d45-0c03e5342968');\n",
              "          const dataTable =\n",
              "            await google.colab.kernel.invokeFunction('convertToInteractive',\n",
              "                                                     [key], {});\n",
              "          if (!dataTable) return;\n",
              "\n",
              "          const docLinkHtml = 'Like what you see? Visit the ' +\n",
              "            '<a target=\"_blank\" href=https://colab.research.google.com/notebooks/data_table.ipynb>data table notebook</a>'\n",
              "            + ' to learn more about interactive tables.';\n",
              "          element.innerHTML = '';\n",
              "          dataTable['output_type'] = 'display_data';\n",
              "          await google.colab.output.renderOutput(dataTable, element);\n",
              "          const docLink = document.createElement('div');\n",
              "          docLink.innerHTML = docLinkHtml;\n",
              "          element.appendChild(docLink);\n",
              "        }\n",
              "      </script>\n",
              "    </div>\n",
              "  </div>\n",
              "  "
            ]
          },
          "metadata": {},
          "execution_count": 9
        }
      ]
    },
    {
      "cell_type": "code",
      "execution_count": null,
      "id": "de315f0a",
      "metadata": {
        "id": "de315f0a"
      },
      "outputs": [],
      "source": [
        "# # Now read the rows, convert them into strings and then only keep the unique ones.\n",
        "sentences_and_labels =  np.array([[' '.join(map(str, row[:-1].tolist())).strip(), row[-1]] for row in train_data.iloc[:,:].values])\n",
        "# c = 0\n",
        "# for row in train_data.iloc[:,:].values:\n",
        "#     label = row[-1]\n",
        "#     c += 1\n",
        "#     row_retrieved = row[:-1].tolist()\n",
        "#     s = ' '.join(row_retrieved).strip()\n",
        "#     del row_retrieved\n",
        "#     # break\n",
        "#     # s = ' '.join(map(str, row[:-1].tolist())).strip()\n",
        "\n",
        "#     temp = np.array([s, label])\n",
        "#     del label\n",
        "#     del s\n",
        "#     del row\n",
        "#     sentences_and_labels.append(temp)\n",
        "#     del temp\n",
        "\n",
        "# # print(sentences_and_labels.shape)\n",
        "# sentences = np.array(sentences_and_labels)[:, 0]\n",
        "# del train_data\n",
        "# labels = sentences_and_lables[:, 1]"
      ]
    },
    {
      "cell_type": "code",
      "source": [
        "sentences = sentences_and_labels[:, 0]"
      ],
      "metadata": {
        "id": "fAGhAjARMYXK"
      },
      "id": "fAGhAjARMYXK",
      "execution_count": null,
      "outputs": []
    },
    {
      "cell_type": "code",
      "execution_count": null,
      "id": "a767941a",
      "metadata": {
        "id": "a767941a"
      },
      "outputs": [],
      "source": [
        "label = preprocessing.LabelEncoder()\n",
        "y = label.fit_transform(train_data['relation'])\n",
        "label_mappings = integer_mapping = {i: l for i, l in enumerate(label.classes_)}\n",
        "# y = to_categorical(y) # doing this later."
      ]
    },
    {
      "cell_type": "code",
      "source": [
        "label_mappings"
      ],
      "metadata": {
        "id": "aK1sMsF4wKn2",
        "colab": {
          "base_uri": "https://localhost:8080/"
        },
        "outputId": "f085302c-f61f-4cbb-995f-1a7647f9b392"
      },
      "id": "aK1sMsF4wKn2",
      "execution_count": null,
      "outputs": [
        {
          "output_type": "execute_result",
          "data": {
            "text/plain": [
              "{0: 'None',\n",
              " 1: 'award.award_nominated_work.award_nominations..award.award_nomination.award_nominee',\n",
              " 2: 'book.author.works_written',\n",
              " 3: 'book.book.genre',\n",
              " 4: 'business.company.industry',\n",
              " 5: 'education.educational_institution.students_graduates..education.educational_institution.students_graduates',\n",
              " 6: 'film.actor.film..film.performance.character',\n",
              " 7: 'film.director.film',\n",
              " 8: 'film.film.country',\n",
              " 9: 'film.film.genre',\n",
              " 10: 'film.film.language',\n",
              " 11: 'film.film.music',\n",
              " 12: 'film.film.production_companies',\n",
              " 13: 'film.performance.actor..film.performance.film',\n",
              " 14: 'film.producer.film',\n",
              " 15: 'film.writer.film',\n",
              " 16: 'government.political_party.politicians_in_this_party',\n",
              " 17: 'location.location.contains',\n",
              " 18: 'music.artist.album',\n",
              " 19: 'music.artist.origin',\n",
              " 20: 'people.deceased_person.place_of_death',\n",
              " 21: 'people.person.nationality',\n",
              " 22: 'people.person.parents',\n",
              " 23: 'people.person.place_of_birth',\n",
              " 24: 'people.person.profession',\n",
              " 25: 'people.person.religion',\n",
              " 26: 'people.person.spouse_s..people.marriage.spouse',\n",
              " 27: 'soccer.football_position.players',\n",
              " 28: 'sports.sports_team.roster..sports.sports_team_roster.player'}"
            ]
          },
          "metadata": {},
          "execution_count": 13
        }
      ]
    },
    {
      "cell_type": "code",
      "execution_count": null,
      "id": "ba31cda9",
      "metadata": {
        "id": "ba31cda9",
        "colab": {
          "base_uri": "https://localhost:8080/"
        },
        "outputId": "582a23ef-6895-4db6-9571-813837c9e5bc"
      },
      "outputs": [
        {
          "output_type": "stream",
          "name": "stdout",
          "text": [
            "[27  9 21  8 12]\n"
          ]
        }
      ],
      "source": [
        "print(y[:5])"
      ]
    },
    {
      "cell_type": "code",
      "execution_count": null,
      "id": "0c51d433",
      "metadata": {
        "id": "0c51d433",
        "colab": {
          "base_uri": "https://localhost:8080/"
        },
        "outputId": "683d16ef-d8c4-4df0-c74a-54ddacbd240e"
      },
      "outputs": [
        {
          "output_type": "stream",
          "name": "stdout",
          "text": [
            "['Scorers and assistants Position Name DF  Marko Lomić Marko Lomić'\n",
            " 'Short films Title Genre  Bramadero Bramadero  Erotic'\n",
            " 'First Team Squad Name Nationality  Dídac Vilà Dídac Vilà  Spain'\n",
            " '2010s Film Country  Mother Mother 2009 film   South Korea South Korea'\n",
            " '2000s Film Studio(s)  Monster House Monster House film   Relativity Media Relativity Media ImageMovers ImageMovers and Amblin Entertainment Amblin Entertainment']\n"
          ]
        }
      ],
      "source": [
        "print(sentences[:5])"
      ]
    },
    {
      "cell_type": "code",
      "execution_count": null,
      "id": "38feb66c",
      "metadata": {
        "id": "38feb66c"
      },
      "outputs": [],
      "source": [
        "m_url = 'https://tfhub.dev/tensorflow/bert_en_uncased_L-12_H-768_A-12/2'\n",
        "bert_layer = hub.KerasLayer(m_url, trainable=False)"
      ]
    },
    {
      "cell_type": "code",
      "execution_count": null,
      "id": "f4c035ac",
      "metadata": {
        "id": "f4c035ac"
      },
      "outputs": [],
      "source": [
        "vocab_file = bert_layer.resolved_object.vocab_file.asset_path.numpy()\n",
        "do_lower_case = bert_layer.resolved_object.do_lower_case.numpy()\n",
        "tokenizer = tokenization.FullTokenizer(vocab_file, do_lower_case)\n",
        "\n",
        "def bert_encode(texts, tokenizer, max_len=512):\n",
        "    all_tokens = []\n",
        "    all_masks = []\n",
        "    all_segments = []\n",
        "    \n",
        "    for text in texts:\n",
        "        text = tokenizer.tokenize(text)\n",
        "        \n",
        "        text = text[:max_len-2]\n",
        "        input_sequence = [\"[CLS]\"] + text + [\"[SEP]\"]\n",
        "        pad_len = max_len-len(input_sequence)\n",
        "        \n",
        "        tokens = tokenizer.convert_tokens_to_ids(input_sequence) + [0] * pad_len\n",
        "        pad_masks = [1] * len(input_sequence) + [0] * pad_len\n",
        "        segment_ids = [0] * max_len\n",
        "        \n",
        "        all_tokens.append(tokens)\n",
        "        all_masks.append(pad_masks)\n",
        "        all_segments.append(segment_ids)\n",
        "        \n",
        "    return np.array(all_tokens), np.array(all_masks), np.array(all_segments)"
      ]
    },
    {
      "cell_type": "code",
      "execution_count": null,
      "id": "1f7e990c",
      "metadata": {
        "id": "1f7e990c"
      },
      "outputs": [],
      "source": [
        "def build_model(bert_layer, max_len=512, seed=0):\n",
        "    input_word_ids = tf.keras.Input(shape=(max_len,), dtype=tf.int32, name=\"input_word_ids\")\n",
        "    input_mask = tf.keras.Input(shape=(max_len,), dtype=tf.int32, name=\"input_mask\")\n",
        "    segment_ids = tf.keras.Input(shape=(max_len,), dtype=tf.int32, name=\"segment_ids\")\n",
        "    \n",
        "    pooled_output, sequence_output = bert_layer([input_word_ids, input_mask, segment_ids])\n",
        "    np.savez_compressed(f\"bert_sequence_op_seed_{seed}.npz\", sequence_output)\n",
        "    \n",
        "    print(tf.shape(sequence_output))\n",
        "    clf_output = sequence_output[:, :, :]\n",
        "    print(tf.shape(clf_output))\n",
        "    \n",
        "    lay = tf.keras.layers.Conv1D(filters=8, kernel_size=5, strides=1, padding=\"same\", activation=\"relu\")(clf_output)\n",
        "    lay = tf.keras.layers.MaxPooling1D(2, 2)(lay)\n",
        "    #lay = tf.keras.layers.LSTM(2, return_sequences=True, dropout=0.2)(lay)\n",
        "    lay = tf.keras.layers.Bidirectional(tf.keras.layers.LSTM(8, return_sequences=True, dropout=0.2))(lay)\n",
        "    lay = tf.keras.layers.Flatten()(lay)\n",
        "    out = tf.keras.layers.Dense(29, activation='softmax')(lay)\n",
        "    \n",
        "    model = tf.keras.models.Model(inputs=[input_word_ids, input_mask, segment_ids], outputs=out)\n",
        "    #model.compile(tf.keras.optimizers.Adam(lr=2e-5), loss='categorical_crossentropy', metrics=['accuracy'])\n",
        "    model.compile(tf.keras.optimizers.Adam(lr=2e-5), loss='sparse_categorical_crossentropy', metrics=['accuracy'])\n",
        "    #model.compile(tf.keras.optimizers.RMSprop(lr=0.001), loss='sparse_categorical_crossentropy', metrics=['accuracy'])\n",
        "    \n",
        "    return model"
      ]
    },
    {
      "cell_type": "markdown",
      "id": "8978e352",
      "metadata": {
        "id": "8978e352"
      },
      "source": [
        "### Obtaining Train, test splits.\n",
        "###### In the train splits, we will have a separate validation split."
      ]
    },
    {
      "cell_type": "code",
      "execution_count": null,
      "id": "067426d5",
      "metadata": {
        "id": "067426d5"
      },
      "outputs": [],
      "source": [
        "checkpoint_path = \"training_relations/cp.ckpt\"\n",
        "checkpoint_dir = os.path.dirname(checkpoint_path)"
      ]
    },
    {
      "cell_type": "code",
      "execution_count": null,
      "id": "3b0c4d4e",
      "metadata": {
        "id": "3b0c4d4e"
      },
      "outputs": [],
      "source": [
        "def get_labels(y_pred):\n",
        "    y_pred_label = np.zeros((len(y_pred),1))\n",
        "    print(y_pred_label.shape)\n",
        "    for index in range(len(y_pred)):\n",
        "        y_pred_label[index] = np.argmax(y_pred[index])\n",
        "    return y_pred_label"
      ]
    },
    {
      "cell_type": "markdown",
      "source": [
        "# Do not run the following cell if using checkpointed files."
      ],
      "metadata": {
        "id": "supNxpCZ_xQv"
      },
      "id": "supNxpCZ_xQv"
    },
    {
      "cell_type": "code",
      "execution_count": null,
      "id": "1273f00a",
      "metadata": {
        "id": "1273f00a"
      },
      "outputs": [],
      "source": [
        "with tf.device('/device:GPU:0'):\n",
        "    splits = 5 # For five fold cross-validation.\n",
        "    #seeds = [i for i in range(splits)]  # Fix the seed value for reproducibility.\n",
        "    seeds = [0] \n",
        "    \n",
        "    val_dict = {}\n",
        "    test_dict = {}\n",
        "\n",
        "    # First get random train-test splits. Doesn't include validation, which will be obtained from the train set.\n",
        "    for seed in seeds:\n",
        "        x_t, x_test, y_t, y_test = train_test_split(sentences, y, random_state=seed, test_size=0.2)   # Global training and test sets.\n",
        "\n",
        "        # Now get validation sets from each training set.\n",
        "        # kf = KFold(n_splits=5, shuffle=False) # Setting shuffle=False because shuffled dataset already before.\n",
        "        # fold_count = 0\n",
        "\n",
        "        # for train_index, val_index in kf.split(x_t):\n",
        "        #     #print(x_t.shape)\n",
        "        #     #print(y_t.shape)\n",
        "        #     x_train, x_val = x_t[train_index], x_t[val_index]   # Training and validation features.\n",
        "        #     y_train, y_val = y_t[train_index], y_t[val_index]   # Training and validation labels.\n",
        "\n",
        "        #     #encode train data\n",
        "        #     max_len = 80\n",
        "        #     train_input = bert_encode(x_train, tokenizer, max_len=max_len)\n",
        "        #     train_labels = y_train\n",
        "        #     x_val = bert_encode(x_val, tokenizer, max_len=max_len)\n",
        "\n",
        "\n",
        "        #     model = build_model(bert_layer, max_len=max_len)\n",
        "        #     model.summary()\n",
        "        #     #checkpoint = tf.keras.callbacks.ModelCheckpoint('model.h5', monitor='val_accuracy', save_best_only=True, verbose=1)\n",
        "        #     checkpoint = tf.keras.callbacks.ModelCheckpoint(filepath=checkpoint_path, save_weights_only=True, verbose=1)\n",
        "        #     earlystopping = tf.keras.callbacks.EarlyStopping(monitor='val_accuracy', patience=5, verbose=1)\n",
        "        #     train_sh = model.fit(\n",
        "        #     train_input, train_labels,\n",
        "        #     #validation_split=0.2,\n",
        "        #     validation_data=(x_val, y_val),\n",
        "        #     epochs=2,\n",
        "        #     callbacks=[checkpoint, earlystopping],\n",
        "        #     batch_size=16,\n",
        "        #     verbose=1)\n",
        "\n",
        "        #     # Validation sets can be used for hyperparamter tuning.  \n",
        "        #     val_dict[str(seed) + str(fold_count)] = train_sh.history\n",
        "        #     fold_count += 1\n",
        "\n",
        "        #encode whole train data\n",
        "        max_len = 80\n",
        "        train_input = bert_encode(x_t, tokenizer, max_len=max_len)\n",
        "        train_labels = y_t\n",
        "        \n",
        "        #train model on whole train data\n",
        "        model = build_model(bert_layer, max_len=max_len, seed=seed)\n",
        "        model.summary()\n",
        "        #checkpoint = tf.keras.callbacks.ModelCheckpoint('model.h5', monitor='val_accuracy', save_best_only=True, verbose=1)\n",
        "        checkpoint = tf.keras.callbacks.ModelCheckpoint(filepath=checkpoint_path, save_weights_only=True, verbose=1)\n",
        "        earlystopping = tf.keras.callbacks.EarlyStopping(monitor='val_accuracy', patience=5, verbose=1)\n",
        "        train_sh = model.fit(\n",
        "        train_input, train_labels,\n",
        "        validation_split=0,\n",
        "        epochs=6,\n",
        "        callbacks=[checkpoint, earlystopping],\n",
        "        batch_size=16,\n",
        "        verbose=1)\n",
        "\n",
        "        #encode test data \n",
        "        test_input = bert_encode(x_test, tokenizer, max_len=max_len)\n",
        "\n",
        "        # Evaluate the model on the test data using `evaluate`\n",
        "        print(\"Evaluate on test data for \", seed)\n",
        "        results = model.evaluate(test_input, y_test, batch_size=16)\n",
        "\n",
        "        #calculate F1-score\n",
        "        y_pred = model.predict(test_input, verbose=1)\n",
        "        y_pred_label = get_labels(y_pred)\n",
        "        f1_value = f1_score(y_test, y_pred_label, average='macro')\n",
        "        results.append(f1_value)\n",
        "        print(\"test loss, test acc, F1-score:\", results)\n",
        "\n",
        "        test_dict[seed] = results"
      ]
    },
    {
      "cell_type": "code",
      "execution_count": null,
      "id": "fbcc0f85",
      "metadata": {
        "id": "fbcc0f85"
      },
      "outputs": [],
      "source": [
        "# with open('results seed=0 batch_size=16.txt','w') as data: \n",
        "#     data.write(str(val_dict))\n",
        "#     data.write('\\n')\n",
        "#     data.write(str(test_dict))"
      ]
    },
    {
      "cell_type": "markdown",
      "source": [
        "## The following section is for loading the checkpoint weights and then obtaining the confusion matrix."
      ],
      "metadata": {
        "id": "FeWlf9nu_Pcj"
      },
      "id": "FeWlf9nu_Pcj"
    },
    {
      "cell_type": "code",
      "source": [
        "cms = []"
      ],
      "metadata": {
        "id": "LaUsCtiz29X5"
      },
      "id": "LaUsCtiz29X5",
      "execution_count": null,
      "outputs": []
    },
    {
      "cell_type": "code",
      "execution_count": null,
      "id": "3d262a9e",
      "metadata": {
        "id": "3d262a9e",
        "colab": {
          "base_uri": "https://localhost:8080/",
          "height": 342
        },
        "outputId": "7948353b-e46f-4eb0-b940-9dbae28351b3"
      },
      "outputs": [
        {
          "output_type": "stream",
          "name": "stdout",
          "text": [
            "['Squad statistics League Discipline 1 4  2'\n",
            " 'Filmography Title Genre Help documentary'\n",
            " 'Boston Globe–Horn Book Award winners Winners Book Category  The Garden of Abdul Gasazi The Garden of Abdul Gasazi  Special Citation'\n",
            " '2017 Winners (Top 10) Company Sector Lesara GmbH Media'\n",
            " 'Loans in Name Nationality  Michael Turner Michael Turner footballer  Czechia Czechia']\n"
          ]
        },
        {
          "output_type": "error",
          "ename": "NameError",
          "evalue": "ignored",
          "traceback": [
            "\u001b[0;31m---------------------------------------------------------------------------\u001b[0m",
            "\u001b[0;31mNameError\u001b[0m                                 Traceback (most recent call last)",
            "\u001b[0;32m<ipython-input-15-27d2745266f9>\u001b[0m in \u001b[0;36m<module>\u001b[0;34m()\u001b[0m\n\u001b[1;32m     16\u001b[0m         \u001b[0;31m# Evaluate the new model\u001b[0m\u001b[0;34m\u001b[0m\u001b[0;34m\u001b[0m\u001b[0;34m\u001b[0m\u001b[0m\n\u001b[1;32m     17\u001b[0m         \u001b[0mmax_len\u001b[0m \u001b[0;34m=\u001b[0m \u001b[0;36m80\u001b[0m\u001b[0;34m\u001b[0m\u001b[0;34m\u001b[0m\u001b[0m\n\u001b[0;32m---> 18\u001b[0;31m         \u001b[0mnew_model\u001b[0m \u001b[0;34m=\u001b[0m \u001b[0mbuild_model\u001b[0m\u001b[0;34m(\u001b[0m\u001b[0mbert_layer\u001b[0m\u001b[0;34m,\u001b[0m \u001b[0mmax_len\u001b[0m\u001b[0;34m=\u001b[0m\u001b[0mmax_len\u001b[0m\u001b[0;34m)\u001b[0m\u001b[0;34m\u001b[0m\u001b[0;34m\u001b[0m\u001b[0m\n\u001b[0m\u001b[1;32m     19\u001b[0m         \u001b[0mnew_model\u001b[0m\u001b[0;34m.\u001b[0m\u001b[0msummary\u001b[0m\u001b[0;34m(\u001b[0m\u001b[0;34m)\u001b[0m\u001b[0;34m\u001b[0m\u001b[0;34m\u001b[0m\u001b[0m\n\u001b[1;32m     20\u001b[0m         \u001b[0;31m# Loads the weights for new model\u001b[0m\u001b[0;34m\u001b[0m\u001b[0;34m\u001b[0m\u001b[0;34m\u001b[0m\u001b[0m\n",
            "\u001b[0;31mNameError\u001b[0m: name 'build_model' is not defined"
          ]
        }
      ],
      "source": [
        "#code for loading weights from checkpoint\n",
        "with tf.device('/device:GPU:0'):\n",
        "    results = []\n",
        "    splits = 5 # For five fold cross-validation.\n",
        "    #seeds = [i for i in range(splits)]  # Fix the seed value for reproducibility.\n",
        "    seeds = [4]#0, 1, 2, 3, 4]\n",
        "    \n",
        "    val_dict = {}\n",
        "    test_dict = {}\n",
        "    \n",
        "    # First get random train-test splits. Doesn't include validation, which will be obtained from the train set.\n",
        "    for seed in seeds:\n",
        "        x_t, x_test, y_t, y_test = train_test_split(sentences, y, random_state=seed, test_size=0.2)   # Global training and test sets.\n",
        "        print(x_test[:5])\n",
        "\n",
        "        # Evaluate the new model\n",
        "        max_len = 80\n",
        "        new_model = build_model(bert_layer, max_len=max_len)\n",
        "        new_model.summary()\n",
        "        # Loads the weights for new model\n",
        "        checkpoint_path = f\"/content/drive/Shareddrives/CMPUT 656 Data and Results/Result 29 Relations/Seed {seed}/training_relations/cp.ckpt\"\n",
        "        training_relations_path = f\"/content/drive/Shareddrives/CMPUT 656 Data and Results/Result 29 Relations/Seed {seed}/training_relations/\"\n",
        "        # /content/drive/Shareddrives/CMPUT 656 Data and Results/Result 29 Relations/Seed 0/training_relations/cp.ckpt.data-00000-of-00001\n",
        "        \n",
        "\n",
        "        new_model.load_weights(checkpoint_path)\n",
        "\n",
        "        #encode test data\n",
        "        test_input = bert_encode(x_test, tokenizer, max_len=max_len)\n",
        "\n",
        "        # Evaluate the model on the test data using `evaluate`\n",
        "        print(\"Evaluate on test data for \", seed)\n",
        "        # results = new_model.evaluate(test_input, y_test, batch_size=16)\n",
        "\n",
        "        #calculate F1-score\n",
        "        y_pred = new_model.predict(test_input, batch_size=16, verbose=1)\n",
        "        y_pred_label = get_labels(y_pred)\n",
        "        f1_value = f1_score(y_test, y_pred_label, average='macro')\n",
        "        np.savez_compressed(training_relations_path +  \"predictions.npz\", y_pred_label)\n",
        "        cm = confusion_matrix(y_pred_label, y_test, labels=[i for i in label_mappings.keys()])\n",
        "        cms.append(cm)\n",
        "\n",
        "        results.append(f1_value)\n",
        "        print(\"Test loss, Test acc, F1-score:\", results)"
      ]
    },
    {
      "cell_type": "code",
      "source": [
        "x_test[:20]\n"
      ],
      "metadata": {
        "colab": {
          "base_uri": "https://localhost:8080/"
        },
        "id": "CjUKDn2y9oQl",
        "outputId": "2325224c-1459-4f18-d910-fed1097b4e26"
      },
      "id": "CjUKDn2y9oQl",
      "execution_count": null,
      "outputs": [
        {
          "output_type": "execute_result",
          "data": {
            "text/plain": [
              "array(['Squad statistics League Discipline 1 4  2',\n",
              "       'Filmography Title Genre Help documentary',\n",
              "       'Boston Globe–Horn Book Award winners Winners Book Category  The Garden of Abdul Gasazi The Garden of Abdul Gasazi  Special Citation',\n",
              "       '2017 Winners (Top 10) Company Sector Lesara GmbH Media',\n",
              "       'Loans in Name Nationality  Michael Turner Michael Turner footballer  Czechia Czechia',\n",
              "       'TV works Role(s) Yugo Kanno Composer',\n",
              "       'Short films Title Genre  Drowning Drowning short film  Drama',\n",
              "       'Districts District Rainfall in Karnataka  Bellary Bellary',\n",
              "       'Discography/Filmography Film Composer  Gali Gali Mein Chor Hai Gali Gali Mein Chor Hai   Anu Malik Anu Malik',\n",
              "       'Film releases Title Studio  The Three Musketeers The Three Musketeers 2011 film  Summit',\n",
              "       'Past Utopians Name Occupation Harun Zeren Student',\n",
              "       'Roster COLLEGE ROSTER  Marquette University Marquette University  Mukesh Advani',\n",
              "       'Films Film Title Production Company  De Palma De Palma film  Empire Ward Pictures',\n",
              "       'Awards and nominations Category Recipient Outstanding Supporting Actress in a Comedy or Variety or Music Series Eileen Brennan',\n",
              "       'List of voice performances in direct-to-video and television films Film Role Robert McCollum Fumito Nanahara',\n",
              "       'First team squads Name Nationality  Neil Taylor Neil Taylor footballer  Wales Wales',\n",
              "       'Notable discography Film Music Director  Karuththamma Karuththamma  A R Rahman',\n",
              "       'Regular season and playoffs   35  2009 10 2009 10 Ligue Magnus season',\n",
              "       'Film releases Title Studio  Southern Comfort Southern Comfort 1981 film  Shout Factory',\n",
              "       'Anime works Role(s) Hiroyuki Sawano Ending theme song composer arranger and producer'],\n",
              "      dtype='<U1376')"
            ]
          },
          "metadata": {},
          "execution_count": 29
        }
      ]
    },
    {
      "cell_type": "code",
      "source": [
        "print(reduced_label_mappings[:20])"
      ],
      "metadata": {
        "colab": {
          "base_uri": "https://localhost:8080/"
        },
        "id": "GrpKV8UN912X",
        "outputId": "69269e4c-35cd-4ca5-ab20-ec2185d9e36a"
      },
      "id": "GrpKV8UN912X",
      "execution_count": null,
      "outputs": [
        {
          "output_type": "stream",
          "name": "stdout",
          "text": [
            "[ 0  9  3  4 21 24  9 17 11 12 24  5 12  1  6 21 11  0 12 24]\n"
          ]
        }
      ]
    },
    {
      "cell_type": "code",
      "source": [
        "for k, v in label_mappings.items():\n",
        "    print(k, v)"
      ],
      "metadata": {
        "id": "I7_rkQXbPXb4"
      },
      "id": "I7_rkQXbPXb4",
      "execution_count": null,
      "outputs": []
    },
    {
      "cell_type": "code",
      "source": [
        "reduced_label_mappings = {\n",
        "    0: 'None',\n",
        "    1: 'award=nominee',\n",
        "    2: 'author-works_written',\n",
        "    3: 'book-genre',\n",
        "    4: 'company-industry',\n",
        "    5: 'person-graduate',\n",
        "    6: 'actor-character',\n",
        "    7: 'director-film',\n",
        "    8: 'film-country',\n",
        "    9: 'film-genre',\n",
        "    10: 'film-language',\n",
        "    11: 'film-music',\n",
        "    12: 'film-production_company',\n",
        "    13: 'actor-film',\n",
        "    14: 'producer-film',\n",
        "    15: 'writer-film',\n",
        "    16: 'political_party-politician',\n",
        "    17: 'location-contains',\n",
        "    18: 'musician-album',\n",
        "    19: 'musician-origin',\n",
        "    20: 'person-place_of_death',\n",
        "    21: 'person-nationality',\n",
        "    22: 'person-parents',\n",
        "    23: 'person-place_of_birth',\n",
        "    24: 'person-profession',\n",
        "    25: 'person-religion',\n",
        "    26: 'person-spouse',\n",
        "    27: 'football_position-player',\n",
        "    28: 'sports_team-player'\n",
        "}"
      ],
      "metadata": {
        "id": "Qz-UVxN7O7lF"
      },
      "id": "Qz-UVxN7O7lF",
      "execution_count": null,
      "outputs": []
    },
    {
      "cell_type": "markdown",
      "source": [
        "# Read in all the predictions for different seeds and make a confusion matrix by averaging them together. \n",
        "\n",
        "NOTE: The confusion matrix is normalized."
      ],
      "metadata": {
        "id": "pMq1QPcfCwXD"
      },
      "id": "pMq1QPcfCwXD"
    },
    {
      "cell_type": "code",
      "source": [
        "cms = []\n",
        "seeds = [0, 1, 2, 3, 4]\n",
        "for seed in seeds:\n",
        "    training_relations_path = f\"/content/drive/Shareddrives/CMPUT 656 Data and Results/Result 29 Relations/Seed {seed}/training_relations/\"\n",
        "    x_t, x_test, y_t, y_test = train_test_split(sentences, y, random_state=seed, test_size=0.2)\n",
        "    del x_t\n",
        "    del x_test\n",
        "    del y_t\n",
        "    predictions = np.load(training_relations_path + \"predictions.npz\", allow_pickle=True)['arr_0'].tolist()\n",
        "    cms.append(confusion_matrix(predictions, y_test, labels=[i for i in label_mappings.keys()]))\n",
        "\n"
      ],
      "metadata": {
        "id": "W_mmEVHGCv0e"
      },
      "id": "W_mmEVHGCv0e",
      "execution_count": null,
      "outputs": []
    },
    {
      "cell_type": "code",
      "source": [
        "plt.clf()\n",
        "averaged_cms = np.mean(cms, axis=0)\n",
        "averaged_cms = averaged_cms.astype('float') / averaged_cms.sum(axis=1)[:, np.newaxis]\n",
        "cms_df = pd.DataFrame(averaged_cms, index = [value for value in reduced_label_mappings.values()],\n",
        "                      columns=[value for value in reduced_label_mappings.values()])\n",
        "fig, ax = plt.subplots(figsize=(15, 10))\n",
        "heat = sns.heatmap(cms_df, vmin=0.0, vmax=1.0, cbar_kws={'label': 'Normalized value'})\n",
        "heat.figure.axes[-1].yaxis.label.set_size(20)\n",
        "yticks = [i.upper() for i in cms_df.index]\n",
        "xticks = [i.upper() for i in cms_df.columns]\n",
        "plt.yticks(plt.yticks()[0], labels=yticks, rotation=0)\n",
        "plt.xticks(plt.xticks()[0], labels=xticks, rotation=270)\n",
        "plt.title(\"Confusion matrix for all 29 relations - CoMemNet-BiLSTM\", fontsize=20)\n",
        "\n",
        "plt.show()"
      ],
      "metadata": {
        "colab": {
          "base_uri": "https://localhost:8080/",
          "height": 767
        },
        "id": "7Sq9mBk5GU8z",
        "outputId": "a8ca1388-1097-44f0-e956-95df2fe089e6"
      },
      "id": "7Sq9mBk5GU8z",
      "execution_count": null,
      "outputs": [
        {
          "output_type": "display_data",
          "data": {
            "text/plain": [
              "<Figure size 432x288 with 0 Axes>"
            ]
          },
          "metadata": {}
        },
        {
          "output_type": "display_data",
          "data": {
            "text/plain": [
              "<Figure size 1080x720 with 2 Axes>"
            ],
            "image/png": "[encoded data removed]"
          },
          "metadata": {
            "needs_background": "light"
          }
        }
      ]
    },
    {
      "cell_type": "code",
      "source": [
        "cm = confusion_matrix(y_pred_label, y_test, labels=[i for i in label_mappings.keys()])\n",
        "cms.append(cm)"
      ],
      "metadata": {
        "id": "2opTYdsrKEGc"
      },
      "id": "2opTYdsrKEGc",
      "execution_count": null,
      "outputs": []
    },
    {
      "cell_type": "code",
      "source": [
        "import matplotlib.pyplot as plt\n",
        "import seaborn as sns\n",
        "averaged_cms = np.mean(cms, axis=0)\n",
        "averaged_cms = averaged_cms.astype('float') / averaged_cms.sum(axis=1)[:, np.newaxis]\n",
        "cms_df = pd.DataFrame(averaged_cms, index = [value for value in reduced_label_mappings.values()],\n",
        "                      columns=[value for value in reduced_label_mappings.values()])\n",
        "fig, ax = plt.subplots(figsize=(15, 10))\n",
        "heat = sns.heatmap(cms_df, vmin=0.0, vmax=1.0, cbar_kws={'label': 'Normalized value'})\n",
        "heat.figure.axes[-1].yaxis.label.set_size(20)\n",
        "yticks = [i.upper() for i in cms_df.index]\n",
        "xticks = [i.upper() for i in cms_df.columns]\n",
        "plt.yticks(plt.yticks()[0], labels=yticks, rotation=0)\n",
        "plt.xticks(plt.xticks()[0], labels=xticks, rotation=270)\n",
        "plt.title(\"Confusion matrix for all 29 relations\", fontsize=20)\n",
        "\n",
        "plt.show()"
      ],
      "metadata": {
        "id": "jUlmE6gXzCnX",
        "colab": {
          "base_uri": "https://localhost:8080/"
        },
        "outputId": "f8c62772-e7dd-4baa-ce43-3cafb0aa0299"
      },
      "id": "jUlmE6gXzCnX",
      "execution_count": null,
      "outputs": [
        {
          "output_type": "display_data",
          "data": {
            "text/plain": [
              "<Figure size 1080x720 with 2 Axes>"
            ],
            "image/png": "[encoded data removed]"
          },
          "metadata": {
            "needs_background": "light"
          }
        }
      ]
    },
    {
      "cell_type": "code",
      "source": [
        "\n",
        "averaged_cms.shape"
      ],
      "metadata": {
        "colab": {
          "base_uri": "https://localhost:8080/"
        },
        "id": "IQa_Po-3KZhQ",
        "outputId": "00ca7713-4d9e-42e3-de44-be5b941a0640"
      },
      "id": "IQa_Po-3KZhQ",
      "execution_count": null,
      "outputs": [
        {
          "output_type": "execute_result",
          "data": {
            "text/plain": [
              "(29, 29)"
            ]
          },
          "metadata": {},
          "execution_count": 28
        }
      ]
    },
    {
      "cell_type": "markdown",
      "source": [
        "# Gradio app to demo the model."
      ],
      "metadata": {
        "id": "jtlbe1CJDnm9"
      },
      "id": "jtlbe1CJDnm9"
    },
    {
      "cell_type": "code",
      "source": [
        "!pip install -q gradio\n",
        "!pip install sentencepiece"
      ],
      "metadata": {
        "colab": {
          "base_uri": "https://localhost:8080/"
        },
        "id": "EwACbEqUD9Eh",
        "outputId": "d9ead124-4ada-4da2-afe0-ad3b4be3c2c8"
      },
      "id": "EwACbEqUD9Eh",
      "execution_count": null,
      "outputs": [
        {
          "output_type": "stream",
          "name": "stdout",
          "text": [
            "Requirement already satisfied: sentencepiece in /usr/local/lib/python3.7/dist-packages (0.1.96)\n"
          ]
        }
      ]
    },
    {
      "cell_type": "code",
      "source": [
        "import tokenization\n",
        "import pandas as pd\n",
        "import os\n",
        "import numpy as np\n",
        "import matplotlib.pyplot as plt\n",
        "import seaborn as sns\n",
        "# from keras.callbacks import Callback\n",
        "from sklearn.metrics import confusion_matrix, f1_score, precision_score, recall_score\n",
        "\n",
        "import tensorflow as tf\n",
        "import tensorflow_hub as hub\n",
        "from tensorflow.keras.utils import to_categorical\n",
        "from sklearn import preprocessing\n",
        "from sklearn.model_selection import train_test_split\n",
        "from sklearn.model_selection import KFold\n",
        "from sklearn.utils import shuffle\n",
        "from sklearn.metrics import f1_score\n",
        "import gradio as gr"
      ],
      "metadata": {
        "id": "X6AmNeboDnCP"
      },
      "id": "X6AmNeboDnCP",
      "execution_count": null,
      "outputs": []
    },
    {
      "cell_type": "code",
      "source": [
        "m_url = 'https://tfhub.dev/tensorflow/bert_en_uncased_L-12_H-768_A-12/2'\n",
        "bert_layer = hub.KerasLayer(m_url, trainable=False)"
      ],
      "metadata": {
        "id": "77f7IcjyFQ5h"
      },
      "id": "77f7IcjyFQ5h",
      "execution_count": null,
      "outputs": []
    },
    {
      "cell_type": "code",
      "source": [
        "from google.colab import drive\n",
        "drive.mount('/content/drive')"
      ],
      "metadata": {
        "colab": {
          "base_uri": "https://localhost:8080/"
        },
        "id": "H9bDfrKDIPzD",
        "outputId": "34430bea-1ac9-47da-ea75-4f4dc3d1d49a"
      },
      "id": "H9bDfrKDIPzD",
      "execution_count": null,
      "outputs": [
        {
          "output_type": "stream",
          "name": "stdout",
          "text": [
            "Mounted at /content/drive\n"
          ]
        }
      ]
    },
    {
      "cell_type": "code",
      "source": [
        "def get_labels(y_pred):\n",
        "    y_pred_label = np.zeros((len(y_pred),1))\n",
        "    print(y_pred_label.shape)\n",
        "    for index in range(len(y_pred)):\n",
        "        y_pred_label[index] = np.argmax(y_pred[index])\n",
        "    return y_pred_label"
      ],
      "metadata": {
        "id": "aswYd2oTGUE6"
      },
      "id": "aswYd2oTGUE6",
      "execution_count": null,
      "outputs": []
    },
    {
      "cell_type": "code",
      "source": [
        "vocab_file = bert_layer.resolved_object.vocab_file.asset_path.numpy()\n",
        "do_lower_case = bert_layer.resolved_object.do_lower_case.numpy()\n",
        "tokenizer = tokenization.FullTokenizer(vocab_file, do_lower_case)\n",
        "\n",
        "def bert_encode(texts, tokenizer, max_len=512):\n",
        "    all_tokens = []\n",
        "    all_masks = []\n",
        "    all_segments = []\n",
        "    \n",
        "    for text in texts:\n",
        "        text = tokenizer.tokenize(text)\n",
        "        \n",
        "        text = text[:max_len-2]\n",
        "        input_sequence = [\"[CLS]\"] + text + [\"[SEP]\"]\n",
        "        pad_len = max_len-len(input_sequence)\n",
        "        \n",
        "        tokens = tokenizer.convert_tokens_to_ids(input_sequence) + [0] * pad_len\n",
        "        pad_masks = [1] * len(input_sequence) + [0] * pad_len\n",
        "        segment_ids = [0] * max_len\n",
        "        \n",
        "        all_tokens.append(tokens)\n",
        "        all_masks.append(pad_masks)\n",
        "        all_segments.append(segment_ids)\n",
        "        \n",
        "    return np.array(all_tokens), np.array(all_masks), np.array(all_segments)"
      ],
      "metadata": {
        "id": "Zxhq_iIbFVc8"
      },
      "id": "Zxhq_iIbFVc8",
      "execution_count": null,
      "outputs": []
    },
    {
      "cell_type": "code",
      "source": [
        "def build_model(bert_layer, max_len=512):\n",
        "    input_word_ids = tf.keras.Input(shape=(max_len,), dtype=tf.int32, name=\"input_word_ids\")\n",
        "    input_mask = tf.keras.Input(shape=(max_len,), dtype=tf.int32, name=\"input_mask\")\n",
        "    segment_ids = tf.keras.Input(shape=(max_len,), dtype=tf.int32, name=\"segment_ids\")\n",
        "    \n",
        "    pooled_output, sequence_output = bert_layer([input_word_ids, input_mask, segment_ids])\n",
        "    \n",
        "    print(tf.shape(sequence_output))\n",
        "    clf_output = sequence_output[:, :, :]\n",
        "    print(tf.shape(clf_output))\n",
        "    \n",
        "    lay = tf.keras.layers.Conv1D(filters=8, kernel_size=5, strides=1, padding=\"same\", activation=\"relu\")(clf_output)\n",
        "    lay = tf.keras.layers.MaxPooling1D(2, 2)(lay)\n",
        "    #lay = tf.keras.layers.LSTM(2, return_sequences=True, dropout=0.2)(lay)\n",
        "    lay = tf.keras.layers.Bidirectional(tf.keras.layers.LSTM(8, return_sequences=True, dropout=0.2))(lay)\n",
        "    lay = tf.keras.layers.Flatten()(lay)\n",
        "    out = tf.keras.layers.Dense(29, activation='softmax')(lay)\n",
        "    \n",
        "    model = tf.keras.models.Model(inputs=[input_word_ids, input_mask, segment_ids], outputs=out)\n",
        "    #model.compile(tf.keras.optimizers.Adam(lr=2e-5), loss='categorical_crossentropy', metrics=['accuracy'])\n",
        "    model.compile(tf.keras.optimizers.Adam(lr=2e-5), loss='sparse_categorical_crossentropy', metrics=['accuracy'])\n",
        "    #model.compile(tf.keras.optimizers.RMSprop(lr=0.001), loss='sparse_categorical_crossentropy', metrics=['accuracy'])\n",
        "    \n",
        "    return model"
      ],
      "metadata": {
        "id": "Smky04faFZZk"
      },
      "id": "Smky04faFZZk",
      "execution_count": null,
      "outputs": []
    },
    {
      "cell_type": "code",
      "source": [
        "reduced_label_mappings = {\n",
        "    0: 'None',\n",
        "    1: 'award-nominee',\n",
        "    2: 'author-works_written',\n",
        "    3: 'book-genre',\n",
        "    4: 'company-industry',\n",
        "    5: 'person-graduate',\n",
        "    6: 'actor-character',\n",
        "    7: 'director-film',\n",
        "    8: 'film-country',\n",
        "    9: 'film-genre',\n",
        "    10: 'film-language',\n",
        "    11: 'film-music',\n",
        "    12: 'film-production_company',\n",
        "    13: 'actor-film',\n",
        "    14: 'producer-film',\n",
        "    15: 'writer-film',\n",
        "    16: 'political_party-politician',\n",
        "    17: 'location-contains',\n",
        "    18: 'musician-album',\n",
        "    19: 'musician-origin',\n",
        "    20: 'person-place_of_death',\n",
        "    21: 'person-nationality',\n",
        "    22: 'person-parents',\n",
        "    23: 'person-place_of_birth',\n",
        "    24: 'person-profession',\n",
        "    25: 'person-religion',\n",
        "    26: 'person-spouse',\n",
        "    27: 'football_position-player',\n",
        "    28: 'sports_team-player'\n",
        "}"
      ],
      "metadata": {
        "id": "OXrFadSsGwId"
      },
      "id": "OXrFadSsGwId",
      "execution_count": null,
      "outputs": []
    },
    {
      "cell_type": "code",
      "source": [
        "# with tf.device('/device:GPU:0'):\n",
        "#     results = []\n",
        "#     splits = 5 # For five fold cross-validation.\n",
        "#     #seeds = [i for i in range(splits)]  # Fix the seed value for reproducibility.\n",
        "#     seeds = [4]#0, 1, 2, 3, 4]\n",
        "    \n",
        "#     val_dict = {}\n",
        "#     test_dict = {}\n",
        "    \n",
        "#     # First get random train-test splits. Doesn't include validation, which will be obtained from the train set.\n",
        "#     for seed in seeds:\n",
        "#         x_t, x_test, y_t, y_test = train_test_split(sentences, y, random_state=seed, test_size=0.2)   # Global training and test sets.\n",
        "\n",
        "#         # Evaluate the new model\n",
        "#         max_len = 80\n",
        "#         new_model = build_model(bert_layer, max_len=max_len)\n",
        "#         new_model.summary()\n",
        "#         # Loads the weights for new model\n",
        "#         checkpoint_path = f\"/content/drive/Shareddrives/CMPUT 656 Data and Results/Result 29 Relations/Seed {seed}/training_relations/cp.ckpt\"\n",
        "#         training_relations_path = f\"/content/drive/Shareddrives/CMPUT 656 Data and Results/Result 29 Relations/Seed {seed}/training_relations/\"\n",
        "#         # /content/drive/Shareddrives/CMPUT 656 Data and Results/Result 29 Relations/Seed 0/training_relations/cp.ckpt.data-00000-of-00001\n",
        "        \n",
        "\n",
        "#         new_model.load_weights(checkpoint_path)\n",
        "\n",
        "#         #encode test data\n",
        "#         test_input = bert_encode(x_test, tokenizer, max_len=max_len)\n",
        "\n",
        "#         # Evaluate the model on the test data using `evaluate`\n",
        "#         print(\"Evaluate on test data for \", seed)\n",
        "#         # results = new_model.evaluate(test_input, y_test, batch_size=16)\n",
        "\n",
        "#         #calculate F1-score\n",
        "#         y_pred = new_model.predict(test_input, batch_size=16, verbose=1)\n",
        "#         y_pred_label = get_labels(y_pred)\n",
        "#         f1_value = f1_score(y_test, y_pred_label, average='macro')\n",
        "#         np.savez_compressed(training_relations_path +  \"predictions.npz\", y_pred_label)\n",
        "#         cm = confusion_matrix(y_pred_label, y_test, labels=[i for i in label_mappings.keys()])\n",
        "#         cms.append(cm)\n",
        "\n",
        "#         results.append(f1_value)\n",
        "#         print(\"Test loss, Test acc, F1-score:\", results)"
      ],
      "metadata": {
        "id": "wem_JEGiEQI3"
      },
      "id": "wem_JEGiEQI3",
      "execution_count": null,
      "outputs": []
    },
    {
      "cell_type": "code",
      "source": [
        "seed = 0\n",
        "checkpoint_path = f\"/content/drive/Shareddrives/CMPUT 656 Data and Results/Result 29 Relations/Seed {seed}/training_relations/cp.ckpt\"\n",
        "max_len = 80\n",
        "\n",
        "new_model = build_model(bert_layer, max_len=max_len)\n",
        "new_model.load_weights(checkpoint_path)"
      ],
      "metadata": {
        "colab": {
          "base_uri": "https://localhost:8080/"
        },
        "id": "-zPjGNMaI-GX",
        "outputId": "045d6fbd-41ff-4123-c9cd-8de32cfc79f5"
      },
      "id": "-zPjGNMaI-GX",
      "execution_count": null,
      "outputs": [
        {
          "output_type": "stream",
          "name": "stdout",
          "text": [
            "KerasTensor(type_spec=TensorSpec(shape=(3,), dtype=tf.int32, name=None), inferred_value=[None, 80, 768], name='tf.compat.v1.shape/Shape:0', description=\"created by layer 'tf.compat.v1.shape'\")\n",
            "KerasTensor(type_spec=TensorSpec(shape=(3,), dtype=tf.int32, name=None), inferred_value=[None, 80, 768], name='tf.compat.v1.shape_1/Shape:0', description=\"created by layer 'tf.compat.v1.shape_1'\")\n"
          ]
        },
        {
          "output_type": "stream",
          "name": "stderr",
          "text": [
            "/usr/local/lib/python3.7/dist-packages/keras/optimizer_v2/adam.py:105: UserWarning: The `lr` argument is deprecated, use `learning_rate` instead.\n",
            "  super(Adam, self).__init__(name, **kwargs)\n"
          ]
        },
        {
          "output_type": "execute_result",
          "data": {
            "text/plain": [
              "<tensorflow.python.training.tracking.util.CheckpointLoadStatus at 0x7fca4e037650>"
            ]
          },
          "metadata": {},
          "execution_count": 11
        }
      ]
    },
    {
      "cell_type": "code",
      "source": [
        "def predict_relation(sentence):\n",
        "    print(sentence)\n",
        "    # df = pd.DataFrame.from_dict(\n",
        "    #     {\n",
        "    #         \"Pclass\": [passenger_class + 1],\n",
        "    #         \"Sex\": [0 if is_male else 1],\n",
        "    #         \"Age\": [age],\n",
        "    #         \"Company\": [\n",
        "    #             (1 if \"Sibling\" in company else 0) + (2 if \"Child\" in company else 0)\n",
        "    #         ],\n",
        "    #         \"Fare\": [fare],\n",
        "    #         \"Embarked\": [embark_point + 1],\n",
        "    #     }\n",
        "    # )\n",
        "    \n",
        "    test_input = bert_encode(np.array([sentence]), tokenizer, max_len=max_len)\n",
        "    y_pred = new_model.predict(test_input, batch_size=16, verbose=1)\n",
        "    y_pred_label = get_labels(y_pred)\n",
        "    relations = [rel for rel in reduced_label_mappings.values()]\n",
        "    probabilities = y_pred.tolist()[0]\n",
        "    result_dict = {}\n",
        "    for k, v in zip(relations, probabilities):\n",
        "        result_dict[k] = v\n",
        "    return result_dict\n",
        "    # return y_pred_label, y_pred"
      ],
      "metadata": {
        "id": "ROPxudeADyi5"
      },
      "id": "ROPxudeADyi5",
      "execution_count": null,
      "outputs": []
    },
    {
      "cell_type": "code",
      "source": [
        "# [rel for rel in reduced_label_mappings.values()]"
      ],
      "metadata": {
        "id": "V2SQyMTOKKtk"
      },
      "id": "V2SQyMTOKKtk",
      "execution_count": null,
      "outputs": []
    },
    {
      "cell_type": "code",
      "source": [
        "predict_relation(\"TV works Role(s) Yugo Kanno Composer\")"
      ],
      "metadata": {
        "colab": {
          "base_uri": "https://localhost:8080/"
        },
        "id": "Y2auaAfAIrCR",
        "outputId": "0864248d-649f-4fb1-81cb-47d2fcf7074a"
      },
      "id": "Y2auaAfAIrCR",
      "execution_count": null,
      "outputs": [
        {
          "output_type": "stream",
          "name": "stdout",
          "text": [
            "TV works Role(s) Yugo Kanno Composer\n",
            "1/1 [==============================] - 11s 11s/step\n",
            "(1, 1)\n"
          ]
        },
        {
          "output_type": "execute_result",
          "data": {
            "text/plain": [
              "{'None': 0.0012032901868224144,\n",
              " 'actor-character': 0.00011983360309386626,\n",
              " 'actor-film': 7.140382649595267e-07,\n",
              " 'author-works_written': 1.1249817788439032e-07,\n",
              " 'award-nominee': 2.489600490207522e-07,\n",
              " 'book-genre': 1.8623229625092108e-09,\n",
              " 'company-industry': 0.00011894755880348384,\n",
              " 'director-film': 1.2881027089406416e-07,\n",
              " 'film-country': 3.1057040619786314e-12,\n",
              " 'film-genre': 4.3642873492899525e-07,\n",
              " 'film-language': 1.414695305346214e-10,\n",
              " 'film-music': 1.5377777629055345e-07,\n",
              " 'film-production_company': 4.1322980592894965e-08,\n",
              " 'football_position-player': 0.00032236313563771546,\n",
              " 'location-contains': 3.3198357396457823e-09,\n",
              " 'musician-album': 2.057894789686543e-06,\n",
              " 'musician-origin': 1.273531147205631e-08,\n",
              " 'person-graduate': 7.19113158993423e-05,\n",
              " 'person-nationality': 4.146477650124325e-08,\n",
              " 'person-parents': 1.1883320439665113e-05,\n",
              " 'person-place_of_birth': 2.424774038445321e-06,\n",
              " 'person-place_of_death': 5.222869958743104e-07,\n",
              " 'person-profession': 0.9903755784034729,\n",
              " 'person-religion': 1.071328142643324e-06,\n",
              " 'person-spouse': 0.007454236503690481,\n",
              " 'political_party-politician': 0.00021150063548702747,\n",
              " 'producer-film': 4.313419140089536e-06,\n",
              " 'sports_team-player': 9.798067185329273e-05,\n",
              " 'writer-film': 1.5092243188519205e-07}"
            ]
          },
          "metadata": {},
          "execution_count": 14
        }
      ]
    },
    {
      "cell_type": "code",
      "source": [
        "iface = gr.Interface(\n",
        "    predict_relation,\n",
        "    inputs=\"text\",\n",
        "    outputs=\"label\",\n",
        "    interpretation=\"default\",\n",
        "    title=\"CoMemNet - Relation Extractor\", description=\"NOTE: Model is trained on Wikipedia table data and not continuous text.\"\n",
        ")\n",
        "\n",
        "iface.launch(debug=False)"
      ],
      "metadata": {
        "colab": {
          "base_uri": "https://localhost:8080/",
          "height": 646
        },
        "id": "kMzd3VA0EH-Z",
        "outputId": "00be3447-f091-4011-8590-5c376cb6160a"
      },
      "id": "kMzd3VA0EH-Z",
      "execution_count": null,
      "outputs": [
        {
          "output_type": "stream",
          "name": "stdout",
          "text": [
            "Colab notebook detected. To show errors in colab notebook, set `debug=True` in `launch()`\n",
            "Running on public URL: https://34730.gradio.app\n",
            "\n",
            "This share link expires in 72 hours. For free permanent hosting, check out Spaces (https://huggingface.co/spaces)\n"
          ]
        },
        {
          "output_type": "display_data",
          "data": {
            "text/plain": [
              "<IPython.lib.display.IFrame at 0x7fca4cbd8a50>"
            ],
            "text/html": [
              "\n",
              "        <iframe\n",
              "            width=\"900\"\n",
              "            height=\"500\"\n",
              "            src=\"https://34730.gradio.app\"\n",
              "            frameborder=\"0\"\n",
              "            allowfullscreen\n",
              "        ></iframe>\n",
              "        "
            ]
          },
          "metadata": {}
        },
        {
          "output_type": "execute_result",
          "data": {
            "text/plain": [
              "(<fastapi.applications.FastAPI at 0x7fcaca9b67d0>,\n",
              " 'http://127.0.0.1:7860/',\n",
              " 'https://34730.gradio.app')"
            ]
          },
          "metadata": {},
          "execution_count": 15
        }
      ]
    },
    {
      "cell_type": "code",
      "source": [
        "!git clone https://huggingface.co/spaces/simpleParadox/RE_656"
      ],
      "metadata": {
        "colab": {
          "base_uri": "https://localhost:8080/"
        },
        "id": "Pb-uvrNGH8l0",
        "outputId": "90d9b389-9422-476e-b389-622cb91cf761"
      },
      "id": "Pb-uvrNGH8l0",
      "execution_count": null,
      "outputs": [
        {
          "output_type": "stream",
          "name": "stdout",
          "text": [
            "Cloning into 'RE_656'...\n",
            "remote: Enumerating objects: 7, done.\u001b[K\n",
            "remote: Counting objects: 100% (7/7), done.\u001b[K\n",
            "remote: Compressing objects: 100% (7/7), done.\u001b[K\n",
            "remote: Total 7 (delta 1), reused 0 (delta 0)\u001b[K\n",
            "Unpacking objects: 100% (7/7), done.\n"
          ]
        }
      ]
    }
  ],
  "metadata": {
    "accelerator": "GPU",
    "colab": {
      "collapsed_sections": [],
      "name": "Copy of CMPUT 656 Project.ipynb",
      "provenance": [],
      "include_colab_link": true
    },
    "kernelspec": {
      "display_name": "Python 3 (ipykernel)",
      "language": "python",
      "name": "python3"
    },
    "language_info": {
      "codemirror_mode": {
        "name": "ipython",
        "version": 3
      },
      "file_extension": ".py",
      "mimetype": "text/x-python",
      "name": "python",
      "nbconvert_exporter": "python",
      "pygments_lexer": "ipython3",
      "version": "3.9.7"
    }
  },
  "nbformat": 4,
  "nbformat_minor": 5
}