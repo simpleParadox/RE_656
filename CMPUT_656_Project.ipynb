{
 "cells": [
  {
   "cell_type": "code",
   "execution_count": 2,
   "id": "271868ee",
   "metadata": {
    "id": "6cbc0c40"
   },
   "outputs": [],
   "source": [
    "import numpy as np \n",
    "import pandas as pd\n",
    "import os\n",
    "import numpy as np\n",
    "from keras.callbacks import Callback\n",
    "from sklearn.metrics import confusion_matrix, f1_score, precision_score, recall_score"
   ]
  },
  {
   "cell_type": "code",
   "execution_count": 3,
   "id": "75d4aba2",
   "metadata": {
    "colab": {
     "base_uri": "https://localhost:8080/",
     "height": 373
    },
    "id": "d3591f64",
    "outputId": "f5d2d8c5-b61f-47fe-94df-501668098d23"
   },
   "outputs": [],
   "source": [
    "import tokenization\n",
    "\n",
    "import tensorflow as tf\n",
    "import tensorflow_hub as hub\n",
    "from tensorflow.keras.utils import to_categorical\n",
    "from sklearn import preprocessing\n",
    "from sklearn.model_selection import train_test_split\n",
    "from sklearn.model_selection import KFold\n",
    "from sklearn.utils import shuffle\n",
    "from sklearn.metrics import f1_score"
   ]
  },
  {
   "cell_type": "code",
   "execution_count": 4,
   "id": "2a30a98e",
   "metadata": {},
   "outputs": [
    {
     "data": {
      "text/plain": [
       "'2.7.0'"
      ]
     },
     "execution_count": 4,
     "metadata": {},
     "output_type": "execute_result"
    }
   ],
   "source": [
    "tf.__version__"
   ]
  },
  {
   "cell_type": "code",
   "execution_count": 5,
   "id": "87a850d1",
   "metadata": {
    "colab": {
     "base_uri": "https://localhost:8080/"
    },
    "id": "j4uwyEbT9pjy",
    "outputId": "5b3fb422-4740-4b64-8ac4-f6ac0c8681f9"
   },
   "outputs": [
    {
     "name": "stdout",
     "output_type": "stream",
     "text": [
      "/device:GPU:0\n",
      "Found GPU at: /device:GPU:0\n"
     ]
    }
   ],
   "source": [
    "device_name = tf.test.gpu_device_name()\n",
    "print(device_name)\n",
    "if device_name != '/device:GPU:0':\n",
    "  raise SystemError('GPU device not found')\n",
    "print('Found GPU at: {}'.format(device_name))"
   ]
  },
  {
   "cell_type": "code",
   "execution_count": 6,
   "id": "a7644a8c",
   "metadata": {
    "id": "ab9b6e59"
   },
   "outputs": [],
   "source": [
    "train_data = pd.read_csv('Processed_Input 2.tsv', encoding='utf-8', sep = '\\t')"
   ]
  },
  {
   "cell_type": "code",
   "execution_count": 7,
   "id": "f2ea234a",
   "metadata": {
    "id": "674c9019"
   },
   "outputs": [],
   "source": [
    "train_data.fillna(\"\", inplace = True)"
   ]
  },
  {
   "cell_type": "code",
   "execution_count": 8,
   "id": "88e6c222",
   "metadata": {},
   "outputs": [],
   "source": [
    "# Shuffle data so that there is a higher chance of the train and test data being from the same distribution.\n",
    "train_data = shuffle(train_data, random_state = 1)"
   ]
  },
  {
   "cell_type": "code",
   "execution_count": 9,
   "id": "de315f0a",
   "metadata": {
    "id": "dbf8364d",
    "outputId": "a58a2dc6-2f5c-403c-aaa6-93286fbb3434"
   },
   "outputs": [
    {
     "name": "stdout",
     "output_type": "stream",
     "text": [
      "(100120, 2)\n"
     ]
    }
   ],
   "source": [
    "# Now read the rows, convert them into strings and then only keep the unique ones.\n",
    "sentences_and_lables = np.array([[' '.join(map(str, row[:-1].tolist())).strip(), row[-1]] for row in train_data.iloc[:,:].values])\n",
    "print(sentences_and_lables.shape)\n",
    "sentences = sentences_and_lables[:, 0]\n",
    "#labels = sentences_and_lables[:, 1]"
   ]
  },
  {
   "cell_type": "code",
   "execution_count": 10,
   "id": "a767941a",
   "metadata": {
    "id": "066e312c"
   },
   "outputs": [],
   "source": [
    "label = preprocessing.LabelEncoder()\n",
    "y = label.fit_transform(train_data['relation'])\n",
    "# y = to_categorical(y) # doing this later."
   ]
  },
  {
   "cell_type": "code",
   "execution_count": 11,
   "id": "ba31cda9",
   "metadata": {
    "id": "eb785237",
    "outputId": "d4411bdf-4a7f-4622-8577-d42655d9c89f"
   },
   "outputs": [
    {
     "name": "stdout",
     "output_type": "stream",
     "text": [
      "[5 4 4 0 0]\n"
     ]
    }
   ],
   "source": [
    "print(y[:5])"
   ]
  },
  {
   "cell_type": "code",
   "execution_count": 12,
   "id": "0c51d433",
   "metadata": {
    "id": "0486e758",
    "outputId": "f98b2a8e-5037-4466-c668-859790128bc7"
   },
   "outputs": [
    {
     "name": "stdout",
     "output_type": "stream",
     "text": [
      "['Filmography as a producer Title Gary Barber  Shanghai Noon Shanghai Noon'\n",
      " '1980s Film Language  Pudhu Yugam Pudhu Yugam  Tamil'\n",
      " 'Filmography Film Language  Appu Pappu Appu Pappu  Kannada'\n",
      " 'Other awards and nominations Category Recipient Club Tour of the Year Let Love Rule Tour'\n",
      " 'Awards and nominations Category Recipient  Worst Supporting Actress Razzie Award for Worst Supporting Actress   Julie Hagerty Julie Hagerty in Freddy Got Fingered Freddy Got Fingered as Julie Brody']\n"
     ]
    }
   ],
   "source": [
    "print(sentences[:5])"
   ]
  },
  {
   "cell_type": "code",
   "execution_count": 13,
   "id": "38feb66c",
   "metadata": {
    "id": "711ab3d7"
   },
   "outputs": [],
   "source": [
    "m_url = 'https://tfhub.dev/tensorflow/bert_en_uncased_L-12_H-768_A-12/2'\n",
    "bert_layer = hub.KerasLayer(m_url, trainable=False)"
   ]
  },
  {
   "cell_type": "code",
   "execution_count": 14,
   "id": "f4c035ac",
   "metadata": {
    "id": "3ddf05cf"
   },
   "outputs": [],
   "source": [
    "vocab_file = bert_layer.resolved_object.vocab_file.asset_path.numpy()\n",
    "do_lower_case = bert_layer.resolved_object.do_lower_case.numpy()\n",
    "tokenizer = tokenization.FullTokenizer(vocab_file, do_lower_case)\n",
    "\n",
    "def bert_encode(texts, tokenizer, max_len=512):\n",
    "    all_tokens = []\n",
    "    all_masks = []\n",
    "    all_segments = []\n",
    "    \n",
    "    for text in texts:\n",
    "        text = tokenizer.tokenize(text)\n",
    "        \n",
    "        text = text[:max_len-2]\n",
    "        input_sequence = [\"[CLS]\"] + text + [\"[SEP]\"]\n",
    "        pad_len = max_len-len(input_sequence)\n",
    "        \n",
    "        tokens = tokenizer.convert_tokens_to_ids(input_sequence) + [0] * pad_len\n",
    "        pad_masks = [1] * len(input_sequence) + [0] * pad_len\n",
    "        segment_ids = [0] * max_len\n",
    "        \n",
    "        all_tokens.append(tokens)\n",
    "        all_masks.append(pad_masks)\n",
    "        all_segments.append(segment_ids)\n",
    "        \n",
    "    return np.array(all_tokens), np.array(all_masks), np.array(all_segments)"
   ]
  },
  {
   "cell_type": "code",
   "execution_count": 15,
   "id": "1f7e990c",
   "metadata": {
    "id": "aa51abb5"
   },
   "outputs": [],
   "source": [
    "def build_model(bert_layer, max_len=512):\n",
    "    input_word_ids = tf.keras.Input(shape=(max_len,), dtype=tf.int32, name=\"input_word_ids\")\n",
    "    input_mask = tf.keras.Input(shape=(max_len,), dtype=tf.int32, name=\"input_mask\")\n",
    "    segment_ids = tf.keras.Input(shape=(max_len,), dtype=tf.int32, name=\"segment_ids\")\n",
    "    \n",
    "    pooled_output, sequence_output = bert_layer([input_word_ids, input_mask, segment_ids])\n",
    "    \n",
    "    print(tf.shape(sequence_output))\n",
    "    clf_output = sequence_output[:, :, :]\n",
    "    print(tf.shape(clf_output))\n",
    "    \n",
    "    lay = tf.keras.layers.Conv1D(filters=8, kernel_size=5, strides=1, padding=\"same\", activation=\"relu\")(clf_output)\n",
    "    lay = tf.keras.layers.MaxPooling1D(2, 2)(lay)\n",
    "    lay = tf.keras.layers.LSTM(2, return_sequences=True, dropout=0.2)(lay)\n",
    "    lay = tf.keras.layers.Flatten()(lay)\n",
    "    out = tf.keras.layers.Dense(6, activation='softmax')(lay)\n",
    "    \n",
    "    model = tf.keras.models.Model(inputs=[input_word_ids, input_mask, segment_ids], outputs=out)\n",
    "    #model.compile(tf.keras.optimizers.Adam(lr=2e-5), loss='categorical_crossentropy', metrics=['accuracy'])\n",
    "    model.compile(tf.keras.optimizers.Adam(lr=2e-5), loss='sparse_categorical_crossentropy', metrics=['accuracy'])\n",
    "    \n",
    "    return model"
   ]
  },
  {
   "cell_type": "markdown",
   "id": "8978e352",
   "metadata": {},
   "source": [
    "### Obtaining Train, test splits.\n",
    "###### In the train splits, we will have a separate validation split."
   ]
  },
  {
   "cell_type": "code",
   "execution_count": 16,
   "id": "067426d5",
   "metadata": {},
   "outputs": [],
   "source": [
    "checkpoint_path = \"training_relations/cp.ckpt\"\n",
    "checkpoint_dir = os.path.dirname(checkpoint_path)"
   ]
  },
  {
   "cell_type": "code",
   "execution_count": 17,
   "id": "3b0c4d4e",
   "metadata": {},
   "outputs": [],
   "source": [
    "def get_labels(y_pred):\n",
    "    y_pred_label = np.zeros((len(y_pred),1))\n",
    "    print(y_pred_label.shape)\n",
    "    for index in range(len(y_pred)):\n",
    "        y_pred_label[index] = np.argmax(y_pred[index])\n",
    "    return y_pred_label"
   ]
  },
  {
   "cell_type": "code",
   "execution_count": null,
   "id": "1273f00a",
   "metadata": {},
   "outputs": [
    {
     "name": "stdout",
     "output_type": "stream",
     "text": [
      "KerasTensor(type_spec=TensorSpec(shape=(3,), dtype=tf.int32, name=None), inferred_value=[None, 80, 768], name='tf.compat.v1.shape/Shape:0', description=\"created by layer 'tf.compat.v1.shape'\")\n",
      "KerasTensor(type_spec=TensorSpec(shape=(3,), dtype=tf.int32, name=None), inferred_value=[None, 80, 768], name='tf.compat.v1.shape_1/Shape:0', description=\"created by layer 'tf.compat.v1.shape_1'\")\n"
     ]
    },
    {
     "name": "stderr",
     "output_type": "stream",
     "text": [
      "C:\\Users\\arifa\\anaconda3\\lib\\site-packages\\keras\\optimizer_v2\\adam.py:105: UserWarning: The `lr` argument is deprecated, use `learning_rate` instead.\n",
      "  super(Adam, self).__init__(name, **kwargs)\n"
     ]
    },
    {
     "name": "stdout",
     "output_type": "stream",
     "text": [
      "Model: \"model\"\n",
      "__________________________________________________________________________________________________\n",
      " Layer (type)                   Output Shape         Param #     Connected to                     \n",
      "==================================================================================================\n",
      " input_word_ids (InputLayer)    [(None, 80)]         0           []                               \n",
      "                                                                                                  \n",
      " input_mask (InputLayer)        [(None, 80)]         0           []                               \n",
      "                                                                                                  \n",
      " segment_ids (InputLayer)       [(None, 80)]         0           []                               \n",
      "                                                                                                  \n",
      " keras_layer (KerasLayer)       [(None, 768),        109482241   ['input_word_ids[0][0]',         \n",
      "                                 (None, 80, 768)]                 'input_mask[0][0]',             \n",
      "                                                                  'segment_ids[0][0]']            \n",
      "                                                                                                  \n",
      " tf.__operators__.getitem (Slic  (None, 80, 768)     0           ['keras_layer[0][1]']            \n",
      " ingOpLambda)                                                                                     \n",
      "                                                                                                  \n",
      " conv1d (Conv1D)                (None, 80, 8)        30728       ['tf.__operators__.getitem[0][0]'\n",
      "                                                                 ]                                \n",
      "                                                                                                  \n",
      " max_pooling1d (MaxPooling1D)   (None, 40, 8)        0           ['conv1d[0][0]']                 \n",
      "                                                                                                  \n",
      " lstm (LSTM)                    (None, 40, 2)        88          ['max_pooling1d[0][0]']          \n",
      "                                                                                                  \n",
      " flatten (Flatten)              (None, 80)           0           ['lstm[0][0]']                   \n",
      "                                                                                                  \n",
      " dense (Dense)                  (None, 6)            486         ['flatten[0][0]']                \n",
      "                                                                                                  \n",
      "==================================================================================================\n",
      "Total params: 109,513,543\n",
      "Trainable params: 31,302\n",
      "Non-trainable params: 109,482,241\n",
      "__________________________________________________________________________________________________\n",
      "Epoch 1/2\n",
      "16018/16019 [============================>.] - ETA: 0s - loss: 0.3382 - accuracy: 0.9260\n",
      "Epoch 00001: saving model to training_relations\\cp.ckpt\n",
      "16019/16019 [==============================] - 359s 22ms/step - loss: 0.3382 - accuracy: 0.9260 - val_loss: 0.0755 - val_accuracy: 0.9878\n",
      "Epoch 2/2\n",
      "16017/16019 [============================>.] - ETA: 0s - loss: 0.0596 - accuracy: 0.9893\n",
      "Epoch 00002: saving model to training_relations\\cp.ckpt\n",
      "16019/16019 [==============================] - 354s 22ms/step - loss: 0.0596 - accuracy: 0.9893 - val_loss: 0.0484 - val_accuracy: 0.9886\n",
      "KerasTensor(type_spec=TensorSpec(shape=(3,), dtype=tf.int32, name=None), inferred_value=[None, 80, 768], name='tf.compat.v1.shape_2/Shape:0', description=\"created by layer 'tf.compat.v1.shape_2'\")\n",
      "KerasTensor(type_spec=TensorSpec(shape=(3,), dtype=tf.int32, name=None), inferred_value=[None, 80, 768], name='tf.compat.v1.shape_3/Shape:0', description=\"created by layer 'tf.compat.v1.shape_3'\")\n",
      "Model: \"model_1\"\n",
      "__________________________________________________________________________________________________\n",
      " Layer (type)                   Output Shape         Param #     Connected to                     \n",
      "==================================================================================================\n",
      " input_word_ids (InputLayer)    [(None, 80)]         0           []                               \n",
      "                                                                                                  \n",
      " input_mask (InputLayer)        [(None, 80)]         0           []                               \n",
      "                                                                                                  \n",
      " segment_ids (InputLayer)       [(None, 80)]         0           []                               \n",
      "                                                                                                  \n",
      " keras_layer (KerasLayer)       [(None, 768),        109482241   ['input_word_ids[0][0]',         \n",
      "                                 (None, 80, 768)]                 'input_mask[0][0]',             \n",
      "                                                                  'segment_ids[0][0]']            \n",
      "                                                                                                  \n",
      " tf.__operators__.getitem_1 (Sl  (None, 80, 768)     0           ['keras_layer[1][1]']            \n",
      " icingOpLambda)                                                                                   \n",
      "                                                                                                  \n",
      " conv1d_1 (Conv1D)              (None, 80, 8)        30728       ['tf.__operators__.getitem_1[0][0\n",
      "                                                                 ]']                              \n",
      "                                                                                                  \n",
      " max_pooling1d_1 (MaxPooling1D)  (None, 40, 8)       0           ['conv1d_1[0][0]']               \n",
      "                                                                                                  \n",
      " lstm_1 (LSTM)                  (None, 40, 2)        88          ['max_pooling1d_1[0][0]']        \n",
      "                                                                                                  \n",
      " flatten_1 (Flatten)            (None, 80)           0           ['lstm_1[0][0]']                 \n",
      "                                                                                                  \n",
      " dense_1 (Dense)                (None, 6)            486         ['flatten_1[0][0]']              \n",
      "                                                                                                  \n",
      "==================================================================================================\n",
      "Total params: 109,513,543\n",
      "Trainable params: 31,302\n",
      "Non-trainable params: 109,482,241\n",
      "__________________________________________________________________________________________________\n",
      "Epoch 1/2\n",
      "16020/16020 [==============================] - ETA: 0s - loss: 0.4011 - accuracy: 0.8969\n",
      "Epoch 00001: saving model to training_relations\\cp.ckpt\n",
      "16020/16020 [==============================] - 379s 23ms/step - loss: 0.4011 - accuracy: 0.8969 - val_loss: 0.1159 - val_accuracy: 0.9717\n",
      "Epoch 2/2\n",
      "16020/16020 [==============================] - ETA: 0s - loss: 0.0830 - accuracy: 0.9817\n",
      "Epoch 00002: saving model to training_relations\\cp.ckpt\n",
      "16020/16020 [==============================] - 376s 24ms/step - loss: 0.0830 - accuracy: 0.9817 - val_loss: 0.0360 - val_accuracy: 0.9926\n",
      "KerasTensor(type_spec=TensorSpec(shape=(3,), dtype=tf.int32, name=None), inferred_value=[None, 80, 768], name='tf.compat.v1.shape_4/Shape:0', description=\"created by layer 'tf.compat.v1.shape_4'\")\n",
      "KerasTensor(type_spec=TensorSpec(shape=(3,), dtype=tf.int32, name=None), inferred_value=[None, 80, 768], name='tf.compat.v1.shape_5/Shape:0', description=\"created by layer 'tf.compat.v1.shape_5'\")\n",
      "Model: \"model_2\"\n",
      "__________________________________________________________________________________________________\n",
      " Layer (type)                   Output Shape         Param #     Connected to                     \n",
      "==================================================================================================\n",
      " input_word_ids (InputLayer)    [(None, 80)]         0           []                               \n",
      "                                                                                                  \n",
      " input_mask (InputLayer)        [(None, 80)]         0           []                               \n",
      "                                                                                                  \n",
      " segment_ids (InputLayer)       [(None, 80)]         0           []                               \n",
      "                                                                                                  \n",
      " keras_layer (KerasLayer)       [(None, 768),        109482241   ['input_word_ids[0][0]',         \n",
      "                                 (None, 80, 768)]                 'input_mask[0][0]',             \n",
      "                                                                  'segment_ids[0][0]']            \n",
      "                                                                                                  \n",
      " tf.__operators__.getitem_2 (Sl  (None, 80, 768)     0           ['keras_layer[2][1]']            \n",
      " icingOpLambda)                                                                                   \n",
      "                                                                                                  \n",
      " conv1d_2 (Conv1D)              (None, 80, 8)        30728       ['tf.__operators__.getitem_2[0][0\n",
      "                                                                 ]']                              \n",
      "                                                                                                  \n",
      " max_pooling1d_2 (MaxPooling1D)  (None, 40, 8)       0           ['conv1d_2[0][0]']               \n",
      "                                                                                                  \n",
      " lstm_2 (LSTM)                  (None, 40, 2)        88          ['max_pooling1d_2[0][0]']        \n",
      "                                                                                                  \n",
      " flatten_2 (Flatten)            (None, 80)           0           ['lstm_2[0][0]']                 \n",
      "                                                                                                  \n",
      " dense_2 (Dense)                (None, 6)            486         ['flatten_2[0][0]']              \n",
      "                                                                                                  \n",
      "==================================================================================================\n",
      "Total params: 109,513,543\n",
      "Trainable params: 31,302\n",
      "Non-trainable params: 109,482,241\n",
      "__________________________________________________________________________________________________\n",
      "Epoch 1/2\n"
     ]
    },
    {
     "name": "stdout",
     "output_type": "stream",
     "text": [
      "16018/16020 [============================>.] - ETA: 0s - loss: 0.3082 - accuracy: 0.9140\n",
      "Epoch 00001: saving model to training_relations\\cp.ckpt\n",
      "16020/16020 [==============================] - 381s 24ms/step - loss: 0.3082 - accuracy: 0.9140 - val_loss: 0.0811 - val_accuracy: 0.9815\n",
      "Epoch 2/2\n",
      "16017/16020 [============================>.] - ETA: 0s - loss: 0.0606 - accuracy: 0.9871\n",
      "Epoch 00002: saving model to training_relations\\cp.ckpt\n",
      "16020/16020 [==============================] - 385s 24ms/step - loss: 0.0606 - accuracy: 0.9871 - val_loss: 0.0267 - val_accuracy: 0.9935\n",
      "KerasTensor(type_spec=TensorSpec(shape=(3,), dtype=tf.int32, name=None), inferred_value=[None, 80, 768], name='tf.compat.v1.shape_6/Shape:0', description=\"created by layer 'tf.compat.v1.shape_6'\")\n",
      "KerasTensor(type_spec=TensorSpec(shape=(3,), dtype=tf.int32, name=None), inferred_value=[None, 80, 768], name='tf.compat.v1.shape_7/Shape:0', description=\"created by layer 'tf.compat.v1.shape_7'\")\n",
      "Model: \"model_3\"\n",
      "__________________________________________________________________________________________________\n",
      " Layer (type)                   Output Shape         Param #     Connected to                     \n",
      "==================================================================================================\n",
      " input_word_ids (InputLayer)    [(None, 80)]         0           []                               \n",
      "                                                                                                  \n",
      " input_mask (InputLayer)        [(None, 80)]         0           []                               \n",
      "                                                                                                  \n",
      " segment_ids (InputLayer)       [(None, 80)]         0           []                               \n",
      "                                                                                                  \n",
      " keras_layer (KerasLayer)       [(None, 768),        109482241   ['input_word_ids[0][0]',         \n",
      "                                 (None, 80, 768)]                 'input_mask[0][0]',             \n",
      "                                                                  'segment_ids[0][0]']            \n",
      "                                                                                                  \n",
      " tf.__operators__.getitem_3 (Sl  (None, 80, 768)     0           ['keras_layer[3][1]']            \n",
      " icingOpLambda)                                                                                   \n",
      "                                                                                                  \n",
      " conv1d_3 (Conv1D)              (None, 80, 8)        30728       ['tf.__operators__.getitem_3[0][0\n",
      "                                                                 ]']                              \n",
      "                                                                                                  \n",
      " max_pooling1d_3 (MaxPooling1D)  (None, 40, 8)       0           ['conv1d_3[0][0]']               \n",
      "                                                                                                  \n",
      " lstm_3 (LSTM)                  (None, 40, 2)        88          ['max_pooling1d_3[0][0]']        \n",
      "                                                                                                  \n",
      " flatten_3 (Flatten)            (None, 80)           0           ['lstm_3[0][0]']                 \n",
      "                                                                                                  \n",
      " dense_3 (Dense)                (None, 6)            486         ['flatten_3[0][0]']              \n",
      "                                                                                                  \n",
      "==================================================================================================\n",
      "Total params: 109,513,543\n",
      "Trainable params: 31,302\n",
      "Non-trainable params: 109,482,241\n",
      "__________________________________________________________________________________________________\n",
      "Epoch 1/2\n",
      "16019/16020 [============================>.] - ETA: 0s - loss: 0.3447 - accuracy: 0.9156\n",
      "Epoch 00001: saving model to training_relations\\cp.ckpt\n",
      "16020/16020 [==============================] - 384s 24ms/step - loss: 0.3447 - accuracy: 0.9156 - val_loss: 0.0854 - val_accuracy: 0.9868\n",
      "Epoch 2/2\n",
      "16018/16020 [============================>.] - ETA: 0s - loss: 0.0678 - accuracy: 0.9868\n",
      "Epoch 00002: saving model to training_relations\\cp.ckpt\n",
      "16020/16020 [==============================] - 384s 24ms/step - loss: 0.0678 - accuracy: 0.9868 - val_loss: 0.0261 - val_accuracy: 0.9946\n",
      "KerasTensor(type_spec=TensorSpec(shape=(3,), dtype=tf.int32, name=None), inferred_value=[None, 80, 768], name='tf.compat.v1.shape_8/Shape:0', description=\"created by layer 'tf.compat.v1.shape_8'\")\n",
      "KerasTensor(type_spec=TensorSpec(shape=(3,), dtype=tf.int32, name=None), inferred_value=[None, 80, 768], name='tf.compat.v1.shape_9/Shape:0', description=\"created by layer 'tf.compat.v1.shape_9'\")\n",
      "Model: \"model_4\"\n",
      "__________________________________________________________________________________________________\n",
      " Layer (type)                   Output Shape         Param #     Connected to                     \n",
      "==================================================================================================\n",
      " input_word_ids (InputLayer)    [(None, 80)]         0           []                               \n",
      "                                                                                                  \n",
      " input_mask (InputLayer)        [(None, 80)]         0           []                               \n",
      "                                                                                                  \n",
      " segment_ids (InputLayer)       [(None, 80)]         0           []                               \n",
      "                                                                                                  \n",
      " keras_layer (KerasLayer)       [(None, 768),        109482241   ['input_word_ids[0][0]',         \n",
      "                                 (None, 80, 768)]                 'input_mask[0][0]',             \n",
      "                                                                  'segment_ids[0][0]']            \n",
      "                                                                                                  \n",
      " tf.__operators__.getitem_4 (Sl  (None, 80, 768)     0           ['keras_layer[4][1]']            \n",
      " icingOpLambda)                                                                                   \n",
      "                                                                                                  \n",
      " conv1d_4 (Conv1D)              (None, 80, 8)        30728       ['tf.__operators__.getitem_4[0][0\n",
      "                                                                 ]']                              \n",
      "                                                                                                  \n",
      " max_pooling1d_4 (MaxPooling1D)  (None, 40, 8)       0           ['conv1d_4[0][0]']               \n",
      "                                                                                                  \n",
      " lstm_4 (LSTM)                  (None, 40, 2)        88          ['max_pooling1d_4[0][0]']        \n",
      "                                                                                                  \n",
      " flatten_4 (Flatten)            (None, 80)           0           ['lstm_4[0][0]']                 \n",
      "                                                                                                  \n",
      " dense_4 (Dense)                (None, 6)            486         ['flatten_4[0][0]']              \n",
      "                                                                                                  \n",
      "==================================================================================================\n",
      "Total params: 109,513,543\n",
      "Trainable params: 31,302\n",
      "Non-trainable params: 109,482,241\n",
      "__________________________________________________________________________________________________\n",
      "Epoch 1/2\n",
      "16019/16020 [============================>.] - ETA: 0s - loss: 0.3230 - accuracy: 0.9087\n",
      "Epoch 00001: saving model to training_relations\\cp.ckpt\n",
      "16020/16020 [==============================] - 381s 24ms/step - loss: 0.3230 - accuracy: 0.9087 - val_loss: 0.1010 - val_accuracy: 0.9820\n",
      "Epoch 2/2\n"
     ]
    },
    {
     "name": "stdout",
     "output_type": "stream",
     "text": [
      "16018/16020 [============================>.] - ETA: 0s - loss: 0.0656 - accuracy: 0.9883\n",
      "Epoch 00002: saving model to training_relations\\cp.ckpt\n",
      "16020/16020 [==============================] - 376s 23ms/step - loss: 0.0656 - accuracy: 0.9883 - val_loss: 0.0302 - val_accuracy: 0.9929\n",
      "KerasTensor(type_spec=TensorSpec(shape=(3,), dtype=tf.int32, name=None), inferred_value=[None, 80, 768], name='tf.compat.v1.shape_10/Shape:0', description=\"created by layer 'tf.compat.v1.shape_10'\")\n",
      "KerasTensor(type_spec=TensorSpec(shape=(3,), dtype=tf.int32, name=None), inferred_value=[None, 80, 768], name='tf.compat.v1.shape_11/Shape:0', description=\"created by layer 'tf.compat.v1.shape_11'\")\n",
      "Model: \"model_5\"\n",
      "__________________________________________________________________________________________________\n",
      " Layer (type)                   Output Shape         Param #     Connected to                     \n",
      "==================================================================================================\n",
      " input_word_ids (InputLayer)    [(None, 80)]         0           []                               \n",
      "                                                                                                  \n",
      " input_mask (InputLayer)        [(None, 80)]         0           []                               \n",
      "                                                                                                  \n",
      " segment_ids (InputLayer)       [(None, 80)]         0           []                               \n",
      "                                                                                                  \n",
      " keras_layer (KerasLayer)       [(None, 768),        109482241   ['input_word_ids[0][0]',         \n",
      "                                 (None, 80, 768)]                 'input_mask[0][0]',             \n",
      "                                                                  'segment_ids[0][0]']            \n",
      "                                                                                                  \n",
      " tf.__operators__.getitem_5 (Sl  (None, 80, 768)     0           ['keras_layer[5][1]']            \n",
      " icingOpLambda)                                                                                   \n",
      "                                                                                                  \n",
      " conv1d_5 (Conv1D)              (None, 80, 8)        30728       ['tf.__operators__.getitem_5[0][0\n",
      "                                                                 ]']                              \n",
      "                                                                                                  \n",
      " max_pooling1d_5 (MaxPooling1D)  (None, 40, 8)       0           ['conv1d_5[0][0]']               \n",
      "                                                                                                  \n",
      " lstm_5 (LSTM)                  (None, 40, 2)        88          ['max_pooling1d_5[0][0]']        \n",
      "                                                                                                  \n",
      " flatten_5 (Flatten)            (None, 80)           0           ['lstm_5[0][0]']                 \n",
      "                                                                                                  \n",
      " dense_5 (Dense)                (None, 6)            486         ['flatten_5[0][0]']              \n",
      "                                                                                                  \n",
      "==================================================================================================\n",
      "Total params: 109,513,543\n",
      "Trainable params: 31,302\n",
      "Non-trainable params: 109,482,241\n",
      "__________________________________________________________________________________________________\n",
      "Epoch 1/2\n",
      "16017/16019 [============================>.] - ETA: 0s - loss: 0.3431 - accuracy: 0.9181\n",
      "Epoch 00001: saving model to training_relations\\cp.ckpt\n",
      "16019/16019 [==============================] - 358s 22ms/step - loss: 0.3431 - accuracy: 0.9181 - val_loss: 0.0832 - val_accuracy: 0.9806\n",
      "Epoch 2/2\n",
      "16019/16019 [==============================] - ETA: 0s - loss: 0.0601 - accuracy: 0.9862\n",
      "Epoch 00002: saving model to training_relations\\cp.ckpt\n",
      "16019/16019 [==============================] - 358s 22ms/step - loss: 0.0601 - accuracy: 0.9862 - val_loss: 0.0228 - val_accuracy: 0.9963\n",
      "Evaluate on test data for  0\n",
      "5006/5006 [==============================] - 84s 17ms/step - loss: 0.0241 - accuracy: 0.9955\n",
      "626/626 [==============================] - 58s 91ms/step\n",
      "(20024, 1)\n",
      "test loss, test acc, F1-score: [0.024073848500847816, 0.9955053925514221]\n",
      "KerasTensor(type_spec=TensorSpec(shape=(3,), dtype=tf.int32, name=None), inferred_value=[None, 80, 768], name='tf.compat.v1.shape_12/Shape:0', description=\"created by layer 'tf.compat.v1.shape_12'\")\n",
      "KerasTensor(type_spec=TensorSpec(shape=(3,), dtype=tf.int32, name=None), inferred_value=[None, 80, 768], name='tf.compat.v1.shape_13/Shape:0', description=\"created by layer 'tf.compat.v1.shape_13'\")\n"
     ]
    },
    {
     "name": "stderr",
     "output_type": "stream",
     "text": [
      "C:\\Users\\arifa\\anaconda3\\lib\\site-packages\\keras\\optimizer_v2\\adam.py:105: UserWarning: The `lr` argument is deprecated, use `learning_rate` instead.\n",
      "  super(Adam, self).__init__(name, **kwargs)\n"
     ]
    },
    {
     "name": "stdout",
     "output_type": "stream",
     "text": [
      "Model: \"model_6\"\n",
      "__________________________________________________________________________________________________\n",
      " Layer (type)                   Output Shape         Param #     Connected to                     \n",
      "==================================================================================================\n",
      " input_word_ids (InputLayer)    [(None, 80)]         0           []                               \n",
      "                                                                                                  \n",
      " input_mask (InputLayer)        [(None, 80)]         0           []                               \n",
      "                                                                                                  \n",
      " segment_ids (InputLayer)       [(None, 80)]         0           []                               \n",
      "                                                                                                  \n",
      " keras_layer (KerasLayer)       [(None, 768),        109482241   ['input_word_ids[0][0]',         \n",
      "                                 (None, 80, 768)]                 'input_mask[0][0]',             \n",
      "                                                                  'segment_ids[0][0]']            \n",
      "                                                                                                  \n",
      " tf.__operators__.getitem_6 (Sl  (None, 80, 768)     0           ['keras_layer[6][1]']            \n",
      " icingOpLambda)                                                                                   \n",
      "                                                                                                  \n",
      " conv1d_6 (Conv1D)              (None, 80, 8)        30728       ['tf.__operators__.getitem_6[0][0\n",
      "                                                                 ]']                              \n",
      "                                                                                                  \n",
      " max_pooling1d_6 (MaxPooling1D)  (None, 40, 8)       0           ['conv1d_6[0][0]']               \n",
      "                                                                                                  \n",
      " lstm_6 (LSTM)                  (None, 40, 2)        88          ['max_pooling1d_6[0][0]']        \n",
      "                                                                                                  \n",
      " flatten_6 (Flatten)            (None, 80)           0           ['lstm_6[0][0]']                 \n",
      "                                                                                                  \n",
      " dense_6 (Dense)                (None, 6)            486         ['flatten_6[0][0]']              \n",
      "                                                                                                  \n",
      "==================================================================================================\n",
      "Total params: 109,513,543\n",
      "Trainable params: 31,302\n",
      "Non-trainable params: 109,482,241\n",
      "__________________________________________________________________________________________________\n",
      "Epoch 1/2\n",
      "16017/16019 [============================>.] - ETA: 0s - loss: 0.3413 - accuracy: 0.9150\n",
      "Epoch 00001: saving model to training_relations\\cp.ckpt\n",
      "16019/16019 [==============================] - 361s 22ms/step - loss: 0.3412 - accuracy: 0.9151 - val_loss: 0.0633 - val_accuracy: 0.9859\n",
      "Epoch 2/2\n",
      "16019/16019 [==============================] - ETA: 0s - loss: 0.0482 - accuracy: 0.9897\n",
      "Epoch 00002: saving model to training_relations\\cp.ckpt\n",
      "16019/16019 [==============================] - 361s 23ms/step - loss: 0.0482 - accuracy: 0.9897 - val_loss: 0.0225 - val_accuracy: 0.9946\n",
      "KerasTensor(type_spec=TensorSpec(shape=(3,), dtype=tf.int32, name=None), inferred_value=[None, 80, 768], name='tf.compat.v1.shape_14/Shape:0', description=\"created by layer 'tf.compat.v1.shape_14'\")\n",
      "KerasTensor(type_spec=TensorSpec(shape=(3,), dtype=tf.int32, name=None), inferred_value=[None, 80, 768], name='tf.compat.v1.shape_15/Shape:0', description=\"created by layer 'tf.compat.v1.shape_15'\")\n",
      "Model: \"model_7\"\n",
      "__________________________________________________________________________________________________\n",
      " Layer (type)                   Output Shape         Param #     Connected to                     \n",
      "==================================================================================================\n",
      " input_word_ids (InputLayer)    [(None, 80)]         0           []                               \n",
      "                                                                                                  \n",
      " input_mask (InputLayer)        [(None, 80)]         0           []                               \n",
      "                                                                                                  \n",
      " segment_ids (InputLayer)       [(None, 80)]         0           []                               \n",
      "                                                                                                  \n",
      " keras_layer (KerasLayer)       [(None, 768),        109482241   ['input_word_ids[0][0]',         \n",
      "                                 (None, 80, 768)]                 'input_mask[0][0]',             \n",
      "                                                                  'segment_ids[0][0]']            \n",
      "                                                                                                  \n",
      " tf.__operators__.getitem_7 (Sl  (None, 80, 768)     0           ['keras_layer[7][1]']            \n",
      " icingOpLambda)                                                                                   \n",
      "                                                                                                  \n",
      " conv1d_7 (Conv1D)              (None, 80, 8)        30728       ['tf.__operators__.getitem_7[0][0\n",
      "                                                                 ]']                              \n",
      "                                                                                                  \n",
      " max_pooling1d_7 (MaxPooling1D)  (None, 40, 8)       0           ['conv1d_7[0][0]']               \n",
      "                                                                                                  \n",
      " lstm_7 (LSTM)                  (None, 40, 2)        88          ['max_pooling1d_7[0][0]']        \n",
      "                                                                                                  \n",
      " flatten_7 (Flatten)            (None, 80)           0           ['lstm_7[0][0]']                 \n",
      "                                                                                                  \n",
      " dense_7 (Dense)                (None, 6)            486         ['flatten_7[0][0]']              \n",
      "                                                                                                  \n",
      "==================================================================================================\n",
      "Total params: 109,513,543\n",
      "Trainable params: 31,302\n",
      "Non-trainable params: 109,482,241\n",
      "__________________________________________________________________________________________________\n",
      "Epoch 1/2\n",
      "16019/16020 [============================>.] - ETA: 0s - loss: 0.3947 - accuracy: 0.8905"
     ]
    }
   ],
   "source": [
    "with tf.device('/device:GPU:0'):\n",
    "    splits = 5 # For five fold cross-validation.\n",
    "    seeds = [i for i in range(splits)]  # Fix the seed value for reproducibility.\n",
    "\n",
    "    val_dict = {}\n",
    "    test_dict = {}\n",
    "\n",
    "    # First get random train-test splits. Doesn't include validation, which will be obtained from the train set.\n",
    "    for seed in seeds:\n",
    "        x_t, x_test, y_t, y_test = train_test_split(sentences, y, random_state=seed, test_size=0.2)   # Global training and test sets.\n",
    "\n",
    "        # Now get validation sets from each training set.\n",
    "        kf = KFold(n_splits=5, shuffle=False) # Setting shuffle=False because shuffled dataset already before.\n",
    "        fold_count = 0\n",
    "\n",
    "        for train_index, val_index in kf.split(x_t):\n",
    "            #print(x_t.shape)\n",
    "            #print(y_t.shape)\n",
    "            x_train, x_val = x_t[train_index], x_t[val_index]   # Training and validation features.\n",
    "            y_train, y_val = y_t[train_index], y_t[val_index]   # Training and validation labels.\n",
    "\n",
    "            #encode train data\n",
    "            max_len = 80\n",
    "            train_input = bert_encode(x_train, tokenizer, max_len=max_len)\n",
    "            train_labels = y_train\n",
    "            x_val = bert_encode(x_val, tokenizer, max_len=max_len)\n",
    "\n",
    "\n",
    "            model = build_model(bert_layer, max_len=max_len)\n",
    "            model.summary()\n",
    "            #checkpoint = tf.keras.callbacks.ModelCheckpoint('model.h5', monitor='val_accuracy', save_best_only=True, verbose=1)\n",
    "            checkpoint = tf.keras.callbacks.ModelCheckpoint(filepath=checkpoint_path, save_weights_only=True, verbose=1)\n",
    "            earlystopping = tf.keras.callbacks.EarlyStopping(monitor='val_accuracy', patience=5, verbose=1)\n",
    "            train_sh = model.fit(\n",
    "            train_input, train_labels,\n",
    "            #validation_split=0.2,\n",
    "            validation_data=(x_val, y_val),\n",
    "            epochs=2,\n",
    "            callbacks=[checkpoint, earlystopping],\n",
    "            batch_size=4,\n",
    "            verbose=1)\n",
    "\n",
    "\n",
    "            # Validation sets can be used for hyperparamter tuning.  \n",
    "            val_dict[str(seed) + str(fold_count)] = train_sh.history\n",
    "\n",
    "        #encode whole train data\n",
    "        max_len = 80\n",
    "        train_input = bert_encode(x_t, tokenizer, max_len=max_len)\n",
    "        train_labels = y_t\n",
    "        \n",
    "        #train model on whole train data\n",
    "        model = build_model(bert_layer, max_len=max_len)\n",
    "        model.summary()\n",
    "        #checkpoint = tf.keras.callbacks.ModelCheckpoint('model.h5', monitor='val_accuracy', save_best_only=True, verbose=1)\n",
    "        checkpoint = tf.keras.callbacks.ModelCheckpoint(filepath=checkpoint_path, save_weights_only=True, verbose=1)\n",
    "        earlystopping = tf.keras.callbacks.EarlyStopping(monitor='val_accuracy', patience=5, verbose=1)\n",
    "        train_sh = model.fit(\n",
    "        train_input, train_labels,\n",
    "        validation_split=0.2,\n",
    "        epochs=2,\n",
    "        callbacks=[checkpoint, earlystopping],\n",
    "        batch_size=4,\n",
    "        verbose=1)\n",
    "\n",
    "        #encode test data \n",
    "        test_input = bert_encode(x_test, tokenizer, max_len=max_len)\n",
    "\n",
    "        # Evaluate the model on the test data using `evaluate`\n",
    "        print(\"Evaluate on test data for \", seed)\n",
    "        results = model.evaluate(test_input, y_test, batch_size=4)\n",
    "\n",
    "        #calculate F1-score\n",
    "        y_pred = model.predict(test_input, verbose=1)\n",
    "        y_pred_label = get_labels(y_pred)\n",
    "        f1_val = f1_score(y_test, y_pred_label, average='macro')\n",
    "        print(\"test loss, test acc, F1-score:\", results)\n",
    "\n",
    "        test_dict[seed] = results"
   ]
  },
  {
   "cell_type": "code",
   "execution_count": null,
   "id": "b5c6f94d",
   "metadata": {},
   "outputs": [],
   "source": [
    "print(f1_val)"
   ]
  },
  {
   "cell_type": "code",
   "execution_count": 19,
   "id": "fbcc0f85",
   "metadata": {
    "id": "7e98dd5f",
    "outputId": "fc52e96f-9009-48fd-c01b-cc9a12be1bbf"
   },
   "outputs": [
    {
     "name": "stdout",
     "output_type": "stream",
     "text": [
      "KerasTensor(type_spec=TensorSpec(shape=(3,), dtype=tf.int32, name=None), inferred_value=[None, 250, 768], name='tf.compat.v1.shape_8/Shape:0', description=\"created by layer 'tf.compat.v1.shape_8'\")\n",
      "KerasTensor(type_spec=TensorSpec(shape=(3,), dtype=tf.int32, name=None), inferred_value=[None, 250, 768], name='tf.compat.v1.shape_9/Shape:0', description=\"created by layer 'tf.compat.v1.shape_9'\")\n"
     ]
    },
    {
     "ename": "ResourceExhaustedError",
     "evalue": "OOM when allocating tensor with shape[5,768,32] and type float on /job:localhost/replica:0/task:0/device:GPU:0 by allocator GPU_0_bfc [Op:RandomUniform]",
     "output_type": "error",
     "traceback": [
      "\u001b[1;31m---------------------------------------------------------------------------\u001b[0m",
      "\u001b[1;31mResourceExhaustedError\u001b[0m                    Traceback (most recent call last)",
      "\u001b[1;32m<ipython-input-19-2d1492a7c5bf>\u001b[0m in \u001b[0;36m<module>\u001b[1;34m\u001b[0m\n\u001b[0;32m      1\u001b[0m \u001b[1;32mwith\u001b[0m \u001b[0mtf\u001b[0m\u001b[1;33m.\u001b[0m\u001b[0mdevice\u001b[0m\u001b[1;33m(\u001b[0m\u001b[1;34m'/device:GPU:0'\u001b[0m\u001b[1;33m)\u001b[0m\u001b[1;33m:\u001b[0m\u001b[1;33m\u001b[0m\u001b[1;33m\u001b[0m\u001b[0m\n\u001b[1;32m----> 2\u001b[1;33m     \u001b[0mmodel\u001b[0m \u001b[1;33m=\u001b[0m \u001b[0mbuild_model\u001b[0m\u001b[1;33m(\u001b[0m\u001b[0mbert_layer\u001b[0m\u001b[1;33m,\u001b[0m \u001b[0mmax_len\u001b[0m\u001b[1;33m=\u001b[0m\u001b[0mmax_len\u001b[0m\u001b[1;33m)\u001b[0m\u001b[1;33m\u001b[0m\u001b[1;33m\u001b[0m\u001b[0m\n\u001b[0m\u001b[0;32m      3\u001b[0m     \u001b[0mmodel\u001b[0m\u001b[1;33m.\u001b[0m\u001b[0msummary\u001b[0m\u001b[1;33m(\u001b[0m\u001b[1;33m)\u001b[0m\u001b[1;33m\u001b[0m\u001b[1;33m\u001b[0m\u001b[0m\n\u001b[0;32m      4\u001b[0m     \u001b[0mcheckpoint\u001b[0m \u001b[1;33m=\u001b[0m \u001b[0mtf\u001b[0m\u001b[1;33m.\u001b[0m\u001b[0mkeras\u001b[0m\u001b[1;33m.\u001b[0m\u001b[0mcallbacks\u001b[0m\u001b[1;33m.\u001b[0m\u001b[0mModelCheckpoint\u001b[0m\u001b[1;33m(\u001b[0m\u001b[1;34m'model.h5'\u001b[0m\u001b[1;33m,\u001b[0m \u001b[0mmonitor\u001b[0m\u001b[1;33m=\u001b[0m\u001b[1;34m'val_accuracy'\u001b[0m\u001b[1;33m,\u001b[0m \u001b[0msave_best_only\u001b[0m\u001b[1;33m=\u001b[0m\u001b[1;32mTrue\u001b[0m\u001b[1;33m,\u001b[0m \u001b[0mverbose\u001b[0m\u001b[1;33m=\u001b[0m\u001b[1;36m1\u001b[0m\u001b[1;33m)\u001b[0m\u001b[1;33m\u001b[0m\u001b[1;33m\u001b[0m\u001b[0m\n\u001b[0;32m      5\u001b[0m     \u001b[0mearlystopping\u001b[0m \u001b[1;33m=\u001b[0m \u001b[0mtf\u001b[0m\u001b[1;33m.\u001b[0m\u001b[0mkeras\u001b[0m\u001b[1;33m.\u001b[0m\u001b[0mcallbacks\u001b[0m\u001b[1;33m.\u001b[0m\u001b[0mEarlyStopping\u001b[0m\u001b[1;33m(\u001b[0m\u001b[0mmonitor\u001b[0m\u001b[1;33m=\u001b[0m\u001b[1;34m'val_accuracy'\u001b[0m\u001b[1;33m,\u001b[0m \u001b[0mpatience\u001b[0m\u001b[1;33m=\u001b[0m\u001b[1;36m5\u001b[0m\u001b[1;33m,\u001b[0m \u001b[0mverbose\u001b[0m\u001b[1;33m=\u001b[0m\u001b[1;36m1\u001b[0m\u001b[1;33m)\u001b[0m\u001b[1;33m\u001b[0m\u001b[1;33m\u001b[0m\u001b[0m\n",
      "\u001b[1;32m<ipython-input-13-9c700383ca42>\u001b[0m in \u001b[0;36mbuild_model\u001b[1;34m(bert_layer, max_len)\u001b[0m\n\u001b[0;32m     17\u001b[0m \u001b[1;33m\u001b[0m\u001b[0m\n\u001b[0;32m     18\u001b[0m \u001b[1;31m#     clf_output = tf.reshape(clf_output.shape[1],1,)\u001b[0m\u001b[1;33m\u001b[0m\u001b[1;33m\u001b[0m\u001b[1;33m\u001b[0m\u001b[0m\n\u001b[1;32m---> 19\u001b[1;33m     \u001b[0mlay\u001b[0m \u001b[1;33m=\u001b[0m \u001b[0mtf\u001b[0m\u001b[1;33m.\u001b[0m\u001b[0mkeras\u001b[0m\u001b[1;33m.\u001b[0m\u001b[0mlayers\u001b[0m\u001b[1;33m.\u001b[0m\u001b[0mConv1D\u001b[0m\u001b[1;33m(\u001b[0m\u001b[0mfilters\u001b[0m\u001b[1;33m=\u001b[0m\u001b[1;36m32\u001b[0m\u001b[1;33m,\u001b[0m \u001b[0mkernel_size\u001b[0m\u001b[1;33m=\u001b[0m\u001b[1;36m5\u001b[0m\u001b[1;33m,\u001b[0m \u001b[0mstrides\u001b[0m\u001b[1;33m=\u001b[0m\u001b[1;36m1\u001b[0m\u001b[1;33m,\u001b[0m \u001b[0mpadding\u001b[0m\u001b[1;33m=\u001b[0m\u001b[1;34m\"same\"\u001b[0m\u001b[1;33m,\u001b[0m \u001b[0mactivation\u001b[0m\u001b[1;33m=\u001b[0m\u001b[1;34m\"relu\"\u001b[0m\u001b[1;33m)\u001b[0m\u001b[1;33m(\u001b[0m\u001b[0mclf_output\u001b[0m\u001b[1;33m)\u001b[0m\u001b[1;33m\u001b[0m\u001b[1;33m\u001b[0m\u001b[0m\n\u001b[0m\u001b[0;32m     20\u001b[0m     \u001b[0mlay\u001b[0m \u001b[1;33m=\u001b[0m \u001b[0mtf\u001b[0m\u001b[1;33m.\u001b[0m\u001b[0mkeras\u001b[0m\u001b[1;33m.\u001b[0m\u001b[0mlayers\u001b[0m\u001b[1;33m.\u001b[0m\u001b[0mMaxPooling1D\u001b[0m\u001b[1;33m(\u001b[0m\u001b[1;36m2\u001b[0m\u001b[1;33m,\u001b[0m \u001b[1;36m2\u001b[0m\u001b[1;33m)\u001b[0m\u001b[1;33m(\u001b[0m\u001b[0mlay\u001b[0m\u001b[1;33m)\u001b[0m\u001b[1;33m\u001b[0m\u001b[1;33m\u001b[0m\u001b[0m\n\u001b[0;32m     21\u001b[0m     \u001b[0mlay\u001b[0m \u001b[1;33m=\u001b[0m \u001b[0mtf\u001b[0m\u001b[1;33m.\u001b[0m\u001b[0mkeras\u001b[0m\u001b[1;33m.\u001b[0m\u001b[0mlayers\u001b[0m\u001b[1;33m.\u001b[0m\u001b[0mLSTM\u001b[0m\u001b[1;33m(\u001b[0m\u001b[1;36m60\u001b[0m\u001b[1;33m,\u001b[0m \u001b[0mreturn_sequences\u001b[0m\u001b[1;33m=\u001b[0m\u001b[1;32mTrue\u001b[0m\u001b[1;33m,\u001b[0m \u001b[0mdropout\u001b[0m\u001b[1;33m=\u001b[0m\u001b[1;36m0.2\u001b[0m\u001b[1;33m)\u001b[0m\u001b[1;33m(\u001b[0m\u001b[0mlay\u001b[0m\u001b[1;33m)\u001b[0m\u001b[1;33m\u001b[0m\u001b[1;33m\u001b[0m\u001b[0m\n",
      "\u001b[1;32m~\\Anaconda3\\lib\\site-packages\\keras\\utils\\traceback_utils.py\u001b[0m in \u001b[0;36merror_handler\u001b[1;34m(*args, **kwargs)\u001b[0m\n\u001b[0;32m     65\u001b[0m     \u001b[1;32mexcept\u001b[0m \u001b[0mException\u001b[0m \u001b[1;32mas\u001b[0m \u001b[0me\u001b[0m\u001b[1;33m:\u001b[0m  \u001b[1;31m# pylint: disable=broad-except\u001b[0m\u001b[1;33m\u001b[0m\u001b[1;33m\u001b[0m\u001b[0m\n\u001b[0;32m     66\u001b[0m       \u001b[0mfiltered_tb\u001b[0m \u001b[1;33m=\u001b[0m \u001b[0m_process_traceback_frames\u001b[0m\u001b[1;33m(\u001b[0m\u001b[0me\u001b[0m\u001b[1;33m.\u001b[0m\u001b[0m__traceback__\u001b[0m\u001b[1;33m)\u001b[0m\u001b[1;33m\u001b[0m\u001b[1;33m\u001b[0m\u001b[0m\n\u001b[1;32m---> 67\u001b[1;33m       \u001b[1;32mraise\u001b[0m \u001b[0me\u001b[0m\u001b[1;33m.\u001b[0m\u001b[0mwith_traceback\u001b[0m\u001b[1;33m(\u001b[0m\u001b[0mfiltered_tb\u001b[0m\u001b[1;33m)\u001b[0m \u001b[1;32mfrom\u001b[0m \u001b[1;32mNone\u001b[0m\u001b[1;33m\u001b[0m\u001b[1;33m\u001b[0m\u001b[0m\n\u001b[0m\u001b[0;32m     68\u001b[0m     \u001b[1;32mfinally\u001b[0m\u001b[1;33m:\u001b[0m\u001b[1;33m\u001b[0m\u001b[1;33m\u001b[0m\u001b[0m\n\u001b[0;32m     69\u001b[0m       \u001b[1;32mdel\u001b[0m \u001b[0mfiltered_tb\u001b[0m\u001b[1;33m\u001b[0m\u001b[1;33m\u001b[0m\u001b[0m\n",
      "\u001b[1;32m~\\Anaconda3\\lib\\site-packages\\keras\\backend.py\u001b[0m in \u001b[0;36mrandom_uniform\u001b[1;34m(self, shape, minval, maxval, dtype)\u001b[0m\n\u001b[0;32m   1920\u001b[0m     return tf.random.uniform(\n\u001b[0;32m   1921\u001b[0m         \u001b[0mshape\u001b[0m\u001b[1;33m=\u001b[0m\u001b[0mshape\u001b[0m\u001b[1;33m,\u001b[0m \u001b[0mminval\u001b[0m\u001b[1;33m=\u001b[0m\u001b[0mminval\u001b[0m\u001b[1;33m,\u001b[0m \u001b[0mmaxval\u001b[0m\u001b[1;33m=\u001b[0m\u001b[0mmaxval\u001b[0m\u001b[1;33m,\u001b[0m \u001b[0mdtype\u001b[0m\u001b[1;33m=\u001b[0m\u001b[0mdtype\u001b[0m\u001b[1;33m,\u001b[0m\u001b[1;33m\u001b[0m\u001b[1;33m\u001b[0m\u001b[0m\n\u001b[1;32m-> 1922\u001b[1;33m         seed=self.make_legacy_seed())\n\u001b[0m\u001b[0;32m   1923\u001b[0m \u001b[1;33m\u001b[0m\u001b[0m\n\u001b[0;32m   1924\u001b[0m   \u001b[1;32mdef\u001b[0m \u001b[0mtruncated_normal\u001b[0m\u001b[1;33m(\u001b[0m\u001b[0mself\u001b[0m\u001b[1;33m,\u001b[0m \u001b[0mshape\u001b[0m\u001b[1;33m,\u001b[0m \u001b[0mmean\u001b[0m\u001b[1;33m=\u001b[0m\u001b[1;36m0.\u001b[0m\u001b[1;33m,\u001b[0m \u001b[0mstddev\u001b[0m\u001b[1;33m=\u001b[0m\u001b[1;36m1.\u001b[0m\u001b[1;33m,\u001b[0m \u001b[0mdtype\u001b[0m\u001b[1;33m=\u001b[0m\u001b[1;32mNone\u001b[0m\u001b[1;33m)\u001b[0m\u001b[1;33m:\u001b[0m\u001b[1;33m\u001b[0m\u001b[1;33m\u001b[0m\u001b[0m\n",
      "\u001b[1;31mResourceExhaustedError\u001b[0m: OOM when allocating tensor with shape[5,768,32] and type float on /job:localhost/replica:0/task:0/device:GPU:0 by allocator GPU_0_bfc [Op:RandomUniform]"
     ]
    }
   ],
   "source": [
    "with open('results.txt','w') as data: \n",
    "    data.write(str(val_dict))\n",
    "    data.write(str(test_dict))"
   ]
  },
  {
   "cell_type": "code",
   "execution_count": null,
   "id": "3d262a9e",
   "metadata": {
    "id": "4b8fbd5e",
    "outputId": "bfad92de-bea9-43d0-f51d-d2dbc1e1d4de"
   },
   "outputs": [
    {
     "name": "stdout",
     "output_type": "stream",
     "text": [
      " 328/2503 [==>...........................] - ETA: 21:19:22 - loss: 0.4703 - accuracy: 0.8000"
     ]
    }
   ],
   "source": []
  }
 ],
 "metadata": {
  "accelerator": "GPU",
  "colab": {
   "collapsed_sections": [],
   "name": "CMPUT 656 Project.ipynb",
   "provenance": []
  },
  "kernelspec": {
   "display_name": "Python 3 (ipykernel)",
   "language": "python",
   "name": "python3"
  },
  "language_info": {
   "codemirror_mode": {
    "name": "ipython",
    "version": 3
   },
   "file_extension": ".py",
   "mimetype": "text/x-python",
   "name": "python",
   "nbconvert_exporter": "python",
   "pygments_lexer": "ipython3",
   "version": "3.9.7"
  }
 },
 "nbformat": 4,
 "nbformat_minor": 5
}
