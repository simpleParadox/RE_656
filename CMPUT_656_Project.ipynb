{
 "cells": [
  {
   "cell_type": "code",
   "execution_count": 1,
   "id": "271868ee",
   "metadata": {
    "id": "6cbc0c40"
   },
   "outputs": [],
   "source": [
    "import numpy as np \n",
    "import pandas as pd\n",
    "import os\n",
    "import numpy as np\n",
    "from keras.callbacks import Callback\n",
    "from sklearn.metrics import confusion_matrix, f1_score, precision_score, recall_score"
   ]
  },
  {
   "cell_type": "code",
   "execution_count": 2,
   "id": "75d4aba2",
   "metadata": {
    "colab": {
     "base_uri": "https://localhost:8080/",
     "height": 373
    },
    "id": "d3591f64",
    "outputId": "f5d2d8c5-b61f-47fe-94df-501668098d23"
   },
   "outputs": [],
   "source": [
    "import tokenization\n",
    "\n",
    "import tensorflow as tf\n",
    "import tensorflow_hub as hub\n",
    "from tensorflow.keras.utils import to_categorical\n",
    "from sklearn import preprocessing\n",
    "from sklearn.model_selection import train_test_split\n",
    "from sklearn.model_selection import KFold\n",
    "from sklearn.utils import shuffle\n",
    "from sklearn.metrics import f1_score"
   ]
  },
  {
   "cell_type": "code",
   "execution_count": 3,
   "id": "2a30a98e",
   "metadata": {},
   "outputs": [
    {
     "data": {
      "text/plain": [
       "'2.7.0'"
      ]
     },
     "execution_count": 3,
     "metadata": {},
     "output_type": "execute_result"
    }
   ],
   "source": [
    "tf.__version__"
   ]
  },
  {
   "cell_type": "code",
   "execution_count": 4,
   "id": "87a850d1",
   "metadata": {
    "colab": {
     "base_uri": "https://localhost:8080/"
    },
    "id": "j4uwyEbT9pjy",
    "outputId": "5b3fb422-4740-4b64-8ac4-f6ac0c8681f9"
   },
   "outputs": [
    {
     "name": "stdout",
     "output_type": "stream",
     "text": [
      "/device:GPU:0\n",
      "Found GPU at: /device:GPU:0\n"
     ]
    }
   ],
   "source": [
    "device_name = tf.test.gpu_device_name()\n",
    "print(device_name)\n",
    "if device_name != '/device:GPU:0':\n",
    "  raise SystemError('GPU device not found')\n",
    "print('Found GPU at: {}'.format(device_name))"
   ]
  },
  {
   "cell_type": "code",
   "execution_count": 5,
   "id": "a7644a8c",
   "metadata": {
    "id": "ab9b6e59"
   },
   "outputs": [],
   "source": [
    "train_data = pd.read_csv('Processed Data\\Input_500_28_relation.tsv', encoding='utf-8', sep = '\\t')"
   ]
  },
  {
   "cell_type": "code",
   "execution_count": 6,
   "id": "f2ea234a",
   "metadata": {
    "id": "674c9019"
   },
   "outputs": [],
   "source": [
    "train_data.fillna(\"\", inplace = True)"
   ]
  },
  {
   "cell_type": "code",
   "execution_count": 7,
   "id": "88e6c222",
   "metadata": {},
   "outputs": [],
   "source": [
    "# Shuffle data so that there is a higher chance of the train and test data being from the same distribution.\n",
    "train_data = shuffle(train_data, random_state = 1)"
   ]
  },
  {
   "cell_type": "code",
   "execution_count": 8,
   "id": "de315f0a",
   "metadata": {
    "id": "dbf8364d",
    "outputId": "a58a2dc6-2f5c-403c-aaa6-93286fbb3434"
   },
   "outputs": [
    {
     "name": "stdout",
     "output_type": "stream",
     "text": [
      "(583152, 2)\n"
     ]
    }
   ],
   "source": [
    "# Now read the rows, convert them into strings and then only keep the unique ones.\n",
    "sentences_and_lables = np.array([[' '.join(map(str, row[:-1].tolist())).strip(), row[-1]] for row in train_data.iloc[:,:].values])\n",
    "print(sentences_and_lables.shape)\n",
    "sentences = sentences_and_lables[:, 0]\n",
    "#labels = sentences_and_lables[:, 1]"
   ]
  },
  {
   "cell_type": "code",
   "execution_count": 9,
   "id": "a767941a",
   "metadata": {
    "id": "066e312c"
   },
   "outputs": [],
   "source": [
    "label = preprocessing.LabelEncoder()\n",
    "y = label.fit_transform(train_data['relation'])\n",
    "# y = to_categorical(y) # doing this later."
   ]
  },
  {
   "cell_type": "code",
   "execution_count": 10,
   "id": "ba31cda9",
   "metadata": {
    "id": "eb785237",
    "outputId": "d4411bdf-4a7f-4622-8577-d42655d9c89f"
   },
   "outputs": [
    {
     "name": "stdout",
     "output_type": "stream",
     "text": [
      "[10 16  4 19 10]\n"
     ]
    }
   ],
   "source": [
    "print(y[:5])"
   ]
  },
  {
   "cell_type": "code",
   "execution_count": 11,
   "id": "0c51d433",
   "metadata": {
    "id": "0486e758",
    "outputId": "f98b2a8e-5037-4466-c668-859790128bc7"
   },
   "outputs": [
    {
     "name": "stdout",
     "output_type": "stream",
     "text": [
      "['As an Actor Film Language  Maalai Pozhudhin Mayakathilaey Maalai Pozhudhin Mayakathilaey  Tamil'\n",
      " 'Leaders Age as Leader Anti-Revolutionary Party  Willem Aantjes Willem Aantjes SEP 1923 2015'\n",
      " 'Components Company [[Prime Standard|Prime Standard]] industry group  Wirecard Wirecard  Financial Technology'\n",
      " 'Episode 1 (August 26) Artist Hometown Alsa  Semarang Semarang'\n",
      " 'Playback singers she sang with Film Language  Maganey Kel Maganey Kel  Tamil']\n"
     ]
    }
   ],
   "source": [
    "print(sentences[:5])"
   ]
  },
  {
   "cell_type": "code",
   "execution_count": 12,
   "id": "38feb66c",
   "metadata": {
    "id": "711ab3d7"
   },
   "outputs": [],
   "source": [
    "m_url = 'https://tfhub.dev/tensorflow/bert_en_uncased_L-12_H-768_A-12/2'\n",
    "bert_layer = hub.KerasLayer(m_url, trainable=False)"
   ]
  },
  {
   "cell_type": "code",
   "execution_count": 13,
   "id": "f4c035ac",
   "metadata": {
    "id": "3ddf05cf"
   },
   "outputs": [],
   "source": [
    "vocab_file = bert_layer.resolved_object.vocab_file.asset_path.numpy()\n",
    "do_lower_case = bert_layer.resolved_object.do_lower_case.numpy()\n",
    "tokenizer = tokenization.FullTokenizer(vocab_file, do_lower_case)\n",
    "\n",
    "def bert_encode(texts, tokenizer, max_len=512):\n",
    "    all_tokens = []\n",
    "    all_masks = []\n",
    "    all_segments = []\n",
    "    \n",
    "    for text in texts:\n",
    "        text = tokenizer.tokenize(text)\n",
    "        \n",
    "        text = text[:max_len-2]\n",
    "        input_sequence = [\"[CLS]\"] + text + [\"[SEP]\"]\n",
    "        pad_len = max_len-len(input_sequence)\n",
    "        \n",
    "        tokens = tokenizer.convert_tokens_to_ids(input_sequence) + [0] * pad_len\n",
    "        pad_masks = [1] * len(input_sequence) + [0] * pad_len\n",
    "        segment_ids = [0] * max_len\n",
    "        \n",
    "        all_tokens.append(tokens)\n",
    "        all_masks.append(pad_masks)\n",
    "        all_segments.append(segment_ids)\n",
    "        \n",
    "    return np.array(all_tokens), np.array(all_masks), np.array(all_segments)"
   ]
  },
  {
   "cell_type": "code",
   "execution_count": 14,
   "id": "1f7e990c",
   "metadata": {
    "id": "aa51abb5"
   },
   "outputs": [],
   "source": [
    "def build_model(bert_layer, max_len=512):\n",
    "    input_word_ids = tf.keras.Input(shape=(max_len,), dtype=tf.int32, name=\"input_word_ids\")\n",
    "    input_mask = tf.keras.Input(shape=(max_len,), dtype=tf.int32, name=\"input_mask\")\n",
    "    segment_ids = tf.keras.Input(shape=(max_len,), dtype=tf.int32, name=\"segment_ids\")\n",
    "    \n",
    "    pooled_output, sequence_output = bert_layer([input_word_ids, input_mask, segment_ids])\n",
    "    \n",
    "    print(tf.shape(sequence_output))\n",
    "    clf_output = sequence_output[:, :, :]\n",
    "    print(tf.shape(clf_output))\n",
    "    \n",
    "    lay = tf.keras.layers.Conv1D(filters=8, kernel_size=5, strides=1, padding=\"same\", activation=\"relu\")(clf_output)\n",
    "    lay = tf.keras.layers.MaxPooling1D(2, 2)(lay)\n",
    "    #lay = tf.keras.layers.LSTM(2, return_sequences=True, dropout=0.2)(lay)\n",
    "    lay = tf.keras.layers.Bidirectional(tf.keras.layers.LSTM(8, return_sequences=True, dropout=0.2))(lay)\n",
    "    lay = tf.keras.layers.Flatten()(lay)\n",
    "    out = tf.keras.layers.Dense(28, activation='softmax')(lay)\n",
    "    \n",
    "    model = tf.keras.models.Model(inputs=[input_word_ids, input_mask, segment_ids], outputs=out)\n",
    "    #model.compile(tf.keras.optimizers.Adam(lr=2e-5), loss='categorical_crossentropy', metrics=['accuracy'])\n",
    "    model.compile(tf.keras.optimizers.Adam(lr=2e-5), loss='sparse_categorical_crossentropy', metrics=['accuracy'])\n",
    "    #model.compile(tf.keras.optimizers.RMSprop(lr=0.001), loss='sparse_categorical_crossentropy', metrics=['accuracy'])\n",
    "    \n",
    "    return model"
   ]
  },
  {
   "cell_type": "markdown",
   "id": "8978e352",
   "metadata": {},
   "source": [
    "### Obtaining Train, test splits.\n",
    "###### In the train splits, we will have a separate validation split."
   ]
  },
  {
   "cell_type": "code",
   "execution_count": 15,
   "id": "067426d5",
   "metadata": {},
   "outputs": [],
   "source": [
    "checkpoint_path = \"training_relations/cp.ckpt\"\n",
    "checkpoint_dir = os.path.dirname(checkpoint_path)"
   ]
  },
  {
   "cell_type": "code",
   "execution_count": 16,
   "id": "3b0c4d4e",
   "metadata": {},
   "outputs": [],
   "source": [
    "def get_labels(y_pred):\n",
    "    y_pred_label = np.zeros((len(y_pred),1))\n",
    "    print(y_pred_label.shape)\n",
    "    for index in range(len(y_pred)):\n",
    "        y_pred_label[index] = np.argmax(y_pred[index])\n",
    "    return y_pred_label"
   ]
  },
  {
   "cell_type": "code",
   "execution_count": 17,
   "id": "1273f00a",
   "metadata": {},
   "outputs": [
    {
     "name": "stdout",
     "output_type": "stream",
     "text": [
      "KerasTensor(type_spec=TensorSpec(shape=(3,), dtype=tf.int32, name=None), inferred_value=[None, 80, 768], name='tf.compat.v1.shape/Shape:0', description=\"created by layer 'tf.compat.v1.shape'\")\n",
      "KerasTensor(type_spec=TensorSpec(shape=(3,), dtype=tf.int32, name=None), inferred_value=[None, 80, 768], name='tf.compat.v1.shape_1/Shape:0', description=\"created by layer 'tf.compat.v1.shape_1'\")\n"
     ]
    },
    {
     "name": "stderr",
     "output_type": "stream",
     "text": [
      "C:\\Users\\arifa\\anaconda3\\lib\\site-packages\\keras\\optimizer_v2\\adam.py:105: UserWarning: The `lr` argument is deprecated, use `learning_rate` instead.\n",
      "  super(Adam, self).__init__(name, **kwargs)\n"
     ]
    },
    {
     "name": "stdout",
     "output_type": "stream",
     "text": [
      "Model: \"model\"\n",
      "__________________________________________________________________________________________________\n",
      " Layer (type)                   Output Shape         Param #     Connected to                     \n",
      "==================================================================================================\n",
      " input_word_ids (InputLayer)    [(None, 80)]         0           []                               \n",
      "                                                                                                  \n",
      " input_mask (InputLayer)        [(None, 80)]         0           []                               \n",
      "                                                                                                  \n",
      " segment_ids (InputLayer)       [(None, 80)]         0           []                               \n",
      "                                                                                                  \n",
      " keras_layer (KerasLayer)       [(None, 768),        109482241   ['input_word_ids[0][0]',         \n",
      "                                 (None, 80, 768)]                 'input_mask[0][0]',             \n",
      "                                                                  'segment_ids[0][0]']            \n",
      "                                                                                                  \n",
      " tf.__operators__.getitem (Slic  (None, 80, 768)     0           ['keras_layer[0][1]']            \n",
      " ingOpLambda)                                                                                     \n",
      "                                                                                                  \n",
      " conv1d (Conv1D)                (None, 80, 8)        30728       ['tf.__operators__.getitem[0][0]'\n",
      "                                                                 ]                                \n",
      "                                                                                                  \n",
      " max_pooling1d (MaxPooling1D)   (None, 40, 8)        0           ['conv1d[0][0]']                 \n",
      "                                                                                                  \n",
      " bidirectional (Bidirectional)  (None, 40, 16)       1088        ['max_pooling1d[0][0]']          \n",
      "                                                                                                  \n",
      " flatten (Flatten)              (None, 640)          0           ['bidirectional[0][0]']          \n",
      "                                                                                                  \n",
      " dense (Dense)                  (None, 28)           17948       ['flatten[0][0]']                \n",
      "                                                                                                  \n",
      "==================================================================================================\n",
      "Total params: 109,532,005\n",
      "Trainable params: 49,764\n",
      "Non-trainable params: 109,482,241\n",
      "__________________________________________________________________________________________________\n",
      "Epoch 1/6\n",
      "29158/29158 [==============================] - ETA: 0s - loss: 0.6660 - accuracy: 0.8206\n",
      "Epoch 00001: saving model to training_relations\\cp.ckpt\n",
      "WARNING:tensorflow:Early stopping conditioned on metric `val_accuracy` which is not available. Available metrics are: loss,accuracy\n"
     ]
    },
    {
     "name": "stderr",
     "output_type": "stream",
     "text": [
      "WARNING:tensorflow:Early stopping conditioned on metric `val_accuracy` which is not available. Available metrics are: loss,accuracy\n"
     ]
    },
    {
     "name": "stdout",
     "output_type": "stream",
     "text": [
      "29158/29158 [==============================] - 1591s 54ms/step - loss: 0.6660 - accuracy: 0.8206\n",
      "Epoch 2/6\n",
      "29157/29158 [============================>.] - ETA: 0s - loss: 0.2431 - accuracy: 0.9306\n",
      "Epoch 00002: saving model to training_relations\\cp.ckpt\n",
      "WARNING:tensorflow:Early stopping conditioned on metric `val_accuracy` which is not available. Available metrics are: loss,accuracy\n"
     ]
    },
    {
     "name": "stderr",
     "output_type": "stream",
     "text": [
      "WARNING:tensorflow:Early stopping conditioned on metric `val_accuracy` which is not available. Available metrics are: loss,accuracy\n"
     ]
    },
    {
     "name": "stdout",
     "output_type": "stream",
     "text": [
      "29158/29158 [==============================] - 1589s 55ms/step - loss: 0.2431 - accuracy: 0.9306\n",
      "Epoch 3/6\n",
      "29157/29158 [============================>.] - ETA: 0s - loss: 0.1732 - accuracy: 0.9503\n",
      "Epoch 00003: saving model to training_relations\\cp.ckpt\n",
      "WARNING:tensorflow:Early stopping conditioned on metric `val_accuracy` which is not available. Available metrics are: loss,accuracy\n"
     ]
    },
    {
     "name": "stderr",
     "output_type": "stream",
     "text": [
      "WARNING:tensorflow:Early stopping conditioned on metric `val_accuracy` which is not available. Available metrics are: loss,accuracy\n"
     ]
    },
    {
     "name": "stdout",
     "output_type": "stream",
     "text": [
      "29158/29158 [==============================] - 1594s 55ms/step - loss: 0.1732 - accuracy: 0.9503\n",
      "Epoch 4/6\n",
      "29157/29158 [============================>.] - ETA: 0s - loss: 0.1360 - accuracy: 0.9608\n",
      "Epoch 00004: saving model to training_relations\\cp.ckpt\n",
      "WARNING:tensorflow:Early stopping conditioned on metric `val_accuracy` which is not available. Available metrics are: loss,accuracy\n"
     ]
    },
    {
     "name": "stderr",
     "output_type": "stream",
     "text": [
      "WARNING:tensorflow:Early stopping conditioned on metric `val_accuracy` which is not available. Available metrics are: loss,accuracy\n"
     ]
    },
    {
     "name": "stdout",
     "output_type": "stream",
     "text": [
      "29158/29158 [==============================] - 1600s 55ms/step - loss: 0.1360 - accuracy: 0.9608\n",
      "Epoch 5/6\n",
      "29157/29158 [============================>.] - ETA: 0s - loss: 0.1116 - accuracy: 0.9678\n",
      "Epoch 00005: saving model to training_relations\\cp.ckpt\n",
      "WARNING:tensorflow:Early stopping conditioned on metric `val_accuracy` which is not available. Available metrics are: loss,accuracy\n"
     ]
    },
    {
     "name": "stderr",
     "output_type": "stream",
     "text": [
      "WARNING:tensorflow:Early stopping conditioned on metric `val_accuracy` which is not available. Available metrics are: loss,accuracy\n"
     ]
    },
    {
     "name": "stdout",
     "output_type": "stream",
     "text": [
      "29158/29158 [==============================] - 1598s 55ms/step - loss: 0.1116 - accuracy: 0.9678\n",
      "Epoch 6/6\n",
      "29157/29158 [============================>.] - ETA: 0s - loss: 0.0946 - accuracy: 0.9725\n",
      "Epoch 00006: saving model to training_relations\\cp.ckpt\n",
      "WARNING:tensorflow:Early stopping conditioned on metric `val_accuracy` which is not available. Available metrics are: loss,accuracy\n"
     ]
    },
    {
     "name": "stderr",
     "output_type": "stream",
     "text": [
      "WARNING:tensorflow:Early stopping conditioned on metric `val_accuracy` which is not available. Available metrics are: loss,accuracy\n"
     ]
    },
    {
     "name": "stdout",
     "output_type": "stream",
     "text": [
      "29158/29158 [==============================] - 1616s 55ms/step - loss: 0.0946 - accuracy: 0.9725\n",
      "Evaluate on test data for  1\n",
      "7290/7290 [==============================] - 371s 51ms/step - loss: 0.0736 - accuracy: 0.9790\n",
      "3645/3645 [==============================] - 350s 96ms/step\n",
      "(116631, 1)\n",
      "test loss, test acc, F1-score: [0.07364858686923981, 0.9789506793022156, 0.9601237092124214]\n"
     ]
    }
   ],
   "source": [
    "with tf.device('/device:GPU:0'):\n",
    "    splits = 5 # For five fold cross-validation.\n",
    "    #seeds = [i for i in range(splits)]  # Fix the seed value for reproducibility.\n",
    "    seeds = [1] \n",
    "    \n",
    "    val_dict = {}\n",
    "    test_dict = {}\n",
    "\n",
    "    # First get random train-test splits. Doesn't include validation, which will be obtained from the train set.\n",
    "    for seed in seeds:\n",
    "        x_t, x_test, y_t, y_test = train_test_split(sentences, y, random_state=seed, test_size=0.2)   # Global training and test sets.\n",
    "\n",
    "        # Now get validation sets from each training set.\n",
    "#         kf = KFold(n_splits=5, shuffle=False) # Setting shuffle=False because shuffled dataset already before.\n",
    "#         fold_count = 0\n",
    "\n",
    "#         for train_index, val_index in kf.split(x_t):\n",
    "#             #print(x_t.shape)\n",
    "#             #print(y_t.shape)\n",
    "#             x_train, x_val = x_t[train_index], x_t[val_index]   # Training and validation features.\n",
    "#             y_train, y_val = y_t[train_index], y_t[val_index]   # Training and validation labels.\n",
    "\n",
    "#             #encode train data\n",
    "#             max_len = 80\n",
    "#             train_input = bert_encode(x_train, tokenizer, max_len=max_len)\n",
    "#             train_labels = y_train\n",
    "#             x_val = bert_encode(x_val, tokenizer, max_len=max_len)\n",
    "\n",
    "\n",
    "#             model = build_model(bert_layer, max_len=max_len)\n",
    "#             model.summary()\n",
    "#             #checkpoint = tf.keras.callbacks.ModelCheckpoint('model.h5', monitor='val_accuracy', save_best_only=True, verbose=1)\n",
    "#             checkpoint = tf.keras.callbacks.ModelCheckpoint(filepath=checkpoint_path, save_weights_only=True, verbose=1)\n",
    "#             earlystopping = tf.keras.callbacks.EarlyStopping(monitor='val_accuracy', patience=5, verbose=1)\n",
    "#             train_sh = model.fit(\n",
    "#             train_input, train_labels,\n",
    "#             #validation_split=0.2,\n",
    "#             validation_data=(x_val, y_val),\n",
    "#             epochs=2,\n",
    "#             callbacks=[checkpoint, earlystopping],\n",
    "#             batch_size=16,\n",
    "#             verbose=1)\n",
    "\n",
    "#             # Validation sets can be used for hyperparamter tuning.  \n",
    "#             val_dict[str(seed) + str(fold_count)] = train_sh.history\n",
    "#             fold_count += 1\n",
    "\n",
    "        #encode whole train data\n",
    "        max_len = 80\n",
    "        train_input = bert_encode(x_t, tokenizer, max_len=max_len)\n",
    "        train_labels = y_t\n",
    "        \n",
    "        #train model on whole train data\n",
    "        model = build_model(bert_layer, max_len=max_len)\n",
    "        model.summary()\n",
    "        #checkpoint = tf.keras.callbacks.ModelCheckpoint('model.h5', monitor='val_accuracy', save_best_only=True, verbose=1)\n",
    "        checkpoint = tf.keras.callbacks.ModelCheckpoint(filepath=checkpoint_path, save_weights_only=True, verbose=1)\n",
    "        earlystopping = tf.keras.callbacks.EarlyStopping(monitor='val_accuracy', patience=5, verbose=1)\n",
    "        train_sh = model.fit(\n",
    "        train_input, train_labels,\n",
    "        validation_split=0,\n",
    "        epochs=6,\n",
    "        callbacks=[checkpoint, earlystopping],\n",
    "        batch_size=16,\n",
    "        verbose=1)\n",
    "\n",
    "        #encode test data \n",
    "        test_input = bert_encode(x_test, tokenizer, max_len=max_len)\n",
    "\n",
    "        # Evaluate the model on the test data using `evaluate`\n",
    "        print(\"Evaluate on test data for \", seed)\n",
    "        results = model.evaluate(test_input, y_test, batch_size=16)\n",
    "\n",
    "        #calculate F1-score\n",
    "        y_pred = model.predict(test_input, verbose=1)\n",
    "        y_pred_label = get_labels(y_pred)\n",
    "        f1_value = f1_score(y_test, y_pred_label, average='macro')\n",
    "        results.append(f1_value)\n",
    "        print(\"test loss, test acc, F1-score:\", results)\n",
    "\n",
    "        test_dict[seed] = results"
   ]
  },
  {
   "cell_type": "code",
   "execution_count": 18,
   "id": "fbcc0f85",
   "metadata": {
    "id": "7e98dd5f",
    "outputId": "fc52e96f-9009-48fd-c01b-cc9a12be1bbf"
   },
   "outputs": [],
   "source": [
    "with open('results seed=1 batch_size=16.txt','w') as data: \n",
    "    data.write(str(val_dict))\n",
    "    data.write('\\n')\n",
    "    data.write(str(test_dict))"
   ]
  },
  {
   "cell_type": "code",
   "execution_count": null,
   "id": "3d262a9e",
   "metadata": {
    "id": "4b8fbd5e",
    "outputId": "bfad92de-bea9-43d0-f51d-d2dbc1e1d4de"
   },
   "outputs": [
    {
     "name": "stdout",
     "output_type": "stream",
     "text": [
      " 328/2503 [==>...........................] - ETA: 21:19:22 - loss: 0.4703 - accuracy: 0.8000"
     ]
    }
   ],
   "source": []
  }
 ],
 "metadata": {
  "accelerator": "GPU",
  "colab": {
   "collapsed_sections": [],
   "name": "CMPUT 656 Project.ipynb",
   "provenance": []
  },
  "kernelspec": {
   "display_name": "Python 3 (ipykernel)",
   "language": "python",
   "name": "python3"
  },
  "language_info": {
   "codemirror_mode": {
    "name": "ipython",
    "version": 3
   },
   "file_extension": ".py",
   "mimetype": "text/x-python",
   "name": "python",
   "nbconvert_exporter": "python",
   "pygments_lexer": "ipython3",
   "version": "3.9.7"
  }
 },
 "nbformat": 4,
 "nbformat_minor": 5
}
