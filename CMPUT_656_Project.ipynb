{
 "cells": [
  {
   "cell_type": "markdown",
   "source": [
    "<a href=\"https://colab.research.google.com/github/simpleParadox/RE_656/blob/main/CMPUT_656_Project.ipynb\" target=\"_parent\"><img src=\"https://colab.research.google.com/assets/colab-badge.svg\" alt=\"Open In Colab\"/></a>"
   ],
   "metadata": {
    "collapsed": false
   }
  },
  {
   "cell_type": "code",
   "execution_count": null,
   "outputs": [],
   "source": [
    "!pip install sentencepiece"
   ],
   "metadata": {
    "collapsed": false,
    "pycharm": {
     "name": "#%%\n"
    }
   }
  },
  {
   "cell_type": "code",
   "execution_count": null,
   "outputs": [],
   "source": [
    "import pandas as pd\n",
    "import os\n",
    "import numpy as np\n",
    "import matplotlib.pyplot as plt\n",
    "import seaborn as sns\n",
    "# from keras.callbacks import Callback\n",
    "from sklearn.metrics import confusion_matrix, f1_score, precision_score, recall_score"
   ],
   "metadata": {
    "collapsed": false,
    "pycharm": {
     "name": "#%%\n"
    }
   }
  },
  {
   "cell_type": "code",
   "execution_count": null,
   "outputs": [],
   "source": [
    "import tokenization\n",
    "\n",
    "import tensorflow as tf\n",
    "import tensorflow_hub as hub\n",
    "from tensorflow.keras.utils import to_categorical\n",
    "from sklearn import preprocessing\n",
    "from sklearn.model_selection import train_test_split\n",
    "from sklearn.model_selection import KFold\n",
    "from sklearn.utils import shuffle\n",
    "from sklearn.metrics import f1_score"
   ],
   "metadata": {
    "collapsed": false,
    "pycharm": {
     "name": "#%%\n"
    }
   }
  },
  {
   "cell_type": "code",
   "execution_count": null,
   "outputs": [],
   "source": [
    "tf.__version__"
   ],
   "metadata": {
    "collapsed": false,
    "pycharm": {
     "name": "#%%\n"
    }
   }
  },
  {
   "cell_type": "code",
   "execution_count": null,
   "outputs": [],
   "source": [
    "device_name = tf.test.gpu_device_name()\n",
    "print(device_name)\n",
    "if device_name != '/device:GPU:0':\n",
    "  raise SystemError('GPU device not found')\n",
    "print('Found GPU at: {}'.format(device_name))"
   ],
   "metadata": {
    "collapsed": false,
    "pycharm": {
     "name": "#%%\n"
    }
   }
  },
  {
   "cell_type": "code",
   "execution_count": null,
   "outputs": [],
   "source": [
    "from google.colab import drive\n",
    "drive.mount('/content/drive')\n",
    "relations_path = '/content/drive/Shareddrives/CMPUT 656 Data and Results/Processed Data/Input_500_29_relation.tsv'"
   ],
   "metadata": {
    "collapsed": false,
    "pycharm": {
     "name": "#%%\n"
    }
   }
  },
  {
   "cell_type": "code",
   "execution_count": null,
   "outputs": [],
   "source": [
    "train_data = pd.read_csv(relations_path, encoding='utf-8', sep = '\\t')"
   ],
   "metadata": {
    "collapsed": false,
    "pycharm": {
     "name": "#%%\n"
    }
   }
  },
  {
   "cell_type": "code",
   "execution_count": null,
   "outputs": [],
   "source": [
    "train_data.fillna(\"\", inplace = True)"
   ],
   "metadata": {
    "collapsed": false,
    "pycharm": {
     "name": "#%%\n"
    }
   }
  },
  {
   "cell_type": "code",
   "execution_count": null,
   "outputs": [],
   "source": [
    "# Shuffle data so that there is a higher chance of the train and test data being from the same distribution.\n",
    "train_data = shuffle(train_data, random_state = 1)"
   ],
   "metadata": {
    "collapsed": false,
    "pycharm": {
     "name": "#%%\n"
    }
   }
  },
  {
   "cell_type": "code",
   "execution_count": null,
   "outputs": [],
   "source": [
    "train_data.head()"
   ],
   "metadata": {
    "collapsed": false,
    "pycharm": {
     "name": "#%%\n"
    }
   }
  },
  {
   "cell_type": "code",
   "execution_count": null,
   "outputs": [],
   "source": [
    "# # Now read the rows, convert them into strings and then only keep the unique ones.\n",
    "sentences_and_labels =  np.array([[' '.join(map(str, row[:-1].tolist())).strip(), row[-1]] for row in train_data.iloc[:,:].values])\n",
    "# c = 0\n",
    "# for row in train_data.iloc[:,:].values:\n",
    "#     label = row[-1]\n",
    "#     c += 1\n",
    "#     row_retrieved = row[:-1].tolist()\n",
    "#     s = ' '.join(row_retrieved).strip()\n",
    "#     del row_retrieved\n",
    "#     # break\n",
    "#     # s = ' '.join(map(str, row[:-1].tolist())).strip()\n",
    "\n",
    "#     temp = np.array([s, label])\n",
    "#     del label\n",
    "#     del s\n",
    "#     del row\n",
    "#     sentences_and_labels.append(temp)\n",
    "#     del temp\n",
    "\n",
    "# # print(sentences_and_labels.shape)\n",
    "# sentences = np.array(sentences_and_labels)[:, 0]\n",
    "# del train_data\n",
    "# labels = sentences_and_lables[:, 1]"
   ],
   "metadata": {
    "collapsed": false,
    "pycharm": {
     "name": "#%%\n"
    }
   }
  },
  {
   "cell_type": "code",
   "execution_count": null,
   "outputs": [],
   "source": [
    "sentences = sentences_and_labels[:, 0]"
   ],
   "metadata": {
    "collapsed": false,
    "pycharm": {
     "name": "#%%\n"
    }
   }
  },
  {
   "cell_type": "code",
   "execution_count": null,
   "outputs": [],
   "source": [
    "label = preprocessing.LabelEncoder()\n",
    "y = label.fit_transform(train_data['relation'])\n",
    "label_mappings = integer_mapping = {i: l for i, l in enumerate(label.classes_)}\n",
    "# y = to_categorical(y) # doing this later."
   ],
   "metadata": {
    "collapsed": false,
    "pycharm": {
     "name": "#%%\n"
    }
   }
  },
  {
   "cell_type": "code",
   "execution_count": null,
   "outputs": [],
   "source": [
    "label_mappings"
   ],
   "metadata": {
    "collapsed": false,
    "pycharm": {
     "name": "#%%\n"
    }
   }
  },
  {
   "cell_type": "code",
   "execution_count": null,
   "outputs": [],
   "source": [
    "print(y[:5])"
   ],
   "metadata": {
    "collapsed": false,
    "pycharm": {
     "name": "#%%\n"
    }
   }
  },
  {
   "cell_type": "code",
   "execution_count": null,
   "outputs": [],
   "source": [
    "print(sentences[:5])"
   ],
   "metadata": {
    "collapsed": false,
    "pycharm": {
     "name": "#%%\n"
    }
   }
  },
  {
   "cell_type": "code",
   "execution_count": null,
   "outputs": [],
   "source": [
    "m_url = 'https://tfhub.dev/tensorflow/bert_en_uncased_L-12_H-768_A-12/2'\n",
    "bert_layer = hub.KerasLayer(m_url, trainable=False)"
   ],
   "metadata": {
    "collapsed": false,
    "pycharm": {
     "name": "#%%\n"
    }
   }
  },
  {
   "cell_type": "code",
   "execution_count": null,
   "outputs": [],
   "source": [
    "vocab_file = bert_layer.resolved_object.vocab_file.asset_path.numpy()\n",
    "do_lower_case = bert_layer.resolved_object.do_lower_case.numpy()\n",
    "tokenizer = tokenization.FullTokenizer(vocab_file, do_lower_case)\n",
    "\n",
    "def bert_encode(texts, tokenizer, max_len=512):\n",
    "    all_tokens = []\n",
    "    all_masks = []\n",
    "    all_segments = []\n",
    "    \n",
    "    for text in texts:\n",
    "        text = tokenizer.tokenize(text)\n",
    "        \n",
    "        text = text[:max_len-2]\n",
    "        input_sequence = [\"[CLS]\"] + text + [\"[SEP]\"]\n",
    "        pad_len = max_len-len(input_sequence)\n",
    "        \n",
    "        tokens = tokenizer.convert_tokens_to_ids(input_sequence) + [0] * pad_len\n",
    "        pad_masks = [1] * len(input_sequence) + [0] * pad_len\n",
    "        segment_ids = [0] * max_len\n",
    "        \n",
    "        all_tokens.append(tokens)\n",
    "        all_masks.append(pad_masks)\n",
    "        all_segments.append(segment_ids)\n",
    "        \n",
    "    return np.array(all_tokens), np.array(all_masks), np.array(all_segments)"
   ],
   "metadata": {
    "collapsed": false,
    "pycharm": {
     "name": "#%%\n"
    }
   }
  },
  {
   "cell_type": "code",
   "execution_count": null,
   "outputs": [],
   "source": [
    "def build_model(bert_layer, max_len=512, seed=0):\n",
    "    input_word_ids = tf.keras.Input(shape=(max_len,), dtype=tf.int32, name=\"input_word_ids\")\n",
    "    input_mask = tf.keras.Input(shape=(max_len,), dtype=tf.int32, name=\"input_mask\")\n",
    "    segment_ids = tf.keras.Input(shape=(max_len,), dtype=tf.int32, name=\"segment_ids\")\n",
    "    \n",
    "    pooled_output, sequence_output = bert_layer([input_word_ids, input_mask, segment_ids])\n",
    "    np.savez_compressed(f\"bert_sequence_op_seed_{seed}.npz\", sequence_output)\n",
    "    \n",
    "    print(tf.shape(sequence_output))\n",
    "    clf_output = sequence_output[:, :, :]\n",
    "    print(tf.shape(clf_output))\n",
    "    \n",
    "    lay = tf.keras.layers.Conv1D(filters=8, kernel_size=5, strides=1, padding=\"same\", activation=\"relu\")(clf_output)\n",
    "    lay = tf.keras.layers.MaxPooling1D(2, 2)(lay)\n",
    "    #lay = tf.keras.layers.LSTM(2, return_sequences=True, dropout=0.2)(lay)\n",
    "    lay = tf.keras.layers.Bidirectional(tf.keras.layers.LSTM(8, return_sequences=True, dropout=0.2))(lay)\n",
    "    lay = tf.keras.layers.Flatten()(lay)\n",
    "    out = tf.keras.layers.Dense(29, activation='softmax')(lay)\n",
    "    \n",
    "    model = tf.keras.models.Model(inputs=[input_word_ids, input_mask, segment_ids], outputs=out)\n",
    "    #model.compile(tf.keras.optimizers.Adam(lr=2e-5), loss='categorical_crossentropy', metrics=['accuracy'])\n",
    "    model.compile(tf.keras.optimizers.Adam(lr=2e-5), loss='sparse_categorical_crossentropy', metrics=['accuracy'])\n",
    "    #model.compile(tf.keras.optimizers.RMSprop(lr=0.001), loss='sparse_categorical_crossentropy', metrics=['accuracy'])\n",
    "    \n",
    "    return model"
   ],
   "metadata": {
    "collapsed": false,
    "pycharm": {
     "name": "#%%\n"
    }
   }
  },
  {
   "cell_type": "markdown",
   "source": [
    "### Obtaining Train, test splits.\n",
    "###### In the train splits, we will have a separate validation split."
   ],
   "metadata": {
    "collapsed": false
   }
  },
  {
   "cell_type": "code",
   "execution_count": null,
   "outputs": [],
   "source": [
    "checkpoint_path = \"training_relations/cp.ckpt\"\n",
    "checkpoint_dir = os.path.dirname(checkpoint_path)"
   ],
   "metadata": {
    "collapsed": false,
    "pycharm": {
     "name": "#%%\n"
    }
   }
  },
  {
   "cell_type": "code",
   "execution_count": null,
   "outputs": [],
   "source": [
    "def get_labels(y_pred):\n",
    "    y_pred_label = np.zeros((len(y_pred),1))\n",
    "    print(y_pred_label.shape)\n",
    "    for index in range(len(y_pred)):\n",
    "        y_pred_label[index] = np.argmax(y_pred[index])\n",
    "    return y_pred_label"
   ],
   "metadata": {
    "collapsed": false,
    "pycharm": {
     "name": "#%%\n"
    }
   }
  },
  {
   "cell_type": "markdown",
   "source": [
    "# Do not run the following cell if using checkpointed files."
   ],
   "metadata": {
    "collapsed": false
   }
  },
  {
   "cell_type": "code",
   "execution_count": null,
   "outputs": [],
   "source": [
    "with tf.device('/device:GPU:0'):\n",
    "    splits = 5 # For five fold cross-validation.\n",
    "    #seeds = [i for i in range(splits)]  # Fix the seed value for reproducibility.\n",
    "    seeds = [0] \n",
    "    \n",
    "    val_dict = {}\n",
    "    test_dict = {}\n",
    "\n",
    "    # First get random train-test splits. Doesn't include validation, which will be obtained from the train set.\n",
    "    for seed in seeds:\n",
    "        x_t, x_test, y_t, y_test = train_test_split(sentences, y, random_state=seed, test_size=0.2)   # Global training and test sets.\n",
    "\n",
    "        # Now get validation sets from each training set.\n",
    "        # kf = KFold(n_splits=5, shuffle=False) # Setting shuffle=False because shuffled dataset already before.\n",
    "        # fold_count = 0\n",
    "\n",
    "        # for train_index, val_index in kf.split(x_t):\n",
    "        #     #print(x_t.shape)\n",
    "        #     #print(y_t.shape)\n",
    "        #     x_train, x_val = x_t[train_index], x_t[val_index]   # Training and validation features.\n",
    "        #     y_train, y_val = y_t[train_index], y_t[val_index]   # Training and validation labels.\n",
    "\n",
    "        #     #encode train data\n",
    "        #     max_len = 80\n",
    "        #     train_input = bert_encode(x_train, tokenizer, max_len=max_len)\n",
    "        #     train_labels = y_train\n",
    "        #     x_val = bert_encode(x_val, tokenizer, max_len=max_len)\n",
    "\n",
    "\n",
    "        #     model = build_model(bert_layer, max_len=max_len)\n",
    "        #     model.summary()\n",
    "        #     #checkpoint = tf.keras.callbacks.ModelCheckpoint('model.h5', monitor='val_accuracy', save_best_only=True, verbose=1)\n",
    "        #     checkpoint = tf.keras.callbacks.ModelCheckpoint(filepath=checkpoint_path, save_weights_only=True, verbose=1)\n",
    "        #     earlystopping = tf.keras.callbacks.EarlyStopping(monitor='val_accuracy', patience=5, verbose=1)\n",
    "        #     train_sh = model.fit(\n",
    "        #     train_input, train_labels,\n",
    "        #     #validation_split=0.2,\n",
    "        #     validation_data=(x_val, y_val),\n",
    "        #     epochs=2,\n",
    "        #     callbacks=[checkpoint, earlystopping],\n",
    "        #     batch_size=16,\n",
    "        #     verbose=1)\n",
    "\n",
    "        #     # Validation sets can be used for hyperparamter tuning.  \n",
    "        #     val_dict[str(seed) + str(fold_count)] = train_sh.history\n",
    "        #     fold_count += 1\n",
    "\n",
    "        #encode whole train data\n",
    "        max_len = 80\n",
    "        train_input = bert_encode(x_t, tokenizer, max_len=max_len)\n",
    "        train_labels = y_t\n",
    "        \n",
    "        #train model on whole train data\n",
    "        model = build_model(bert_layer, max_len=max_len, seed=seed)\n",
    "        model.summary()\n",
    "        #checkpoint = tf.keras.callbacks.ModelCheckpoint('model.h5', monitor='val_accuracy', save_best_only=True, verbose=1)\n",
    "        checkpoint = tf.keras.callbacks.ModelCheckpoint(filepath=checkpoint_path, save_weights_only=True, verbose=1)\n",
    "        earlystopping = tf.keras.callbacks.EarlyStopping(monitor='val_accuracy', patience=5, verbose=1)\n",
    "        train_sh = model.fit(\n",
    "        train_input, train_labels,\n",
    "        validation_split=0,\n",
    "        epochs=6,\n",
    "        callbacks=[checkpoint, earlystopping],\n",
    "        batch_size=16,\n",
    "        verbose=1)\n",
    "\n",
    "        #encode test data \n",
    "        test_input = bert_encode(x_test, tokenizer, max_len=max_len)\n",
    "\n",
    "        # Evaluate the model on the test data using `evaluate`\n",
    "        print(\"Evaluate on test data for \", seed)\n",
    "        results = model.evaluate(test_input, y_test, batch_size=16)\n",
    "\n",
    "        #calculate F1-score\n",
    "        y_pred = model.predict(test_input, verbose=1)\n",
    "        y_pred_label = get_labels(y_pred)\n",
    "        f1_value = f1_score(y_test, y_pred_label, average='macro')\n",
    "        results.append(f1_value)\n",
    "        print(\"test loss, test acc, F1-score:\", results)\n",
    "\n",
    "        test_dict[seed] = results"
   ],
   "metadata": {
    "collapsed": false,
    "pycharm": {
     "name": "#%%\n"
    }
   }
  },
  {
   "cell_type": "code",
   "execution_count": null,
   "outputs": [],
   "source": [
    "# with open('results seed=0 batch_size=16.txt','w') as data: \n",
    "#     data.write(str(val_dict))\n",
    "#     data.write('\\n')\n",
    "#     data.write(str(test_dict))"
   ],
   "metadata": {
    "collapsed": false,
    "pycharm": {
     "name": "#%%\n"
    }
   }
  },
  {
   "cell_type": "markdown",
   "source": [
    "## The following section is for loading the checkpoint weights and then obtaining the confusion matrix."
   ],
   "metadata": {
    "collapsed": false
   }
  },
  {
   "cell_type": "code",
   "execution_count": null,
   "outputs": [],
   "source": [
    "cms = []"
   ],
   "metadata": {
    "collapsed": false,
    "pycharm": {
     "name": "#%%\n"
    }
   }
  },
  {
   "cell_type": "code",
   "execution_count": null,
   "outputs": [],
   "source": [
    "#code for loading weights from checkpoint\n",
    "with tf.device('/device:GPU:0'):\n",
    "    results = []\n",
    "    splits = 5 # For five fold cross-validation.\n",
    "    #seeds = [i for i in range(splits)]  # Fix the seed value for reproducibility.\n",
    "    seeds = [4]#0, 1, 2, 3, 4]\n",
    "    \n",
    "    val_dict = {}\n",
    "    test_dict = {}\n",
    "    \n",
    "    # First get random train-test splits. Doesn't include validation, which will be obtained from the train set.\n",
    "    for seed in seeds:\n",
    "        x_t, x_test, y_t, y_test = train_test_split(sentences, y, random_state=seed, test_size=0.2)   # Global training and test sets.\n",
    "        print(x_test[:5])\n",
    "\n",
    "        # Evaluate the new model\n",
    "        max_len = 80\n",
    "        new_model = build_model(bert_layer, max_len=max_len)\n",
    "        new_model.summary()\n",
    "        # Loads the weights for new model\n",
    "        checkpoint_path = f\"/content/drive/Shareddrives/CMPUT 656 Data and Results/Result 29 Relations/Seed {seed}/training_relations/cp.ckpt\"\n",
    "        training_relations_path = f\"/content/drive/Shareddrives/CMPUT 656 Data and Results/Result 29 Relations/Seed {seed}/training_relations/\"\n",
    "        # /content/drive/Shareddrives/CMPUT 656 Data and Results/Result 29 Relations/Seed 0/training_relations/cp.ckpt.data-00000-of-00001\n",
    "        \n",
    "\n",
    "        new_model.load_weights(checkpoint_path)\n",
    "\n",
    "        #encode test data\n",
    "        test_input = bert_encode(x_test, tokenizer, max_len=max_len)\n",
    "\n",
    "        # Evaluate the model on the test data using `evaluate`\n",
    "        print(\"Evaluate on test data for \", seed)\n",
    "        # results = new_model.evaluate(test_input, y_test, batch_size=16)\n",
    "\n",
    "        #calculate F1-score\n",
    "        y_pred = new_model.predict(test_input, batch_size=16, verbose=1)\n",
    "        y_pred_label = get_labels(y_pred)\n",
    "        f1_value = f1_score(y_test, y_pred_label, average='macro')\n",
    "        np.savez_compressed(training_relations_path +  \"predictions.npz\", y_pred_label)\n",
    "        cm = confusion_matrix(y_pred_label, y_test, labels=[i for i in label_mappings.keys()])\n",
    "        cms.append(cm)\n",
    "\n",
    "        results.append(f1_value)\n",
    "        print(\"Test loss, Test acc, F1-score:\", results)"
   ],
   "metadata": {
    "collapsed": false,
    "pycharm": {
     "name": "#%%\n"
    }
   }
  },
  {
   "cell_type": "code",
   "execution_count": null,
   "outputs": [],
   "source": [
    "x_test[:20]\n"
   ],
   "metadata": {
    "collapsed": false,
    "pycharm": {
     "name": "#%%\n"
    }
   }
  },
  {
   "cell_type": "code",
   "execution_count": null,
   "outputs": [],
   "source": [
    "print(reduced_label_mappings[:20])"
   ],
   "metadata": {
    "collapsed": false,
    "pycharm": {
     "name": "#%%\n"
    }
   }
  },
  {
   "cell_type": "code",
   "execution_count": null,
   "outputs": [],
   "source": [
    "for k, v in label_mappings.items():\n",
    "    print(k, v)"
   ],
   "metadata": {
    "collapsed": false,
    "pycharm": {
     "name": "#%%\n"
    }
   }
  },
  {
   "cell_type": "code",
   "execution_count": null,
   "outputs": [],
   "source": [
    "reduced_label_mappings = {\n",
    "    0: 'None',\n",
    "    1: 'award=nominee',\n",
    "    2: 'author-works_written',\n",
    "    3: 'book-genre',\n",
    "    4: 'company-industry',\n",
    "    5: 'person-graduate',\n",
    "    6: 'actor-character',\n",
    "    7: 'director-film',\n",
    "    8: 'film-country',\n",
    "    9: 'film-genre',\n",
    "    10: 'film-language',\n",
    "    11: 'film-music',\n",
    "    12: 'film-production_company',\n",
    "    13: 'actor-film',\n",
    "    14: 'producer-film',\n",
    "    15: 'writer-film',\n",
    "    16: 'political_party-politician',\n",
    "    17: 'location-contains',\n",
    "    18: 'musician-album',\n",
    "    19: 'musician-origin',\n",
    "    20: 'person-place_of_death',\n",
    "    21: 'person-nationality',\n",
    "    22: 'person-parents',\n",
    "    23: 'person-place_of_birth',\n",
    "    24: 'person-profession',\n",
    "    25: 'person-religion',\n",
    "    26: 'person-spouse',\n",
    "    27: 'football_position-player',\n",
    "    28: 'sports_team-player'\n",
    "}"
   ],
   "metadata": {
    "collapsed": false,
    "pycharm": {
     "name": "#%%\n"
    }
   }
  },
  {
   "cell_type": "markdown",
   "source": [
    "# Read in all the predictions for different seeds and make a confusion matrix by averaging them together. \n",
    "\n",
    "NOTE: The confusion matrix is normalized."
   ],
   "metadata": {
    "collapsed": false
   }
  },
  {
   "cell_type": "code",
   "execution_count": null,
   "outputs": [],
   "source": [
    "cms = []\n",
    "seeds = [0, 1, 2, 3, 4]\n",
    "for seed in seeds:\n",
    "    training_relations_path = f\"/content/drive/Shareddrives/CMPUT 656 Data and Results/Result 29 Relations/Seed {seed}/training_relations/\"\n",
    "    x_t, x_test, y_t, y_test = train_test_split(sentences, y, random_state=seed, test_size=0.2)\n",
    "    del x_t\n",
    "    del x_test\n",
    "    del y_t\n",
    "    predictions = np.load(training_relations_path + \"predictions.npz\", allow_pickle=True)['arr_0'].tolist()\n",
    "    cms.append(confusion_matrix(predictions, y_test, labels=[i for i in label_mappings.keys()]))\n",
    "\n"
   ],
   "metadata": {
    "collapsed": false,
    "pycharm": {
     "name": "#%%\n"
    }
   }
  },
  {
   "cell_type": "code",
   "execution_count": null,
   "outputs": [],
   "source": [
    "plt.clf()\n",
    "averaged_cms = np.mean(cms, axis=0)\n",
    "averaged_cms = averaged_cms.astype('float') / averaged_cms.sum(axis=1)[:, np.newaxis]\n",
    "cms_df = pd.DataFrame(averaged_cms, index = [value for value in reduced_label_mappings.values()],\n",
    "                      columns=[value for value in reduced_label_mappings.values()])\n",
    "fig, ax = plt.subplots(figsize=(15, 10))\n",
    "heat = sns.heatmap(cms_df, vmin=0.0, vmax=1.0, cbar_kws={'label': 'Normalized value'})\n",
    "heat.figure.axes[-1].yaxis.label.set_size(20)\n",
    "yticks = [i.upper() for i in cms_df.index]\n",
    "xticks = [i.upper() for i in cms_df.columns]\n",
    "plt.yticks(plt.yticks()[0], labels=yticks, rotation=0)\n",
    "plt.xticks(plt.xticks()[0], labels=xticks, rotation=270)\n",
    "plt.title(\"Confusion matrix for all 29 relations - CoMemNet-BiLSTM\", fontsize=20)\n",
    "\n",
    "plt.show()"
   ],
   "metadata": {
    "collapsed": false,
    "pycharm": {
     "name": "#%%\n"
    }
   }
  },
  {
   "cell_type": "code",
   "execution_count": null,
   "outputs": [],
   "source": [
    "cm = confusion_matrix(y_pred_label, y_test, labels=[i for i in label_mappings.keys()])\n",
    "cms.append(cm)"
   ],
   "metadata": {
    "collapsed": false,
    "pycharm": {
     "name": "#%%\n"
    }
   }
  },
  {
   "cell_type": "code",
   "execution_count": null,
   "outputs": [],
   "source": [
    "import matplotlib.pyplot as plt\n",
    "import seaborn as sns\n",
    "averaged_cms = np.mean(cms, axis=0)\n",
    "averaged_cms = averaged_cms.astype('float') / averaged_cms.sum(axis=1)[:, np.newaxis]\n",
    "cms_df = pd.DataFrame(averaged_cms, index = [value for value in reduced_label_mappings.values()],\n",
    "                      columns=[value for value in reduced_label_mappings.values()])\n",
    "fig, ax = plt.subplots(figsize=(15, 10))\n",
    "heat = sns.heatmap(cms_df, vmin=0.0, vmax=1.0, cbar_kws={'label': 'Normalized value'})\n",
    "heat.figure.axes[-1].yaxis.label.set_size(20)\n",
    "yticks = [i.upper() for i in cms_df.index]\n",
    "xticks = [i.upper() for i in cms_df.columns]\n",
    "plt.yticks(plt.yticks()[0], labels=yticks, rotation=0)\n",
    "plt.xticks(plt.xticks()[0], labels=xticks, rotation=270)\n",
    "plt.title(\"Confusion matrix for all 29 relations\", fontsize=20)\n",
    "\n",
    "plt.show()"
   ],
   "metadata": {
    "collapsed": false,
    "pycharm": {
     "name": "#%%\n"
    }
   }
  },
  {
   "cell_type": "code",
   "execution_count": null,
   "outputs": [],
   "source": [
    "\n",
    "averaged_cms.shape"
   ],
   "metadata": {
    "collapsed": false,
    "pycharm": {
     "name": "#%%\n"
    }
   }
  },
  {
   "cell_type": "markdown",
   "source": [
    "# Gradio app to demo the model."
   ],
   "metadata": {
    "collapsed": false
   }
  },
  {
   "cell_type": "code",
   "execution_count": null,
   "outputs": [],
   "source": [
    "!pip install -q gradio\n",
    "!pip install sentencepiece"
   ],
   "metadata": {
    "collapsed": false,
    "pycharm": {
     "name": "#%%\n"
    }
   }
  },
  {
   "cell_type": "code",
   "execution_count": null,
   "outputs": [],
   "source": [
    "import tokenization\n",
    "import pandas as pd\n",
    "import os\n",
    "import numpy as np\n",
    "import matplotlib.pyplot as plt\n",
    "import seaborn as sns\n",
    "# from keras.callbacks import Callback\n",
    "from sklearn.metrics import confusion_matrix, f1_score, precision_score, recall_score\n",
    "\n",
    "import tensorflow as tf\n",
    "import tensorflow_hub as hub\n",
    "from tensorflow.keras.utils import to_categorical\n",
    "from sklearn import preprocessing\n",
    "from sklearn.model_selection import train_test_split\n",
    "from sklearn.model_selection import KFold\n",
    "from sklearn.utils import shuffle\n",
    "from sklearn.metrics import f1_score\n",
    "import gradio as gr"
   ],
   "metadata": {
    "collapsed": false,
    "pycharm": {
     "name": "#%%\n"
    }
   }
  },
  {
   "cell_type": "code",
   "execution_count": null,
   "outputs": [],
   "source": [
    "m_url = 'https://tfhub.dev/tensorflow/bert_en_uncased_L-12_H-768_A-12/2'\n",
    "bert_layer = hub.KerasLayer(m_url, trainable=False)"
   ],
   "metadata": {
    "collapsed": false,
    "pycharm": {
     "name": "#%%\n"
    }
   }
  },
  {
   "cell_type": "code",
   "execution_count": null,
   "outputs": [],
   "source": [
    "from google.colab import drive\n",
    "drive.mount('/content/drive')"
   ],
   "metadata": {
    "collapsed": false,
    "pycharm": {
     "name": "#%%\n"
    }
   }
  },
  {
   "cell_type": "code",
   "execution_count": null,
   "outputs": [],
   "source": [
    "def get_labels(y_pred):\n",
    "    y_pred_label = np.zeros((len(y_pred),1))\n",
    "    print(y_pred_label.shape)\n",
    "    for index in range(len(y_pred)):\n",
    "        y_pred_label[index] = np.argmax(y_pred[index])\n",
    "    return y_pred_label"
   ],
   "metadata": {
    "collapsed": false,
    "pycharm": {
     "name": "#%%\n"
    }
   }
  },
  {
   "cell_type": "code",
   "execution_count": null,
   "outputs": [],
   "source": [
    "vocab_file = bert_layer.resolved_object.vocab_file.asset_path.numpy()\n",
    "do_lower_case = bert_layer.resolved_object.do_lower_case.numpy()\n",
    "tokenizer = tokenization.FullTokenizer(vocab_file, do_lower_case)\n",
    "\n",
    "def bert_encode(texts, tokenizer, max_len=512):\n",
    "    all_tokens = []\n",
    "    all_masks = []\n",
    "    all_segments = []\n",
    "    \n",
    "    for text in texts:\n",
    "        text = tokenizer.tokenize(text)\n",
    "        \n",
    "        text = text[:max_len-2]\n",
    "        input_sequence = [\"[CLS]\"] + text + [\"[SEP]\"]\n",
    "        pad_len = max_len-len(input_sequence)\n",
    "        \n",
    "        tokens = tokenizer.convert_tokens_to_ids(input_sequence) + [0] * pad_len\n",
    "        pad_masks = [1] * len(input_sequence) + [0] * pad_len\n",
    "        segment_ids = [0] * max_len\n",
    "        \n",
    "        all_tokens.append(tokens)\n",
    "        all_masks.append(pad_masks)\n",
    "        all_segments.append(segment_ids)\n",
    "        \n",
    "    return np.array(all_tokens), np.array(all_masks), np.array(all_segments)"
   ],
   "metadata": {
    "collapsed": false,
    "pycharm": {
     "name": "#%%\n"
    }
   }
  },
  {
   "cell_type": "code",
   "execution_count": null,
   "outputs": [],
   "source": [
    "def build_model(bert_layer, max_len=512):\n",
    "    input_word_ids = tf.keras.Input(shape=(max_len,), dtype=tf.int32, name=\"input_word_ids\")\n",
    "    input_mask = tf.keras.Input(shape=(max_len,), dtype=tf.int32, name=\"input_mask\")\n",
    "    segment_ids = tf.keras.Input(shape=(max_len,), dtype=tf.int32, name=\"segment_ids\")\n",
    "    \n",
    "    pooled_output, sequence_output = bert_layer([input_word_ids, input_mask, segment_ids])\n",
    "    \n",
    "    print(tf.shape(sequence_output))\n",
    "    clf_output = sequence_output[:, :, :]\n",
    "    print(tf.shape(clf_output))\n",
    "    \n",
    "    lay = tf.keras.layers.Conv1D(filters=8, kernel_size=5, strides=1, padding=\"same\", activation=\"relu\")(clf_output)\n",
    "    lay = tf.keras.layers.MaxPooling1D(2, 2)(lay)\n",
    "    #lay = tf.keras.layers.LSTM(2, return_sequences=True, dropout=0.2)(lay)\n",
    "    lay = tf.keras.layers.Bidirectional(tf.keras.layers.LSTM(8, return_sequences=True, dropout=0.2))(lay)\n",
    "    lay = tf.keras.layers.Flatten()(lay)\n",
    "    out = tf.keras.layers.Dense(29, activation='softmax')(lay)\n",
    "    \n",
    "    model = tf.keras.models.Model(inputs=[input_word_ids, input_mask, segment_ids], outputs=out)\n",
    "    #model.compile(tf.keras.optimizers.Adam(lr=2e-5), loss='categorical_crossentropy', metrics=['accuracy'])\n",
    "    model.compile(tf.keras.optimizers.Adam(lr=2e-5), loss='sparse_categorical_crossentropy', metrics=['accuracy'])\n",
    "    #model.compile(tf.keras.optimizers.RMSprop(lr=0.001), loss='sparse_categorical_crossentropy', metrics=['accuracy'])\n",
    "    \n",
    "    return model"
   ],
   "metadata": {
    "collapsed": false,
    "pycharm": {
     "name": "#%%\n"
    }
   }
  },
  {
   "cell_type": "code",
   "execution_count": null,
   "outputs": [],
   "source": [
    "reduced_label_mappings = {\n",
    "    0: 'None',\n",
    "    1: 'award-nominee',\n",
    "    2: 'author-works_written',\n",
    "    3: 'book-genre',\n",
    "    4: 'company-industry',\n",
    "    5: 'person-graduate',\n",
    "    6: 'actor-character',\n",
    "    7: 'director-film',\n",
    "    8: 'film-country',\n",
    "    9: 'film-genre',\n",
    "    10: 'film-language',\n",
    "    11: 'film-music',\n",
    "    12: 'film-production_company',\n",
    "    13: 'actor-film',\n",
    "    14: 'producer-film',\n",
    "    15: 'writer-film',\n",
    "    16: 'political_party-politician',\n",
    "    17: 'location-contains',\n",
    "    18: 'musician-album',\n",
    "    19: 'musician-origin',\n",
    "    20: 'person-place_of_death',\n",
    "    21: 'person-nationality',\n",
    "    22: 'person-parents',\n",
    "    23: 'person-place_of_birth',\n",
    "    24: 'person-profession',\n",
    "    25: 'person-religion',\n",
    "    26: 'person-spouse',\n",
    "    27: 'football_position-player',\n",
    "    28: 'sports_team-player'\n",
    "}"
   ],
   "metadata": {
    "collapsed": false,
    "pycharm": {
     "name": "#%%\n"
    }
   }
  },
  {
   "cell_type": "code",
   "execution_count": null,
   "outputs": [],
   "source": [
    "# with tf.device('/device:GPU:0'):\n",
    "#     results = []\n",
    "#     splits = 5 # For five fold cross-validation.\n",
    "#     #seeds = [i for i in range(splits)]  # Fix the seed value for reproducibility.\n",
    "#     seeds = [4]#0, 1, 2, 3, 4]\n",
    "    \n",
    "#     val_dict = {}\n",
    "#     test_dict = {}\n",
    "    \n",
    "#     # First get random train-test splits. Doesn't include validation, which will be obtained from the train set.\n",
    "#     for seed in seeds:\n",
    "#         x_t, x_test, y_t, y_test = train_test_split(sentences, y, random_state=seed, test_size=0.2)   # Global training and test sets.\n",
    "\n",
    "#         # Evaluate the new model\n",
    "#         max_len = 80\n",
    "#         new_model = build_model(bert_layer, max_len=max_len)\n",
    "#         new_model.summary()\n",
    "#         # Loads the weights for new model\n",
    "#         checkpoint_path = f\"/content/drive/Shareddrives/CMPUT 656 Data and Results/Result 29 Relations/Seed {seed}/training_relations/cp.ckpt\"\n",
    "#         training_relations_path = f\"/content/drive/Shareddrives/CMPUT 656 Data and Results/Result 29 Relations/Seed {seed}/training_relations/\"\n",
    "#         # /content/drive/Shareddrives/CMPUT 656 Data and Results/Result 29 Relations/Seed 0/training_relations/cp.ckpt.data-00000-of-00001\n",
    "        \n",
    "\n",
    "#         new_model.load_weights(checkpoint_path)\n",
    "\n",
    "#         #encode test data\n",
    "#         test_input = bert_encode(x_test, tokenizer, max_len=max_len)\n",
    "\n",
    "#         # Evaluate the model on the test data using `evaluate`\n",
    "#         print(\"Evaluate on test data for \", seed)\n",
    "#         # results = new_model.evaluate(test_input, y_test, batch_size=16)\n",
    "\n",
    "#         #calculate F1-score\n",
    "#         y_pred = new_model.predict(test_input, batch_size=16, verbose=1)\n",
    "#         y_pred_label = get_labels(y_pred)\n",
    "#         f1_value = f1_score(y_test, y_pred_label, average='macro')\n",
    "#         np.savez_compressed(training_relations_path +  \"predictions.npz\", y_pred_label)\n",
    "#         cm = confusion_matrix(y_pred_label, y_test, labels=[i for i in label_mappings.keys()])\n",
    "#         cms.append(cm)\n",
    "\n",
    "#         results.append(f1_value)\n",
    "#         print(\"Test loss, Test acc, F1-score:\", results)"
   ],
   "metadata": {
    "collapsed": false,
    "pycharm": {
     "name": "#%%\n"
    }
   }
  },
  {
   "cell_type": "code",
   "execution_count": null,
   "outputs": [],
   "source": [
    "seed = 0\n",
    "checkpoint_path = f\"/content/drive/Shareddrives/CMPUT 656 Data and Results/Result 29 Relations/Seed {seed}/training_relations/cp.ckpt\"\n",
    "max_len = 80\n",
    "\n",
    "new_model = build_model(bert_layer, max_len=max_len)\n",
    "new_model.load_weights(checkpoint_path)"
   ],
   "metadata": {
    "collapsed": false,
    "pycharm": {
     "name": "#%%\n"
    }
   }
  },
  {
   "cell_type": "code",
   "execution_count": null,
   "outputs": [],
   "source": [
    "def predict_relation(sentence):\n",
    "    print(sentence)\n",
    "    # df = pd.DataFrame.from_dict(\n",
    "    #     {\n",
    "    #         \"Pclass\": [passenger_class + 1],\n",
    "    #         \"Sex\": [0 if is_male else 1],\n",
    "    #         \"Age\": [age],\n",
    "    #         \"Company\": [\n",
    "    #             (1 if \"Sibling\" in company else 0) + (2 if \"Child\" in company else 0)\n",
    "    #         ],\n",
    "    #         \"Fare\": [fare],\n",
    "    #         \"Embarked\": [embark_point + 1],\n",
    "    #     }\n",
    "    # )\n",
    "    \n",
    "    test_input = bert_encode(np.array([sentence]), tokenizer, max_len=max_len)\n",
    "    y_pred = new_model.predict(test_input, batch_size=16, verbose=1)\n",
    "    y_pred_label = get_labels(y_pred)\n",
    "    relations = [rel for rel in reduced_label_mappings.values()]\n",
    "    probabilities = y_pred.tolist()[0]\n",
    "    result_dict = {}\n",
    "    for k, v in zip(relations, probabilities):\n",
    "        result_dict[k] = v\n",
    "    return result_dict\n",
    "    # return y_pred_label, y_pred"
   ],
   "metadata": {
    "collapsed": false,
    "pycharm": {
     "name": "#%%\n"
    }
   }
  },
  {
   "cell_type": "code",
   "execution_count": null,
   "outputs": [],
   "source": [
    "# [rel for rel in reduced_label_mappings.values()]"
   ],
   "metadata": {
    "collapsed": false,
    "pycharm": {
     "name": "#%%\n"
    }
   }
  },
  {
   "cell_type": "code",
   "execution_count": null,
   "outputs": [],
   "source": [
    "predict_relation(\"TV works Role(s) Yugo Kanno Composer\")"
   ],
   "metadata": {
    "collapsed": false,
    "pycharm": {
     "name": "#%%\n"
    }
   }
  },
  {
   "cell_type": "code",
   "execution_count": null,
   "outputs": [],
   "source": [
    "iface = gr.Interface(\n",
    "    predict_relation,\n",
    "    inputs=\"text\",\n",
    "    outputs=\"label\",\n",
    "    interpretation=\"default\",\n",
    "    title=\"CoMemNet - Relation Extractor\", description=\"NOTE: Model is trained on Wikipedia table data and not continuous text.\"\n",
    ")\n",
    "\n",
    "iface.launch(debug=False)"
   ],
   "metadata": {
    "collapsed": false,
    "pycharm": {
     "name": "#%%\n"
    }
   }
  },
  {
   "cell_type": "code",
   "execution_count": null,
   "outputs": [],
   "source": [
    "!git clone https://huggingface.co/spaces/simpleParadox/RE_656"
   ],
   "metadata": {
    "collapsed": false,
    "pycharm": {
     "name": "#%%\n"
    }
   }
  }
 ],
 "metadata": {
  "accelerator": "GPU",
  "colab": {
   "collapsed_sections": [],
   "name": "Copy of CMPUT 656 Project.ipynb",
   "provenance": [],
   "include_colab_link": true
  },
  "kernelspec": {
   "display_name": "Python 3 (ipykernel)",
   "language": "python",
   "name": "python3"
  },
  "language_info": {
   "codemirror_mode": {
    "name": "ipython",
    "version": 3
   },
   "file_extension": ".py",
   "mimetype": "text/x-python",
   "name": "python",
   "nbconvert_exporter": "python",
   "pygments_lexer": "ipython3",
   "version": "3.9.7"
  }
 },
 "nbformat": 4,
 "nbformat_minor": 5
}