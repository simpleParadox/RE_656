{
 "cells": [
  {
   "cell_type": "code",
   "execution_count": 11,
   "id": "a18b1e05",
   "metadata": {},
   "outputs": [],
   "source": [
    "import ast\n",
    "import glob\n",
    "\n",
    "file_path = 'results seed=0 batch_size=4.txt'\n",
    "val_results_list = []\n",
    "test_results_list = []\n",
    "\n",
    "for file in glob.glob('*batch_size=4.txt'):\n",
    "    with open(file, 'r') as f:\n",
    "        val_result = f.readline()\n",
    "        test_result = f.readline()\n",
    "        # reconstructing the data as a dictionary\n",
    "        temp_dict_val = ast.literal_eval(val_result)\n",
    "        temp_dict_test = ast.literal_eval(test_result)\n",
    "        #appending result to lists\n",
    "        val_results_list.append(temp_dict_val)\n",
    "        test_results_list.append(temp_dict_test)"
   ]
  },
  {
   "cell_type": "code",
   "execution_count": 13,
   "id": "79ef7219",
   "metadata": {},
   "outputs": [
    {
     "name": "stdout",
     "output_type": "stream",
     "text": [
      "[{0: [0.015417564660310745, 0.9981022477149963, 0.9962773644915411]}, {1: [0.011791502125561237, 0.9975029826164246, 0.994536911835433]}, {3: [0.00825187936425209, 0.9980523586273193, 0.9957405744677071]}, {4: [0.0114442128688097, 0.998401939868927, 0.9967363589862802]}, {5: [0.015577326528728008, 0.9965541362762451, 0.9931158304749209]}]\n"
     ]
    }
   ],
   "source": [
    "print(test_results_list)"
   ]
  },
  {
   "cell_type": "code",
   "execution_count": 29,
   "id": "93ebb6ee",
   "metadata": {},
   "outputs": [],
   "source": [
    "accuracy_list = []\n",
    "f1_list = []\n",
    "\n",
    "for test_result in test_results_list:\n",
    "    for value in test_result.values():\n",
    "        accuracy_list.append(value[1])\n",
    "        f1_list.append(value[2])"
   ]
  },
  {
   "cell_type": "code",
   "execution_count": 39,
   "id": "f1876be7",
   "metadata": {},
   "outputs": [
    {
     "name": "stdout",
     "output_type": "stream",
     "text": [
      "test accuracy average is 0.99772\n"
     ]
    }
   ],
   "source": [
    "accuracy_avg = sum(accuracy_list) / len(accuracy_list)\n",
    "print(\"test accuracy average is {:.5f}\".format(accuracy_avg))"
   ]
  },
  {
   "cell_type": "code",
   "execution_count": 41,
   "id": "55c94c17",
   "metadata": {},
   "outputs": [
    {
     "name": "stdout",
     "output_type": "stream",
     "text": [
      "test accuracy average is 0.99528\n"
     ]
    }
   ],
   "source": [
    "f1_avg = sum(f1_list) / len(f1_list)\n",
    "print(\"test accuracy average is {:.5}\".format(f1_avg))"
   ]
  }
 ],
 "metadata": {
  "kernelspec": {
   "display_name": "Python 3 (ipykernel)",
   "language": "python",
   "name": "python3"
  },
  "language_info": {
   "codemirror_mode": {
    "name": "ipython",
    "version": 3
   },
   "file_extension": ".py",
   "mimetype": "text/x-python",
   "name": "python",
   "nbconvert_exporter": "python",
   "pygments_lexer": "ipython3",
   "version": "3.9.7"
  }
 },
 "nbformat": 4,
 "nbformat_minor": 5
}
